{
 "cells": [
  {
   "cell_type": "markdown",
   "metadata": {},
   "source": [
    "# Large scale text analysis with deep learning (3 points)\n",
    "\n",
    "Today we're gonna apply the newly learned tools for the task of predicting job salary.\n",
    "\n",
    "<img src=\"https://storage.googleapis.com/kaggle-competitions/kaggle/3342/media/salary%20prediction%20engine%20v2.png\" width=400px>\n",
    "\n",
    "_Special thanks to [Oleg Vasilev](https://github.com/Omrigan/) for the core assignment idea._"
   ]
  },
  {
   "cell_type": "code",
   "execution_count": 2,
   "metadata": {},
   "outputs": [],
   "source": [
    "import numpy as np\n",
    "import pandas as pd\n",
    "import matplotlib.pyplot as plt\n",
    "%matplotlib inline"
   ]
  },
  {
   "cell_type": "markdown",
   "metadata": {},
   "source": [
    "### About the challenge\n",
    "For starters, let's download and unpack the data from [here]. \n",
    "\n",
    "You can also get it from [yadisk url](https://yadi.sk/d/vVEOWPFY3NruT7) the competition [page](https://www.kaggle.com/c/job-salary-prediction/data) (pick `Train_rev1.*`)."
   ]
  },
  {
   "cell_type": "code",
   "execution_count": 3,
   "metadata": {},
   "outputs": [
    {
     "data": {
      "text/plain": [
       "(244768, 12)"
      ]
     },
     "execution_count": 3,
     "metadata": {},
     "output_type": "execute_result"
    }
   ],
   "source": [
    "#!wget https://ysda-seminars.s3.eu-central-1.amazonaws.com/Train_rev1.zip\n",
    "#!unzip Train_rev1.zip\n",
    "data = pd.read_csv(\"./Train_rev1.csv\", index_col=None)\n",
    "data.shape"
   ]
  },
  {
   "cell_type": "code",
   "execution_count": 4,
   "metadata": {},
   "outputs": [
    {
     "data": {
      "text/html": [
       "<div>\n",
       "<style scoped>\n",
       "    .dataframe tbody tr th:only-of-type {\n",
       "        vertical-align: middle;\n",
       "    }\n",
       "\n",
       "    .dataframe tbody tr th {\n",
       "        vertical-align: top;\n",
       "    }\n",
       "\n",
       "    .dataframe thead th {\n",
       "        text-align: right;\n",
       "    }\n",
       "</style>\n",
       "<table border=\"1\" class=\"dataframe\">\n",
       "  <thead>\n",
       "    <tr style=\"text-align: right;\">\n",
       "      <th></th>\n",
       "      <th>Id</th>\n",
       "      <th>Title</th>\n",
       "      <th>FullDescription</th>\n",
       "      <th>LocationRaw</th>\n",
       "      <th>LocationNormalized</th>\n",
       "      <th>ContractType</th>\n",
       "      <th>ContractTime</th>\n",
       "      <th>Company</th>\n",
       "      <th>Category</th>\n",
       "      <th>SalaryRaw</th>\n",
       "      <th>SalaryNormalized</th>\n",
       "      <th>SourceName</th>\n",
       "    </tr>\n",
       "  </thead>\n",
       "  <tbody>\n",
       "    <tr>\n",
       "      <th>0</th>\n",
       "      <td>12612628</td>\n",
       "      <td>Engineering Systems Analyst</td>\n",
       "      <td>Engineering Systems Analyst Dorking Surrey Sal...</td>\n",
       "      <td>Dorking, Surrey, Surrey</td>\n",
       "      <td>Dorking</td>\n",
       "      <td>NaN</td>\n",
       "      <td>permanent</td>\n",
       "      <td>Gregory Martin International</td>\n",
       "      <td>Engineering Jobs</td>\n",
       "      <td>20000 - 30000/annum 20-30K</td>\n",
       "      <td>25000</td>\n",
       "      <td>cv-library.co.uk</td>\n",
       "    </tr>\n",
       "    <tr>\n",
       "      <th>1</th>\n",
       "      <td>12612830</td>\n",
       "      <td>Stress Engineer Glasgow</td>\n",
       "      <td>Stress Engineer Glasgow Salary **** to **** We...</td>\n",
       "      <td>Glasgow, Scotland, Scotland</td>\n",
       "      <td>Glasgow</td>\n",
       "      <td>NaN</td>\n",
       "      <td>permanent</td>\n",
       "      <td>Gregory Martin International</td>\n",
       "      <td>Engineering Jobs</td>\n",
       "      <td>25000 - 35000/annum 25-35K</td>\n",
       "      <td>30000</td>\n",
       "      <td>cv-library.co.uk</td>\n",
       "    </tr>\n",
       "    <tr>\n",
       "      <th>2</th>\n",
       "      <td>12612844</td>\n",
       "      <td>Modelling and simulation analyst</td>\n",
       "      <td>Mathematical Modeller / Simulation Analyst / O...</td>\n",
       "      <td>Hampshire, South East, South East</td>\n",
       "      <td>Hampshire</td>\n",
       "      <td>NaN</td>\n",
       "      <td>permanent</td>\n",
       "      <td>Gregory Martin International</td>\n",
       "      <td>Engineering Jobs</td>\n",
       "      <td>20000 - 40000/annum 20-40K</td>\n",
       "      <td>30000</td>\n",
       "      <td>cv-library.co.uk</td>\n",
       "    </tr>\n",
       "    <tr>\n",
       "      <th>3</th>\n",
       "      <td>12613049</td>\n",
       "      <td>Engineering Systems Analyst / Mathematical Mod...</td>\n",
       "      <td>Engineering Systems Analyst / Mathematical Mod...</td>\n",
       "      <td>Surrey, South East, South East</td>\n",
       "      <td>Surrey</td>\n",
       "      <td>NaN</td>\n",
       "      <td>permanent</td>\n",
       "      <td>Gregory Martin International</td>\n",
       "      <td>Engineering Jobs</td>\n",
       "      <td>25000 - 30000/annum 25K-30K negotiable</td>\n",
       "      <td>27500</td>\n",
       "      <td>cv-library.co.uk</td>\n",
       "    </tr>\n",
       "    <tr>\n",
       "      <th>4</th>\n",
       "      <td>12613647</td>\n",
       "      <td>Pioneer, Miser Engineering Systems Analyst</td>\n",
       "      <td>Pioneer, Miser  Engineering Systems Analyst Do...</td>\n",
       "      <td>Surrey, South East, South East</td>\n",
       "      <td>Surrey</td>\n",
       "      <td>NaN</td>\n",
       "      <td>permanent</td>\n",
       "      <td>Gregory Martin International</td>\n",
       "      <td>Engineering Jobs</td>\n",
       "      <td>20000 - 30000/annum 20-30K</td>\n",
       "      <td>25000</td>\n",
       "      <td>cv-library.co.uk</td>\n",
       "    </tr>\n",
       "  </tbody>\n",
       "</table>\n",
       "</div>"
      ],
      "text/plain": [
       "         Id                                              Title  \\\n",
       "0  12612628                        Engineering Systems Analyst   \n",
       "1  12612830                            Stress Engineer Glasgow   \n",
       "2  12612844                   Modelling and simulation analyst   \n",
       "3  12613049  Engineering Systems Analyst / Mathematical Mod...   \n",
       "4  12613647         Pioneer, Miser Engineering Systems Analyst   \n",
       "\n",
       "                                     FullDescription  \\\n",
       "0  Engineering Systems Analyst Dorking Surrey Sal...   \n",
       "1  Stress Engineer Glasgow Salary **** to **** We...   \n",
       "2  Mathematical Modeller / Simulation Analyst / O...   \n",
       "3  Engineering Systems Analyst / Mathematical Mod...   \n",
       "4  Pioneer, Miser  Engineering Systems Analyst Do...   \n",
       "\n",
       "                         LocationRaw LocationNormalized ContractType  \\\n",
       "0            Dorking, Surrey, Surrey            Dorking          NaN   \n",
       "1        Glasgow, Scotland, Scotland            Glasgow          NaN   \n",
       "2  Hampshire, South East, South East          Hampshire          NaN   \n",
       "3     Surrey, South East, South East             Surrey          NaN   \n",
       "4     Surrey, South East, South East             Surrey          NaN   \n",
       "\n",
       "  ContractTime                       Company          Category  \\\n",
       "0    permanent  Gregory Martin International  Engineering Jobs   \n",
       "1    permanent  Gregory Martin International  Engineering Jobs   \n",
       "2    permanent  Gregory Martin International  Engineering Jobs   \n",
       "3    permanent  Gregory Martin International  Engineering Jobs   \n",
       "4    permanent  Gregory Martin International  Engineering Jobs   \n",
       "\n",
       "                                SalaryRaw  SalaryNormalized        SourceName  \n",
       "0              20000 - 30000/annum 20-30K             25000  cv-library.co.uk  \n",
       "1              25000 - 35000/annum 25-35K             30000  cv-library.co.uk  \n",
       "2              20000 - 40000/annum 20-40K             30000  cv-library.co.uk  \n",
       "3  25000 - 30000/annum 25K-30K negotiable             27500  cv-library.co.uk  \n",
       "4              20000 - 30000/annum 20-30K             25000  cv-library.co.uk  "
      ]
     },
     "execution_count": 4,
     "metadata": {},
     "output_type": "execute_result"
    }
   ],
   "source": [
    "data.head()"
   ]
  },
  {
   "cell_type": "markdown",
   "metadata": {},
   "source": [
    "One problem with salary prediction is that it's oddly distributed: there are many people who are paid standard salaries and a few that get tons o money. The distribution is fat-tailed on the right side, which is inconvenient for MSE minimization.\n",
    "\n",
    "There are several techniques to combat this: using a different loss function, predicting log-target instead of raw target or even replacing targets with their percentiles among all salaries in the training set. We gonna use logarithm for now.\n",
    "\n",
    "_You can read more [in the official description](https://www.kaggle.com/c/job-salary-prediction#description)._"
   ]
  },
  {
   "cell_type": "code",
   "execution_count": 5,
   "metadata": {},
   "outputs": [
    {
     "data": {
      "image/png": "[encoded data removed]",
      "text/plain": [
       "<Figure size 576x288 with 2 Axes>"
      ]
     },
     "metadata": {
      "needs_background": "light"
     },
     "output_type": "display_data"
    }
   ],
   "source": [
    "data['Log1pSalary'] = np.log1p(data['SalaryNormalized']).astype('float32')\n",
    "\n",
    "plt.figure(figsize=[8, 4])\n",
    "plt.subplot(1, 2, 1)\n",
    "plt.hist(data[\"SalaryNormalized\"], bins=20);\n",
    "\n",
    "plt.subplot(1, 2, 2)\n",
    "plt.hist(data['Log1pSalary'], bins=20);"
   ]
  },
  {
   "cell_type": "markdown",
   "metadata": {},
   "source": [
    "Our task is to predict one number, __Log1pSalary__.\n",
    "\n",
    "To do so, our model can access a number of features:\n",
    "* Free text: __`Title`__ and  __`FullDescription`__\n",
    "* Categorical: __`Category`__, __`Company`__, __`LocationNormalized`__, __`ContractType`__, and __`ContractTime`__."
   ]
  },
  {
   "cell_type": "code",
   "execution_count": 6,
   "metadata": {},
   "outputs": [
    {
     "data": {
      "text/html": [
       "<div>\n",
       "<style scoped>\n",
       "    .dataframe tbody tr th:only-of-type {\n",
       "        vertical-align: middle;\n",
       "    }\n",
       "\n",
       "    .dataframe tbody tr th {\n",
       "        vertical-align: top;\n",
       "    }\n",
       "\n",
       "    .dataframe thead th {\n",
       "        text-align: right;\n",
       "    }\n",
       "</style>\n",
       "<table border=\"1\" class=\"dataframe\">\n",
       "  <thead>\n",
       "    <tr style=\"text-align: right;\">\n",
       "      <th></th>\n",
       "      <th>Id</th>\n",
       "      <th>Title</th>\n",
       "      <th>FullDescription</th>\n",
       "      <th>LocationRaw</th>\n",
       "      <th>LocationNormalized</th>\n",
       "      <th>ContractType</th>\n",
       "      <th>ContractTime</th>\n",
       "      <th>Company</th>\n",
       "      <th>Category</th>\n",
       "      <th>SalaryRaw</th>\n",
       "      <th>SalaryNormalized</th>\n",
       "      <th>SourceName</th>\n",
       "      <th>Log1pSalary</th>\n",
       "    </tr>\n",
       "  </thead>\n",
       "  <tbody>\n",
       "    <tr>\n",
       "      <th>27393</th>\n",
       "      <td>67902031</td>\n",
       "      <td>PTS Plumber / Pipefitter</td>\n",
       "      <td>Our client, one of the UK s leading M s who ho...</td>\n",
       "      <td>South-East London, London</td>\n",
       "      <td>South East London</td>\n",
       "      <td>NaN</td>\n",
       "      <td>contract</td>\n",
       "      <td>1st Step</td>\n",
       "      <td>Trade &amp; Construction Jobs</td>\n",
       "      <td>14/hour</td>\n",
       "      <td>26880</td>\n",
       "      <td>cv-library.co.uk</td>\n",
       "      <td>10.199175</td>\n",
       "    </tr>\n",
       "    <tr>\n",
       "      <th>244284</th>\n",
       "      <td>72695558</td>\n",
       "      <td>IT Programme Delivery Manager</td>\n",
       "      <td>IT Programme Delivery Manager Up to ****k  ben...</td>\n",
       "      <td>South West London,Surrey</td>\n",
       "      <td>London</td>\n",
       "      <td>NaN</td>\n",
       "      <td>permanent</td>\n",
       "      <td>Alderbridge Consulting Ltd</td>\n",
       "      <td>IT Jobs</td>\n",
       "      <td>65K - 75k</td>\n",
       "      <td>70000</td>\n",
       "      <td>jobsite.co.uk</td>\n",
       "      <td>11.156265</td>\n",
       "    </tr>\n",
       "    <tr>\n",
       "      <th>56364</th>\n",
       "      <td>68682347</td>\n",
       "      <td>Marketing &amp; Sales Assistant  Immediate Start</td>\n",
       "      <td>Marketing Sales Assistant  Immediate Start  No...</td>\n",
       "      <td>Nottingham Nottinghamshire East Midlands</td>\n",
       "      <td>Nottingham</td>\n",
       "      <td>NaN</td>\n",
       "      <td>permanent</td>\n",
       "      <td>SSC Marketing</td>\n",
       "      <td>Sales Jobs</td>\n",
       "      <td>From 15,000 to 20,000 per annum (based on resu...</td>\n",
       "      <td>17500</td>\n",
       "      <td>totaljobs.com</td>\n",
       "      <td>9.770013</td>\n",
       "    </tr>\n",
       "  </tbody>\n",
       "</table>\n",
       "</div>"
      ],
      "text/plain": [
       "              Id                                         Title  \\\n",
       "27393   67902031                      PTS Plumber / Pipefitter   \n",
       "244284  72695558                 IT Programme Delivery Manager   \n",
       "56364   68682347  Marketing & Sales Assistant  Immediate Start   \n",
       "\n",
       "                                          FullDescription  \\\n",
       "27393   Our client, one of the UK s leading M s who ho...   \n",
       "244284  IT Programme Delivery Manager Up to ****k  ben...   \n",
       "56364   Marketing Sales Assistant  Immediate Start  No...   \n",
       "\n",
       "                                     LocationRaw LocationNormalized  \\\n",
       "27393                  South-East London, London  South East London   \n",
       "244284                  South West London,Surrey             London   \n",
       "56364   Nottingham Nottinghamshire East Midlands         Nottingham   \n",
       "\n",
       "       ContractType ContractTime                     Company  \\\n",
       "27393           NaN     contract                    1st Step   \n",
       "244284          NaN    permanent  Alderbridge Consulting Ltd   \n",
       "56364           NaN    permanent               SSC Marketing   \n",
       "\n",
       "                         Category  \\\n",
       "27393   Trade & Construction Jobs   \n",
       "244284                    IT Jobs   \n",
       "56364                  Sales Jobs   \n",
       "\n",
       "                                                SalaryRaw  SalaryNormalized  \\\n",
       "27393                                             14/hour             26880   \n",
       "244284                                          65K - 75k             70000   \n",
       "56364   From 15,000 to 20,000 per annum (based on resu...             17500   \n",
       "\n",
       "              SourceName  Log1pSalary  \n",
       "27393   cv-library.co.uk    10.199175  \n",
       "244284     jobsite.co.uk    11.156265  \n",
       "56364      totaljobs.com     9.770013  "
      ]
     },
     "execution_count": 6,
     "metadata": {},
     "output_type": "execute_result"
    }
   ],
   "source": [
    "text_columns = [\"Title\", \"FullDescription\"]\n",
    "categorical_columns = [\"Category\", \"Company\", \"LocationNormalized\", \"ContractType\", \"ContractTime\"]\n",
    "TARGET_COLUMN = \"Log1pSalary\"\n",
    "\n",
    "data[categorical_columns] = data[categorical_columns].fillna('NaN') # cast missing values to string \"NaN\"\n",
    "\n",
    "data.sample(3)"
   ]
  },
  {
   "cell_type": "markdown",
   "metadata": {},
   "source": [
    "### Preprocessing text data\n",
    "\n",
    "Just like last week, applying NLP to a problem begins from tokenization: splitting raw text into sequences of tokens (words, punctuation, etc).\n",
    "\n",
    "__Your task__ is to lowercase and tokenize all texts under `Title` and `FullDescription` columns. Store the tokenized data as a __space-separated__ string of tokens for performance reasons.\n",
    "\n",
    "It's okay to use nltk tokenizers. Assertions were designed for WordPunctTokenizer, slight deviations are okay."
   ]
  },
  {
   "cell_type": "code",
   "execution_count": 7,
   "metadata": {
    "scrolled": true
   },
   "outputs": [
    {
     "name": "stdout",
     "output_type": "stream",
     "text": [
      "Raw text:\n",
      "2         Mathematical Modeller / Simulation Analyst / O...\n",
      "100002    A successful and high achieving specialist sch...\n",
      "200002    Web Designer  HTML, CSS, JavaScript, Photoshop...\n",
      "Name: FullDescription, dtype: object\n"
     ]
    }
   ],
   "source": [
    "print(\"Raw text:\")\n",
    "print(data[\"FullDescription\"][2::100000])"
   ]
  },
  {
   "cell_type": "code",
   "execution_count": 8,
   "metadata": {},
   "outputs": [],
   "source": [
    "def make_tokenize(tokenireturnurn):\n",
    "    def tokenize(text):\n",
    "        try:\n",
    "            return ' '.join(tokenizer.tokenize(text.lower()))\n",
    "        except:\n",
    "            return 'PAD'\n",
    "    return tokenize"
   ]
  },
  {
   "cell_type": "code",
   "execution_count": 9,
   "metadata": {},
   "outputs": [],
   "source": [
    "import nltk\n",
    "\n",
    "tokenizer = nltk.tokenize.WordPunctTokenizer()\n",
    "tokenize_func = make_tokenize(tokenizer)\n",
    "\n",
    "data[[\"FullDescription\", \"Title\"]] = data[[\"FullDescription\", \"Title\"]].applymap(\n",
    "    tokenize_func\n",
    ")"
   ]
  },
  {
   "cell_type": "markdown",
   "metadata": {},
   "source": [
    "Now we can assume that our text is a space-separated list of tokens:"
   ]
  },
  {
   "cell_type": "code",
   "execution_count": 10,
   "metadata": {},
   "outputs": [
    {
     "name": "stdout",
     "output_type": "stream",
     "text": [
      "Tokenized:\n",
      "2         mathematical modeller / simulation analyst / o...\n",
      "100002    a successful and high achieving specialist sch...\n",
      "200002    web designer html , css , javascript , photosh...\n",
      "Name: FullDescription, dtype: object\n"
     ]
    }
   ],
   "source": [
    "print(\"Tokenized:\")\n",
    "print(data[\"FullDescription\"][2::100000])\n",
    "assert data[\"FullDescription\"][2][:50] == 'mathematical modeller / simulation analyst / opera'\n",
    "assert data[\"Title\"][54321] == 'international digital account manager ( german )'"
   ]
  },
  {
   "cell_type": "markdown",
   "metadata": {},
   "source": [
    "Not all words are equally useful. Some of them are typos or rare words that are only present a few times. \n",
    "\n",
    "Let's count how many times is each word present in the data so that we can build a \"white list\" of known words."
   ]
  },
  {
   "cell_type": "code",
   "execution_count": 11,
   "metadata": {},
   "outputs": [],
   "source": [
    "from collections import Counter\n",
    "token_counts = Counter()\n",
    "\n",
    "def inc_token_counts(token):\n",
    "    token_counts[token] += 1\n",
    "\n",
    "# Count how many times does each token occur in both \"Title\" and \"FullDescription\" in total\n",
    "_ = data[[\"FullDescription\", \"Title\"]].applymap(\n",
    "    lambda x: [inc_token_counts(t) for t in x.split(' ')], \n",
    "    na_action='ignore'\n",
    ")"
   ]
  },
  {
   "cell_type": "code",
   "execution_count": 12,
   "metadata": {},
   "outputs": [
    {
     "name": "stdout",
     "output_type": "stream",
     "text": [
      "Total unique tokens : 202705\n",
      "('and', 2657388)\n",
      "('.', 2523216)\n",
      "(',', 2318606)\n",
      "('the', 2080994)\n",
      "('to', 2019884)\n",
      "...\n",
      "('improvemen', 1)\n",
      "('techniciancivil', 1)\n",
      "('mlnlycke', 1)\n",
      "Correct!\n"
     ]
    }
   ],
   "source": [
    "print(\"Total unique tokens :\", len(token_counts))\n",
    "print('\\n'.join(map(str, token_counts.most_common(n=5))))\n",
    "print('...')\n",
    "print('\\n'.join(map(str, token_counts.most_common()[-3:])))\n",
    "\n",
    "assert token_counts.most_common(1)[0][1] in  range(2600000, 2700000)\n",
    "assert len(token_counts) in range(200000, 210000)\n",
    "print('Correct!')"
   ]
  },
  {
   "cell_type": "code",
   "execution_count": 13,
   "metadata": {},
   "outputs": [
    {
     "data": {
      "image/png": "[encoded data removed]",
      "text/plain": [
       "<Figure size 432x288 with 1 Axes>"
      ]
     },
     "metadata": {
      "needs_background": "light"
     },
     "output_type": "display_data"
    }
   ],
   "source": [
    "# Let's see how many words are there for each count\n",
    "plt.hist(list(token_counts.values()), range=[0, 10**4], bins=50, log=True)\n",
    "plt.xlabel(\"Word counts\");"
   ]
  },
  {
   "cell_type": "markdown",
   "metadata": {},
   "source": [
    "__Task 1.1__ Get a list of all tokens that occur at least 10 times."
   ]
  },
  {
   "cell_type": "code",
   "execution_count": null,
   "metadata": {},
   "outputs": [],
   "source": [
    "min_count = 100\n",
    "\n",
    "# tokens from token_counts keys that had at least min_count occurrences throughout the dataset\n",
    "tokens = sorted(t for t, c in token_counts.items() if c >= min_count)\n",
    "\n",
    "# Add a special tokens for unknown and empty words\n",
    "UNK, PAD = \"UNK\", \"PAD\"\n",
    "tokens = [UNK, PAD] + tokens"
   ]
  },
  {
   "cell_type": "code",
   "execution_count": 15,
   "metadata": {},
   "outputs": [
    {
     "name": "stdout",
     "output_type": "stream",
     "text": [
      "Vocabulary size: 34158\n",
      "Correct!\n"
     ]
    }
   ],
   "source": [
    "print(\"Vocabulary size:\", len(tokens))\n",
    "assert type(tokens) == list\n",
    "assert len(tokens) in range(32000, 35000)\n",
    "assert 'me' in tokens\n",
    "assert UNK in tokens\n",
    "print(\"Correct!\")"
   ]
  },
  {
   "cell_type": "markdown",
   "metadata": {},
   "source": [
    "__Task 1.2__ Build an inverse token index: a dictionary from token(string) to it's index in `tokens` (int)"
   ]
  },
  {
   "cell_type": "code",
   "execution_count": 16,
   "metadata": {},
   "outputs": [],
   "source": [
    "token_to_id = {t: num for num, t in enumerate(tokens)}"
   ]
  },
  {
   "cell_type": "code",
   "execution_count": 17,
   "metadata": {},
   "outputs": [
    {
     "name": "stdout",
     "output_type": "stream",
     "text": [
      "Correct!\n"
     ]
    }
   ],
   "source": [
    "assert isinstance(token_to_id, dict)\n",
    "assert len(token_to_id) == len(tokens)\n",
    "for tok in tokens:\n",
    "    assert tokens[token_to_id[tok]] == tok\n",
    "\n",
    "print(\"Correct!\")"
   ]
  },
  {
   "cell_type": "markdown",
   "metadata": {},
   "source": [
    "And finally, let's use the vocabulary you've built to map text lines into neural network-digestible matrices."
   ]
  },
  {
   "cell_type": "code",
   "execution_count": 18,
   "metadata": {},
   "outputs": [],
   "source": [
    "UNK_IX, PAD_IX = map(token_to_id.get, [UNK, PAD])\n",
    "\n",
    "def as_matrix(sequences, max_len=None):\n",
    "    \"\"\" Convert a list of tokens into a matrix with padding \"\"\"\n",
    "    if isinstance(sequences[0], str):\n",
    "        sequences = list(map(str.split, sequences))\n",
    "        \n",
    "    max_len = min(max(map(len, sequences)), max_len or float('inf'))\n",
    "    \n",
    "    matrix = np.full((len(sequences), max_len), np.int32(PAD_IX))\n",
    "    for i,seq in enumerate(sequences):\n",
    "        row_ix = [token_to_id.get(word, UNK_IX) for word in seq[:max_len]]\n",
    "        matrix[i, :len(row_ix)] = row_ix\n",
    "    \n",
    "    return matrix"
   ]
  },
  {
   "cell_type": "code",
   "execution_count": 19,
   "metadata": {},
   "outputs": [
    {
     "name": "stdout",
     "output_type": "stream",
     "text": [
      "Lines:\n",
      "engineering systems analyst\n",
      "hr assistant\n",
      "senior ec & i engineer\n",
      "\n",
      "Matrix:\n",
      "[[10807 30161  2166     1     1]\n",
      " [15020  2844     1     1     1]\n",
      " [27645 10201    16 15215 10804]]\n"
     ]
    }
   ],
   "source": [
    "print(\"Lines:\")\n",
    "print('\\n'.join(data[\"Title\"][::100000].values), end='\\n\\n')\n",
    "print(\"Matrix:\")\n",
    "print(as_matrix(data[\"Title\"][::100000]))"
   ]
  },
  {
   "cell_type": "markdown",
   "metadata": {},
   "source": [
    "Now let's  encode the categirical data we have.\n",
    "\n",
    "As usual, we shall use one-hot encoding for simplicity. Kudos if you implement more advanced encodings: tf-idf, pseudo-time-series, etc."
   ]
  },
  {
   "cell_type": "code",
   "execution_count": 20,
   "metadata": {},
   "outputs": [
    {
     "data": {
      "text/html": [
       "<div>\n",
       "<style scoped>\n",
       "    .dataframe tbody tr th:only-of-type {\n",
       "        vertical-align: middle;\n",
       "    }\n",
       "\n",
       "    .dataframe tbody tr th {\n",
       "        vertical-align: top;\n",
       "    }\n",
       "\n",
       "    .dataframe thead th {\n",
       "        text-align: right;\n",
       "    }\n",
       "</style>\n",
       "<table border=\"1\" class=\"dataframe\">\n",
       "  <thead>\n",
       "    <tr style=\"text-align: right;\">\n",
       "      <th></th>\n",
       "      <th>Id</th>\n",
       "      <th>Title</th>\n",
       "      <th>FullDescription</th>\n",
       "      <th>LocationRaw</th>\n",
       "      <th>LocationNormalized</th>\n",
       "      <th>ContractType</th>\n",
       "      <th>ContractTime</th>\n",
       "      <th>Company</th>\n",
       "      <th>Category</th>\n",
       "      <th>SalaryRaw</th>\n",
       "      <th>SalaryNormalized</th>\n",
       "      <th>SourceName</th>\n",
       "      <th>Log1pSalary</th>\n",
       "    </tr>\n",
       "  </thead>\n",
       "  <tbody>\n",
       "    <tr>\n",
       "      <th>0</th>\n",
       "      <td>12612628</td>\n",
       "      <td>engineering systems analyst</td>\n",
       "      <td>engineering systems analyst dorking surrey sal...</td>\n",
       "      <td>Dorking, Surrey, Surrey</td>\n",
       "      <td>Dorking</td>\n",
       "      <td>NaN</td>\n",
       "      <td>permanent</td>\n",
       "      <td>Gregory Martin International</td>\n",
       "      <td>Engineering Jobs</td>\n",
       "      <td>20000 - 30000/annum 20-30K</td>\n",
       "      <td>25000</td>\n",
       "      <td>cv-library.co.uk</td>\n",
       "      <td>10.126671</td>\n",
       "    </tr>\n",
       "    <tr>\n",
       "      <th>1</th>\n",
       "      <td>12612830</td>\n",
       "      <td>stress engineer glasgow</td>\n",
       "      <td>stress engineer glasgow salary **** to **** we...</td>\n",
       "      <td>Glasgow, Scotland, Scotland</td>\n",
       "      <td>Glasgow</td>\n",
       "      <td>NaN</td>\n",
       "      <td>permanent</td>\n",
       "      <td>Gregory Martin International</td>\n",
       "      <td>Engineering Jobs</td>\n",
       "      <td>25000 - 35000/annum 25-35K</td>\n",
       "      <td>30000</td>\n",
       "      <td>cv-library.co.uk</td>\n",
       "      <td>10.308986</td>\n",
       "    </tr>\n",
       "    <tr>\n",
       "      <th>2</th>\n",
       "      <td>12612844</td>\n",
       "      <td>modelling and simulation analyst</td>\n",
       "      <td>mathematical modeller / simulation analyst / o...</td>\n",
       "      <td>Hampshire, South East, South East</td>\n",
       "      <td>Hampshire</td>\n",
       "      <td>NaN</td>\n",
       "      <td>permanent</td>\n",
       "      <td>Gregory Martin International</td>\n",
       "      <td>Engineering Jobs</td>\n",
       "      <td>20000 - 40000/annum 20-40K</td>\n",
       "      <td>30000</td>\n",
       "      <td>cv-library.co.uk</td>\n",
       "      <td>10.308986</td>\n",
       "    </tr>\n",
       "  </tbody>\n",
       "</table>\n",
       "</div>"
      ],
      "text/plain": [
       "         Id                             Title  \\\n",
       "0  12612628       engineering systems analyst   \n",
       "1  12612830           stress engineer glasgow   \n",
       "2  12612844  modelling and simulation analyst   \n",
       "\n",
       "                                     FullDescription  \\\n",
       "0  engineering systems analyst dorking surrey sal...   \n",
       "1  stress engineer glasgow salary **** to **** we...   \n",
       "2  mathematical modeller / simulation analyst / o...   \n",
       "\n",
       "                         LocationRaw LocationNormalized ContractType  \\\n",
       "0            Dorking, Surrey, Surrey            Dorking          NaN   \n",
       "1        Glasgow, Scotland, Scotland            Glasgow          NaN   \n",
       "2  Hampshire, South East, South East          Hampshire          NaN   \n",
       "\n",
       "  ContractTime                       Company          Category  \\\n",
       "0    permanent  Gregory Martin International  Engineering Jobs   \n",
       "1    permanent  Gregory Martin International  Engineering Jobs   \n",
       "2    permanent  Gregory Martin International  Engineering Jobs   \n",
       "\n",
       "                    SalaryRaw  SalaryNormalized        SourceName  Log1pSalary  \n",
       "0  20000 - 30000/annum 20-30K             25000  cv-library.co.uk    10.126671  \n",
       "1  25000 - 35000/annum 25-35K             30000  cv-library.co.uk    10.308986  \n",
       "2  20000 - 40000/annum 20-40K             30000  cv-library.co.uk    10.308986  "
      ]
     },
     "execution_count": 20,
     "metadata": {},
     "output_type": "execute_result"
    }
   ],
   "source": [
    "data.iloc[:3]"
   ]
  },
  {
   "cell_type": "code",
   "execution_count": 21,
   "metadata": {},
   "outputs": [
    {
     "data": {
      "text/plain": [
       "DictVectorizer(dtype=<class 'numpy.float32'>, sparse=False)"
      ]
     },
     "execution_count": 21,
     "metadata": {},
     "output_type": "execute_result"
    }
   ],
   "source": [
    "from sklearn.feature_extraction import DictVectorizer\n",
    "\n",
    "# we only consider top-1k most frequent companies to minimize memory usage\n",
    "top_companies, top_counts = zip(*Counter(data['Company']).most_common(1000))\n",
    "recognized_companies = set(top_companies)\n",
    "data[\"Company\"] = data[\"Company\"].apply(lambda comp: comp if comp in recognized_companies else \"Other\")\n",
    "\n",
    "categorical_vectorizer = DictVectorizer(dtype=np.float32, sparse=False)\n",
    "categorical_vectorizer.fit(data[categorical_columns].apply(dict, axis=1))"
   ]
  },
  {
   "cell_type": "markdown",
   "metadata": {},
   "source": [
    "### The deep learning part\n",
    "\n",
    "Once we've learned to tokenize the data, let's design a machine learning experiment.\n",
    "\n",
    "As before, we won't focus too much on validation, opting for a simple train-test split.\n",
    "\n",
    "__To be completely rigorous,__ we've comitted a small crime here: we used the whole data for tokenization and vocabulary building. A more strict way would be to do that part on training set only. You may want to do that and measure the magnitude of changes."
   ]
  },
  {
   "cell_type": "code",
   "execution_count": 22,
   "metadata": {},
   "outputs": [
    {
     "name": "stdout",
     "output_type": "stream",
     "text": [
      "Train size =  195814\n",
      "Validation size =  48954\n"
     ]
    }
   ],
   "source": [
    "from sklearn.model_selection import train_test_split\n",
    "\n",
    "data_train, data_val = train_test_split(data, test_size=0.2, random_state=42)\n",
    "data_train.index = range(len(data_train))\n",
    "data_val.index = range(len(data_val))\n",
    "\n",
    "print(\"Train size = \", len(data_train))\n",
    "print(\"Validation size = \", len(data_val))"
   ]
  },
  {
   "cell_type": "code",
   "execution_count": 23,
   "metadata": {},
   "outputs": [],
   "source": [
    "import torch\n",
    "\n",
    "def to_tensors(batch, device):\n",
    "    batch_tensors = dict()\n",
    "    for key, arr in batch.items():\n",
    "        if key in [\"FullDescription\", \"Title\"]:\n",
    "            batch_tensors[key] = torch.tensor(arr, device=device, dtype=torch.int64)\n",
    "        else:\n",
    "            batch_tensors[key] = torch.tensor(arr, device=device)\n",
    "    return batch_tensors\n",
    "\n",
    "def make_batch(data, max_len=None, word_dropout=0, device=torch.device('cpu')):\n",
    "    \"\"\"\n",
    "    Creates a keras-friendly dict from the batch data.\n",
    "    :param word_dropout: replaces token index with UNK_IX with this probability\n",
    "    :returns: a dict with {'title' : int64[batch, title_max_len]\n",
    "    \"\"\"\n",
    "    batch = {}\n",
    "    batch[\"Title\"] = as_matrix(data[\"Title\"].values, max_len)\n",
    "    batch[\"FullDescription\"] = as_matrix(data[\"FullDescription\"].values, max_len)\n",
    "    batch['Categorical'] = categorical_vectorizer.transform(data[categorical_columns].apply(dict, axis=1))\n",
    "    \n",
    "    if word_dropout != 0:\n",
    "        batch[\"FullDescription\"] = apply_word_dropout(batch[\"FullDescription\"], 1. - word_dropout)\n",
    "    \n",
    "    if TARGET_COLUMN in data.columns:\n",
    "        batch[TARGET_COLUMN] = data[TARGET_COLUMN].values\n",
    "    \n",
    "    return to_tensors(batch, device)\n",
    "\n",
    "def apply_word_dropout(matrix, keep_prop, replace_with=UNK_IX, pad_ix=PAD_IX,):\n",
    "    dropout_mask = np.random.choice(2, np.shape(matrix), p=[keep_prop, 1 - keep_prop])\n",
    "    dropout_mask &= matrix != pad_ix\n",
    "    return np.choose(dropout_mask, [matrix, np.full_like(matrix, replace_with)])"
   ]
  },
  {
   "cell_type": "code",
   "execution_count": 24,
   "metadata": {
    "scrolled": true
   },
   "outputs": [
    {
     "data": {
      "text/plain": [
       "{'Title': tensor([[27645, 29893, 33674,     1,     1,     1,     1],\n",
       "         [29239,   197, 19175, 20042, 15554, 23162,  4051],\n",
       "         [10609, 30412, 17746,    33,  8705, 29157,    65]]),\n",
       " 'FullDescription': tensor([[27645, 29893, 33674, 32939,   982, 27645, 29893, 33674, 16451, 32939],\n",
       "         [29239,   197, 19175, 20042, 15554, 23162,  4051, 25511,   907,    82],\n",
       "         [30746, 21956, 20601,  6409, 16451,  8165, 27493,   982, 30412, 17746]]),\n",
       " 'Categorical': tensor([[0., 0., 0.,  ..., 0., 0., 0.],\n",
       "         [0., 0., 0.,  ..., 0., 0., 0.],\n",
       "         [0., 0., 0.,  ..., 0., 0., 0.]]),\n",
       " 'Log1pSalary': tensor([ 9.7115, 10.4631, 10.7144])}"
      ]
     },
     "execution_count": 24,
     "metadata": {},
     "output_type": "execute_result"
    }
   ],
   "source": [
    "make_batch(data_train[:3], max_len=10)"
   ]
  },
  {
   "cell_type": "markdown",
   "metadata": {},
   "source": [
    "#### Architecture\n",
    "\n",
    "Our basic model consists of three branches:\n",
    "* Title encoder\n",
    "* Description encoder\n",
    "* Categorical features encoder\n",
    "\n",
    "We will then feed all 3 branches into one common network that predicts salary.\n",
    "\n",
    "![scheme](https://github.com/yandexdataschool/nlp_course/raw/master/resources/w2_conv_arch.png)"
   ]
  },
  {
   "cell_type": "markdown",
   "metadata": {},
   "source": [
    "This clearly doesn't fit into keras' __Sequential__ interface. To build such a network, one will have to use PyTorch."
   ]
  },
  {
   "cell_type": "code",
   "execution_count": 25,
   "metadata": {},
   "outputs": [],
   "source": [
    "import torch\n",
    "import torch.nn as nn\n",
    "import torch.functional as F"
   ]
  },
  {
   "cell_type": "code",
   "execution_count": 26,
   "metadata": {},
   "outputs": [
    {
     "data": {
      "text/plain": [
       "{'Title': tensor([[27645, 29893, 33674,     1,     1,     1,     1],\n",
       "         [29239,   197, 19175, 20042, 15554, 23162,  4051],\n",
       "         [10609, 30412, 17746,    33,  8705, 29157,    65]]),\n",
       " 'FullDescription': tensor([[27645, 29893, 33674, 32939,   982, 27645, 29893, 33674, 16451, 32939,\n",
       "          12587,   982, 26081, 27746, 15554,     0,   158, 28681,   158, 12587],\n",
       "         [29239,   197, 19175, 20042, 15554, 23162,  4051, 25511,   907,    82,\n",
       "           3547,  6061, 11400, 25843,  2189,  3807, 22209,  6409, 16451, 27493],\n",
       "         [30746, 21956, 20601,  6409, 16451,  8165, 27493,   982, 30412, 17746,\n",
       "          10481,  6927, 19815, 30695, 31100, 18411,  1668, 30746, 30678,  2189]]),\n",
       " 'Categorical': tensor([[0., 0., 0.,  ..., 0., 0., 0.],\n",
       "         [0., 0., 0.,  ..., 0., 0., 0.],\n",
       "         [0., 0., 0.,  ..., 0., 0., 0.]]),\n",
       " 'Log1pSalary': tensor([ 9.7115, 10.4631, 10.7144])}"
      ]
     },
     "execution_count": 26,
     "metadata": {},
     "output_type": "execute_result"
    }
   ],
   "source": [
    "make_batch(data_train[:3], max_len=20)"
   ]
  },
  {
   "cell_type": "code",
   "execution_count": 27,
   "metadata": {},
   "outputs": [],
   "source": [
    "def conv1d_block(in_size, out_size, kernel=3):\n",
    "    return nn.Sequential(\n",
    "        nn.Conv1d(in_channels=in_size, out_channels=out_size, kernel_size=kernel, padding=1),\n",
    "        nn.BatchNorm1d(out_size),\n",
    "        nn.ReLU(),\n",
    "    )\n",
    "\n",
    "def conv1d_seq(emb_size, hid_size, kernel=3, n=5):\n",
    "    return nn.Sequential(\n",
    "        conv1d_block(emb_size, hid_size),\n",
    "        *[conv1d_block(hid_size, hid_size) for _ in range(n)]\n",
    "    )\n",
    "\n",
    "def linear_v1(inp, out):\n",
    "    return nn.Sequential(\n",
    "        nn.Linear(inp, out),\n",
    "        nn.BatchNorm1d(out),\n",
    "        nn.ReLU(),\n",
    "    )\n",
    "\n",
    "def mlp(inp_size, out_size, n=3, factory=linear_v1):\n",
    "    sizes = np.linspace(inp_size, out_size, num=n).astype(int)\n",
    "    \n",
    "    return nn.Sequential(\n",
    "        *[factory(inp, out)\n",
    "        for inp, out in zip(sizes[:-1], sizes[1:])]\n",
    "    )\n",
    "\n",
    "def pooling(kind='avg'):\n",
    "    if kind == 'avg':\n",
    "        return nn.AdaptiveAvgPool1d(1)\n",
    "    elif kind == 'max':\n",
    "        return nn.AdaptiveMaxPool1d(1)\n",
    "    \n",
    "    raise"
   ]
  },
  {
   "cell_type": "code",
   "execution_count": 49,
   "metadata": {},
   "outputs": [
    {
     "name": "stderr",
     "output_type": "stream",
     "text": [
      "  0%|          | 0/34158 [04:22<?, ?it/s]\n"
     ]
    }
   ],
   "source": [
    "import tqdm\n",
    "import gensim.downloader as api\n",
    "model = api.load('glove-twitter-100')"
   ]
  },
  {
   "cell_type": "code",
   "execution_count": 59,
   "metadata": {},
   "outputs": [
    {
     "name": "stderr",
     "output_type": "stream",
     "text": [
      "0it [00:00, ?it/s]/home/leonsht/Programming/study/nlp_course/venv/lib/python3.7/site-packages/ipykernel_launcher.py:4: DeprecationWarning: Call to deprecated `wv` (Attribute will be removed in 4.0.0, use self instead).\n",
      "  after removing the cwd from sys.path.\n",
      "34158it [00:00, 94938.75it/s]\n"
     ]
    }
   ],
   "source": [
    "emb_matrix = np.random.randn(len(tokens), 100)\n",
    "for num, token in tqdm.tqdm(enumerate(tokens)):\n",
    "    try:\n",
    "        emb_matrix[num, :] = (model.wv[token])\n",
    "    except KeyError:\n",
    "        pass"
   ]
  },
  {
   "cell_type": "code",
   "execution_count": 67,
   "metadata": {},
   "outputs": [],
   "source": [
    "emb_matrix_mean = np.mean(emb_matrix, axis=1, keepdims=True)\n",
    "emb_matrix_std = np.std(emb_matrix, axis=1, keepdims=True) + 1e-6\n",
    "\n",
    "emb_matrix = (emb_matrix - emb_matrix_mean) / emb_matrix_std"
   ]
  },
  {
   "cell_type": "code",
   "execution_count": 77,
   "metadata": {},
   "outputs": [],
   "source": [
    "class SalaryPredictor(nn.Module):\n",
    "    def __init__(\n",
    "        self, \n",
    "        n_tokens=len(tokens),\n",
    "        n_cat_features=len(categorical_vectorizer.vocabulary_),\n",
    "        hid_size=64,\n",
    "        emb_size=100\n",
    "    ):\n",
    "        super().__init__()\n",
    "        \n",
    "        self.emb = nn.Embedding.from_pretrained(torch.from_numpy(emb_matrix).float(), freeze=False)\n",
    "        \n",
    "        self.title_fe = conv1d_seq(emb_size, hid_size, n=2)\n",
    "        self.text_fe = conv1d_seq(emb_size, hid_size, n=2)\n",
    "        \n",
    "        self.title_pooling = pooling('max')\n",
    "        self.text_pooling = pooling('max')\n",
    "        \n",
    "        self.cat_fc = linear_v1(n_cat_features, hid_size)\n",
    "        \n",
    "        self.agg_mlp = mlp(3 * hid_size, hid_size)\n",
    "        self.reg_linear = nn.Linear(hid_size, 1)\n",
    "        \n",
    "        \n",
    "    def forward(self, batch):\n",
    "        emb_title = torch.transpose(self.emb(batch['Title']), 1, 2)\n",
    "        emb_text = torch.transpose(self.emb(batch['FullDescription']), 1, 2)\n",
    "        \n",
    "        title_feature = self.title_pooling(self.title_fe(emb_title)).squeeze(-1)\n",
    "        text_feature = self.text_pooling(self.text_fe(emb_text)).squeeze(-1)\n",
    "        \n",
    "        cat_feature = nn.functional.relu(self.cat_fc(batch['Categorical']))\n",
    "        \n",
    "        feature = torch.cat((title_feature, text_feature, cat_feature),  dim=1)\n",
    "        return self.reg_linear(self.agg_mlp(feature)).squeeze(-1)"
   ]
  },
  {
   "cell_type": "code",
   "execution_count": 78,
   "metadata": {},
   "outputs": [],
   "source": [
    "model = SalaryPredictor(emb_size=100)"
   ]
  },
  {
   "cell_type": "code",
   "execution_count": 79,
   "metadata": {},
   "outputs": [],
   "source": [
    "model = SalaryPredictor(emb_size=100)\n",
    "batch = make_batch(data_train[:100])\n",
    "criterion = nn.MSELoss()\n",
    "\n",
    "dummy_pred = model(batch)\n",
    "dummy_loss = criterion(dummy_pred, batch[TARGET_COLUMN])\n",
    "assert dummy_pred.shape == torch.Size([100])\n",
    "assert len(torch.unique(dummy_pred.detach())) > 20, \"model returns suspiciously few unique outputs. Check your initialization\"\n",
    "assert dummy_loss.ndim == 0 and 0. <= dummy_loss <= 250., \"make sure you minimize MSE\""
   ]
  },
  {
   "cell_type": "markdown",
   "metadata": {},
   "source": [
    "#### Training and evaluation\n",
    "\n",
    "As usual, we gonna feed our monster with random minibatches of data. \n",
    "\n",
    "As we train, we want to monitor not only loss function, which is computed in log-space, but also the actual error measured in dollars."
   ]
  },
  {
   "cell_type": "code",
   "execution_count": 80,
   "metadata": {},
   "outputs": [],
   "source": [
    "def iterate_minibatches(data, batch_size=256, shuffle=True, cycle=False, device=torch.device('cuda'), **kwargs):\n",
    "    \"\"\" iterates minibatches of data in random order \"\"\"\n",
    "    while True:\n",
    "        indices = np.arange(len(data))\n",
    "        if shuffle:\n",
    "            indices = np.random.permutation(indices)\n",
    "\n",
    "        for start in range(0, len(indices), batch_size):\n",
    "            batch = make_batch(data.iloc[indices[start : start + batch_size]], **kwargs)\n",
    "            yield {k: v.to(device) for k,v in batch.items()}\n",
    "        \n",
    "        if not cycle: break"
   ]
  },
  {
   "cell_type": "markdown",
   "metadata": {},
   "source": [
    "### Model training\n",
    "\n",
    "We can now fit our model the usual minibatch way. The interesting part is that we train on an infinite stream of minibatches, produced by `iterate_minibatches` function."
   ]
  },
  {
   "cell_type": "code",
   "execution_count": 81,
   "metadata": {},
   "outputs": [],
   "source": [
    "import tqdm\n",
    "\n",
    "BATCH_SIZE = 128\n",
    "EPOCHS = 10\n",
    "DEVICE = torch.device('cuda')"
   ]
  },
  {
   "cell_type": "code",
   "execution_count": 82,
   "metadata": {},
   "outputs": [],
   "source": [
    "def print_metrics(model, data, mem, batch_size=BATCH_SIZE, name=\"\", **kw):\n",
    "    squared_error = abs_error = num_samples = 0.0\n",
    "    model.eval()\n",
    "    with torch.no_grad():\n",
    "        for batch in iterate_minibatches(data, batch_size=batch_size, shuffle=False, **kw):\n",
    "            batch_pred = model(batch)\n",
    "            squared_error += torch.sum(torch.square(batch_pred - batch[TARGET_COLUMN]))\n",
    "            abs_error += torch.sum(torch.abs(batch_pred - batch[TARGET_COLUMN]))\n",
    "            num_samples += len(batch_pred)\n",
    "    mse = squared_error.detach().cpu().numpy() / num_samples\n",
    "    mae = abs_error.detach().cpu().numpy() / num_samples\n",
    "    print(\"%s results:\" % (name or \"\"))\n",
    "    print(\"Mean square error: %.5f\" % mse)\n",
    "    print(\"Mean absolute error: %.5f\" % mae)\n",
    "    \n",
    "    mem.append({'mse': mse, 'mae': mae})\n",
    "    \n",
    "    return mse, mae\n"
   ]
  },
  {
   "cell_type": "code",
   "execution_count": 84,
   "metadata": {},
   "outputs": [
    {
     "data": {
      "text/plain": [
       "<matplotlib.legend.Legend at 0x7f2d09248f60>"
      ]
     },
     "execution_count": 84,
     "metadata": {},
     "output_type": "execute_result"
    },
    {
     "data": {
      "image/png": "[encoded data removed]",
      "text/plain": [
       "<Figure size 720x360 with 2 Axes>"
      ]
     },
     "metadata": {
      "needs_background": "light"
     },
     "output_type": "display_data"
    }
   ],
   "source": [
    "model = SalaryPredictor().to(DEVICE)\n",
    "criterion = nn.MSELoss(reduction='sum')\n",
    "optimizer = torch.optim.SGD(model.parameters(), lr=1e-4)\n",
    "\n",
    "train_mse = []\n",
    "per_epoch_metrics = []\n",
    "\n",
    "f, (ax1, ax2) = plt.subplots(ncols=2, nrows=1, figsize=(10, 5))\n",
    "\n",
    "for epoch in range(EPOCHS):\n",
    "    print(f\"epoch: {epoch}\")\n",
    "    model.train()\n",
    "    for i, batch in tqdm.tqdm_notebook(enumerate(\n",
    "            iterate_minibatches(data_train, batch_size=BATCH_SIZE, device=DEVICE)),\n",
    "            total=len(data_train) // BATCH_SIZE\n",
    "        ):\n",
    "        pred = model(batch)\n",
    "        loss = criterion(pred, batch[TARGET_COLUMN])\n",
    "        optimizer.zero_grad()\n",
    "        loss.backward()\n",
    "        optimizer.step()\n",
    "        \n",
    "        train_mse.append(loss.cpu().detach().numpy())\n",
    "        \n",
    "    print_metrics(model, data_val, mem=per_epoch_metrics)\n",
    "    \n",
    "    \n",
    "ax1.set_ylim([0.0, 50.0])\n",
    "ax1.plot(train_mse, label='mse')\n",
    "ax2.plot([v['mse'] for v in per_epoch_metrics], label='mse')\n",
    "ax2.plot([v['mae'] for v in per_epoch_metrics], label='mae') \n",
    "plt.legend()\n"
   ]
  },
  {
   "cell_type": "code",
   "execution_count": 85,
   "metadata": {},
   "outputs": [
    {
     "data": {
      "text/plain": [
       "[{'mse': 0.1219958843697655, 'mae': 0.26800432628717774},\n",
       " {'mse': 0.11108079260313253, 'mae': 0.2552460760356661},\n",
       " {'mse': 0.09571687954189137, 'mae': 0.23391392860517016},\n",
       " {'mse': 0.0907636984465008, 'mae': 0.22695999528894473},\n",
       " {'mse': 0.0904563208413766, 'mae': 0.22665998868197695},\n",
       " {'mse': 0.08445377492454652, 'mae': 0.2182689002367018},\n",
       " {'mse': 0.08656983987838072, 'mae': 0.22261729043464273},\n",
       " {'mse': 0.08106475654281316, 'mae': 0.21341243980318259},\n",
       " {'mse': 0.08724577736561363, 'mae': 0.22272479330085387},\n",
       " {'mse': 0.07886914166232585, 'mae': 0.21055155493550068}]"
      ]
     },
     "execution_count": 85,
     "metadata": {},
     "output_type": "execute_result"
    }
   ],
   "source": [
    "per_epoch_metrics"
   ]
  },
  {
   "cell_type": "markdown",
   "metadata": {},
   "source": [
    "### Bonus part: explaining model predictions\n",
    "\n",
    "It's usually a good idea to understand how your model works before you let it make actual decisions. It's simple for linear models: just see which words learned positive or negative weights. However, its much harder for neural networks that learn complex nonlinear dependencies.\n",
    "\n",
    "There are, however, some ways to look inside the black box:\n",
    "* Seeing how model responds to input perturbations\n",
    "* Finding inputs that maximize/minimize activation of some chosen neurons (_read more [on distill.pub](https://distill.pub/2018/building-blocks/)_)\n",
    "* Building local linear approximations to your neural network: [article](https://arxiv.org/abs/1602.04938), [eli5 library](https://github.com/TeamHG-Memex/eli5/tree/master/eli5/formatters)\n",
    "\n",
    "Today we gonna try the first method just because it's the simplest one."
   ]
  },
  {
   "cell_type": "code",
   "execution_count": 88,
   "metadata": {},
   "outputs": [],
   "source": [
    "def explain(model, sample, col_name='Title'):\n",
    "    \"\"\" Computes the effect each word had on model predictions \"\"\"\n",
    "    sample = dict(sample)\n",
    "    sample_col_tokens = [tokens[token_to_id.get(tok, 0)] for tok in sample[col_name].split()]\n",
    "    data_drop_one_token = pd.DataFrame([sample] * (len(sample_col_tokens) + 1))\n",
    "\n",
    "    for drop_i in range(len(sample_col_tokens)):\n",
    "        data_drop_one_token.loc[drop_i, col_name] = ' '.join(UNK if i == drop_i else tok\n",
    "                                                   for i, tok in enumerate(sample_col_tokens)) \n",
    "\n",
    "    *predictions_drop_one_token, baseline_pred = model(make_batch(data_drop_one_token))\n",
    "    \n",
    "    predictions_drop_one_token = torch.tensor(predictions_drop_one_token).detach()\n",
    "    baseline_pred = baseline_pred.detach()\n",
    "    \n",
    "    diffs = baseline_pred - predictions_drop_one_token\n",
    "\n",
    "    return list(zip(sample_col_tokens, diffs.numpy()))"
   ]
  },
  {
   "cell_type": "code",
   "execution_count": 89,
   "metadata": {},
   "outputs": [],
   "source": [
    "from IPython.display import HTML, display_html\n",
    "\n",
    "\n",
    "def draw_html(tokens_and_weights, cmap=plt.get_cmap(\"bwr\"), display=True,\n",
    "              token_template=\"\"\"<span style=\"background-color: {color_hex}\">{token}</span>\"\"\",\n",
    "              font_style=\"font-size:14px;\"\n",
    "             ):\n",
    "    \n",
    "    def get_color_hex(weight):\n",
    "        rgba = cmap(1. / (1 + np.exp(weight)), bytes=True)\n",
    "        return '#%02X%02X%02X' % rgba[:3]\n",
    "    \n",
    "    tokens_html = [\n",
    "        token_template.format(token=token, color_hex=get_color_hex(weight))\n",
    "        for token, weight in tokens_and_weights\n",
    "    ]\n",
    "    \n",
    "    \n",
    "    raw_html = \"\"\"<p style=\"{}\">{}</p>\"\"\".format(font_style, ' '.join(tokens_html))\n",
    "    if display:\n",
    "        display_html(HTML(raw_html))\n",
    "        \n",
    "    return raw_html\n",
    "    "
   ]
  },
  {
   "cell_type": "code",
   "execution_count": 90,
   "metadata": {},
   "outputs": [
    {
     "name": "stdout",
     "output_type": "stream",
     "text": [
      "[('sales', 0.13408375), ('specialist', -0.053956985), ('iv', -0.13313007), ('access', 0.07588005), ('and', -0.04051304), ('infusion', -0.04981804)]\n"
     ]
    },
    {
     "data": {
      "text/html": [
       "<p style=\"font-size:20px;\"><span style=\"background-color: #ACACFF\">sales</span> <span style=\"background-color: #FFDCDC\">specialist</span> <span style=\"background-color: #FFACAC\">iv</span> <span style=\"background-color: #D0D0FF\">access</span> <span style=\"background-color: #FFE6E6\">and</span> <span style=\"background-color: #FFE0E0\">infusion</span></p>"
      ]
     },
     "metadata": {},
     "output_type": "display_data"
    },
    {
     "data": {
      "text/html": [
       "<p style=\"font-size:14px;\"><span style=\"background-color: #FFFEFE\">sales</span> <span style=\"background-color: #FFFEFE\">representative</span> <span style=\"background-color: #FAFAFF\">medical</span> <span style=\"background-color: #E3E3FF\">sales</span> <span style=\"background-color: #F6F6FF\">iv</span> <span style=\"background-color: #FFFEFE\">access</span> <span style=\"background-color: #FFFEFE\">and</span> <span style=\"background-color: #FFFEFE\">infusion</span> <span style=\"background-color: #FEFEFF\">an</span> <span style=\"background-color: #FEFEFF\">opportunity</span> <span style=\"background-color: #FFFCFC\">to</span> <span style=\"background-color: #FFFCFC\">work</span> <span style=\"background-color: #FFFCFC\">for</span> <span style=\"background-color: #FFFEFE\">the</span> <span style=\"background-color: #FFFCFC\">industry</span> <span style=\"background-color: #FFECEC\">leading</span> <span style=\"background-color: #FEFEFF\">manufacturer</span> <span style=\"background-color: #FCFCFF\">of</span> <span style=\"background-color: #FAFAFF\">iv</span> <span style=\"background-color: #E2E2FF\">access</span> <span style=\"background-color: #FAFAFF\">and</span> <span style=\"background-color: #FFFEFE\">infusion</span> <span style=\"background-color: #FFFEFE\">solutions</span> <span style=\"background-color: #FEFEFF\">.</span> <span style=\"background-color: #F2F2FF\">formally</span> <span style=\"background-color: #FFFEFE\">recognised</span> <span style=\"background-color: #FFFEFE\">as</span> <span style=\"background-color: #F8F8FF\">the</span> <span style=\"background-color: #FFFEFE\">number</span> <span style=\"background-color: #FFFEFE\">****</span> <span style=\"background-color: #FFFEFE\">company</span> <span style=\"background-color: #FCFCFF\">in</span> <span style=\"background-color: #FFFEFE\">this</span> <span style=\"background-color: #FFFEFE\">market</span> <span style=\"background-color: #FCFCFF\">space</span> <span style=\"background-color: #FEFEFF\">,</span> <span style=\"background-color: #FCFCFF\">our</span> <span style=\"background-color: #FFF2F2\">client</span> <span style=\"background-color: #FFF4F4\">are</span> <span style=\"background-color: #FFEEEE\">an</span> <span style=\"background-color: #FEFEFF\">ethical</span> <span style=\"background-color: #FFF4F4\">and</span> <span style=\"background-color: #FEFEFF\">dynamic</span> <span style=\"background-color: #F8F8FF\">organisation</span> <span style=\"background-color: #FAFAFF\">absolutely</span> <span style=\"background-color: #E0E0FF\">committed</span> <span style=\"background-color: #FFFEFE\">to</span> <span style=\"background-color: #FFFEFE\">the</span> <span style=\"background-color: #FFFEFE\">advancement</span> <span style=\"background-color: #FFFEFE\">of</span> <span style=\"background-color: #ECECFF\">innovative</span> <span style=\"background-color: #FFFEFE\">technologies</span> <span style=\"background-color: #FFFEFE\">.</span> <span style=\"background-color: #F3F3FF\">job</span> <span style=\"background-color: #FFFEFE\">title</span> <span style=\"background-color: #F8F8FF\">:</span> <span style=\"background-color: #FFFEFE\">sales</span> <span style=\"background-color: #FFF4F4\">specialist</span> <span style=\"background-color: #FFFEFE\">iv</span> <span style=\"background-color: #FFFEFE\">access</span> <span style=\"background-color: #FCFCFF\">and</span> <span style=\"background-color: #FFF4F4\">infusion</span> <span style=\"background-color: #FFFEFE\">selling</span> <span style=\"background-color: #CECEFF\">:</span> <span style=\"background-color: #F3F3FF\">medication</span> <span style=\"background-color: #FEFEFF\">delivery</span> <span style=\"background-color: #FFFEFE\">solutions</span> <span style=\"background-color: #FEFEFF\">selling</span> <span style=\"background-color: #FFF8F8\">to</span> <span style=\"background-color: #FFEAEA\">:</span> <span style=\"background-color: #FFFEFE\">iv</span> <span style=\"background-color: #FFE8E8\">teams</span> <span style=\"background-color: #D2D2FF\">,</span> <span style=\"background-color: #FEFEFF\">infection</span> <span style=\"background-color: #D2D2FF\">control</span> <span style=\"background-color: #DEDEFF\">,</span> <span style=\"background-color: #E3E3FF\">lead</span> <span style=\"background-color: #FFDEDE\">intensive</span> <span style=\"background-color: #FAFAFF\">care</span> <span style=\"background-color: #FAFAFF\">nurse</span> <span style=\"background-color: #FFE4E4\">specialists</span> <span style=\"background-color: #FFF4F4\">,</span> <span style=\"background-color: #FAFAFF\">ward</span> <span style=\"background-color: #ECECFF\">managers</span> <span style=\"background-color: #FFFEFE\">territory</span> <span style=\"background-color: #FCFCFF\">:</span> <span style=\"background-color: #FCFCFF\">east</span> <span style=\"background-color: #F6F6FF\">midlands</span> <span style=\"background-color: #FCFCFF\">location</span> <span style=\"background-color: #FCFCFF\">:</span> <span style=\"background-color: #FFE6E6\">east</span> <span style=\"background-color: #FFFEFE\">midlands</span> <span style=\"background-color: #FFFEFE\">package</span> <span style=\"background-color: #ECECFF\">:</span> <span style=\"background-color: #C2C2FF\">basic</span> <span style=\"background-color: #E6E6FF\">:</span> <span style=\"background-color: #FCFCFF\">****</span> <span style=\"background-color: #FCFCFF\">k</span> <span style=\"background-color: #F2F2FF\">****</span> <span style=\"background-color: #FFE4E4\">k</span> <span style=\"background-color: #FFE4E4\">,</span> <span style=\"background-color: #FFE0E0\">uncapped</span> <span style=\"background-color: #FFECEC\">bonus</span> <span style=\"background-color: #A3A3FF\">in</span> <span style=\"background-color: #FFFCFC\">addition</span> <span style=\"background-color: #FFE4E4\">,</span> <span style=\"background-color: #F8F8FF\">full</span> <span style=\"background-color: #F6F6FF\">corporate</span> <span style=\"background-color: #FFE2E2\">benefits</span> <span style=\"background-color: #9898FF\">company</span> <span style=\"background-color: #9090FF\">information</span> <span style=\"background-color: #B2B2FF\">hugely</span> <span style=\"background-color: #9292FF\">ethical</span> <span style=\"background-color: #EEEEFF\">and</span> <span style=\"background-color: #FF7C7C\">professional</span> <span style=\"background-color: #FEFEFF\">global</span> <span style=\"background-color: #FFD6D6\">organisation</span> <span style=\"background-color: #AEAEFF\">extremely</span> <span style=\"background-color: #FFF6F6\">well</span> <span style=\"background-color: #CECEFF\">established</span> <span style=\"background-color: #FAFAFF\">in</span> <span style=\"background-color: #FFFEFE\">the</span> <span style=\"background-color: #FEFEFF\">uk</span> <span style=\"background-color: #F3F3FF\">the</span> <span style=\"background-color: #FCFCFF\">market</span> <span style=\"background-color: #D2D2FF\">leader</span> <span style=\"background-color: #F6F6FF\">across</span> <span style=\"background-color: #E3E3FF\">all</span> <span style=\"background-color: #FFF8F8\">of</span> <span style=\"background-color: #D3D3FF\">their</span> <span style=\"background-color: #ECECFF\">core</span> <span style=\"background-color: #FFE6E6\">business</span> <span style=\"background-color: #BEBEFF\">areas</span> <span style=\"background-color: #FFFCFC\">focus</span> <span style=\"background-color: #E6E6FF\">on</span> <span style=\"background-color: #FCFCFF\">providing</span> <span style=\"background-color: #FCFCFF\">cutting</span> <span style=\"background-color: #F3F3FF\">edge</span> <span style=\"background-color: #FFFAFA\">solutions</span> <span style=\"background-color: #FFFEFE\">along</span> <span style=\"background-color: #F2F2FF\">with</span> <span style=\"background-color: #FFF8F8\">outstanding</span> <span style=\"background-color: #FFD6D6\">service</span> <span style=\"background-color: #FFF2F2\">and</span> <span style=\"background-color: #9E9EFF\">support</span> <span style=\"background-color: #FFF0F0\">a</span> <span style=\"background-color: #F3F3FF\">business</span> <span style=\"background-color: #FFDEDE\">that</span> <span style=\"background-color: #FFFEFE\">retain</span> <span style=\"background-color: #FFFEFE\">talented</span> <span style=\"background-color: #FFF2F2\">personnel</span> <span style=\"background-color: #FFFEFE\">by</span> <span style=\"background-color: #6666FF\">offering</span> <span style=\"background-color: #FEFEFF\">a</span> <span style=\"background-color: #FEFEFF\">strong</span> <span style=\"background-color: #FEFEFF\">platform</span> <span style=\"background-color: #FFEEEE\">for</span> <span style=\"background-color: #FEFEFF\">career</span> <span style=\"background-color: #FEFEFF\">development</span> <span style=\"background-color: #FFFEFE\">sales</span> <span style=\"background-color: #F8F8FF\">specialist</span> <span style=\"background-color: #FFFEFE\">iv</span> <span style=\"background-color: #FFFEFE\">access</span> <span style=\"background-color: #FEFEFF\">and</span> <span style=\"background-color: #FEFEFF\">infusion</span> <span style=\"background-color: #FFFAFA\">you</span> <span style=\"background-color: #FFFAFA\">must</span> <span style=\"background-color: #FFFAFA\">have</span> <span style=\"background-color: #FAFAFF\">/</span> <span style=\"background-color: #E8E8FF\">be</span> <span style=\"background-color: #FFFAFA\">the</span> <span style=\"background-color: #FFFEFE\">following</span> <span style=\"background-color: #FFFEFE\">at</span> <span style=\"background-color: #FFECEC\">least</span> <span style=\"background-color: #FFFEFE\">2</span> <span style=\"background-color: #FFFEFE\">years</span> <span style=\"background-color: #FFFEFE\">medical</span> <span style=\"background-color: #FFEEEE\">device</span> <span style=\"background-color: #FFCCCC\">sales</span> <span style=\"background-color: #E8E8FF\">experience</span> <span style=\"background-color: #FFDCDC\">.</span> <span style=\"background-color: #FF8C8C\">candidates</span> <span style=\"background-color: #FF7979\">who</span> <span style=\"background-color: #FF9E9E\">have</span> <span style=\"background-color: #FFC6C6\">sold</span> <span style=\"background-color: #FFA8A8\">disposables</span> <span style=\"background-color: #FFEEEE\">/</span> <span style=\"background-color: #FEFEFF\">consumables</span> <span style=\"background-color: #FEFEFF\">or</span> <span style=\"background-color: #FEFEFF\">similar</span> <span style=\"background-color: #FEFEFF\">into</span> <span style=\"background-color: #FFFEFE\">hospitals</span> <span style=\"background-color: #E6E6FF\">would</span> <span style=\"background-color: #FFFEFE\">be</span> <span style=\"background-color: #FFF8F8\">of</span> <span style=\"background-color: #FFE6E6\">particular</span> <span style=\"background-color: #FFECEC\">interest</span> <span style=\"background-color: #FFECEC\">.</span> <span style=\"background-color: #FFECEC\">candidates</span> <span style=\"background-color: #FFECEC\">must</span> <span style=\"background-color: #F3F3FF\">have</span> <span style=\"background-color: #FCFCFF\">sold</span> <span style=\"background-color: #FFFEFE\">into</span> <span style=\"background-color: #FEFEFF\">hospitals</span> <span style=\"background-color: #FFC6C6\">demonstrable</span> <span style=\"background-color: #FFF0F0\">performance</span> <span style=\"background-color: #FCFCFF\">and</span> <span style=\"background-color: #F6F6FF\">achievements</span> <span style=\"background-color: #F8F8FF\">so</span> <span style=\"background-color: #FFECEC\">far</span> <span style=\"background-color: #FEFEFF\">personable</span> <span style=\"background-color: #DCDCFF\">,</span> <span style=\"background-color: #FFFEFE\">adaptable</span> <span style=\"background-color: #FFFEFE\">and</span> <span style=\"background-color: #FFFEFE\">willing</span> <span style=\"background-color: #FFFEFE\">to</span> <span style=\"background-color: #B8B8FF\">learn</span> <span style=\"background-color: #E3E3FF\">keen</span> <span style=\"background-color: #FEFEFF\">and</span> <span style=\"background-color: #DEDEFF\">eager</span> <span style=\"background-color: #FFFEFE\">to</span> <span style=\"background-color: #D3D3FF\">be</span> <span style=\"background-color: #F6F6FF\">a</span> <span style=\"background-color: #F2F2FF\">success</span> <span style=\"background-color: #FCFCFF\">candidates</span> <span style=\"background-color: #FFFEFE\">must</span> <span style=\"background-color: #FFFEFE\">have</span> <span style=\"background-color: #FFFEFE\">a</span> <span style=\"background-color: #FEFEFF\">degree</span> <span style=\"background-color: #FFFEFE\">or</span> <span style=\"background-color: #FFFEFE\">at</span> <span style=\"background-color: #DCDCFF\">least</span> <span style=\"background-color: #FFD3D3\">be</span> <span style=\"background-color: #FFEEEE\">able</span> <span style=\"background-color: #FFE6E6\">to</span> <span style=\"background-color: #FFF0F0\">show</span> <span style=\"background-color: #F8F8FF\">a</span> <span style=\"background-color: #F8F8FF\">strong</span> <span style=\"background-color: #FFFEFE\">ability</span> <span style=\"background-color: #E0E0FF\">to</span> <span style=\"background-color: #DEDEFF\">learn</span> <span style=\"background-color: #E8E8FF\">role</span> <span style=\"background-color: #FCFCFF\">information</span> <span style=\"background-color: #FFF2F2\">managing</span> <span style=\"background-color: #FFF6F6\">the</span> <span style=\"background-color: #FFE8E8\">east</span> <span style=\"background-color: #EEEEFF\">midlands</span> <span style=\"background-color: #CECEFF\">region</span> <span style=\"background-color: #F3F3FF\">selling</span> <span style=\"background-color: #FFF8F8\">across</span> <span style=\"background-color: #FFFEFE\">the</span> <span style=\"background-color: #FFF6F6\">company</span> <span style=\"background-color: #ECECFF\">'</span> <span style=\"background-color: #FFFEFE\">s</span> <span style=\"background-color: #FFFEFE\">range</span> <span style=\"background-color: #FFFEFE\">of</span> <span style=\"background-color: #FFFEFE\">iv</span> <span style=\"background-color: #FFFEFE\">and</span> <span style=\"background-color: #FFFEFE\">infusion</span> <span style=\"background-color: #FFEEEE\">solutions</span> <span style=\"background-color: #FFF6F6\">portfolio</span> <span style=\"background-color: #FCFCFF\">selling</span> <span style=\"background-color: #FFF6F6\">into</span> <span style=\"background-color: #FFE0E0\">lead</span> <span style=\"background-color: #FFF6F6\">intensive</span> <span style=\"background-color: #FFECEC\">care</span> <span style=\"background-color: #FFF6F6\">nurse</span> <span style=\"background-color: #FFFCFC\">specialists</span> <span style=\"background-color: #FFFCFC\">,</span> <span style=\"background-color: #F0F0FF\">ward</span> <span style=\"background-color: #FAFAFF\">managers</span> <span style=\"background-color: #F3F3FF\">,</span> <span style=\"background-color: #FEFEFF\">iv</span> <span style=\"background-color: #FFF8F8\">teams</span> <span style=\"background-color: #EAEAFF\">,</span> <span style=\"background-color: #FFF8F8\">infection</span> <span style=\"background-color: #FFF8F8\">control</span> <span style=\"background-color: #FFF6F6\">teams</span> <span style=\"background-color: #FFFCFC\">,</span> <span style=\"background-color: #FFF6F6\">procurement</span> <span style=\"background-color: #FFFCFC\">sales</span> <span style=\"background-color: #FFF4F4\">specialist</span> <span style=\"background-color: #FFFAFA\">iv</span> <span style=\"background-color: #FFFCFC\">access</span> <span style=\"background-color: #FCFCFF\">and</span> <span style=\"background-color: #FFFCFC\">infusion</span> <span style=\"background-color: #FCFCFF\">candidates</span> <span style=\"background-color: #FFFAFA\">must</span> <span style=\"background-color: #FAFAFF\">be</span> <span style=\"background-color: #FFFEFE\">eligible</span> <span style=\"background-color: #FFFAFA\">to</span> <span style=\"background-color: #FFF0F0\">work</span> <span style=\"background-color: #FFF4F4\">and</span> <span style=\"background-color: #F2F2FF\">live</span> <span style=\"background-color: #FFF0F0\">in</span> <span style=\"background-color: #F8F8FF\">the</span> <span style=\"background-color: #DCDCFF\">uk</span> <span style=\"background-color: #FFD8D8\">.</span> <span style=\"background-color: #FAFAFF\">please</span> <span style=\"background-color: #FFFEFE\">contact</span> <span style=\"background-color: #FFFEFE\">allan</span> <span style=\"background-color: #FFFEFE\">waller</span> <span style=\"background-color: #FFFEFE\">on</span> <span style=\"background-color: #FFFEFE\">****</span> <span style=\"background-color: #FFFEFE\">****</span> <span style=\"background-color: #FFFEFE\">****</span> <span style=\"background-color: #EEEEFF\">or</span> <span style=\"background-color: #D2D2FF\">please</span> <span style=\"background-color: #FCFCFF\">hit</span> <span style=\"background-color: #FFFEFE\">the</span> <span style=\"background-color: #D3D3FF\">apply</span> <span style=\"background-color: #FFFEFE\">button</span> <span style=\"background-color: #FFFEFE\">.</span> <span style=\"background-color: #FFECEC\">this</span> <span style=\"background-color: #FFFEFE\">job</span> <span style=\"background-color: #DEDEFF\">was</span> <span style=\"background-color: #FFAAAA\">originally</span> <span style=\"background-color: #FFC3C3\">posted</span> <span style=\"background-color: #FFA0A0\">as</span> <span style=\"background-color: #FFEEEE\">www</span> <span style=\"background-color: #D8D8FF\">.</span> <span style=\"background-color: #FFE2E2\">salestarget</span> <span style=\"background-color: #FFFCFC\">.</span> <span style=\"background-color: #FFEEEE\">co</span> <span style=\"background-color: #FFF8F8\">.</span> <span style=\"background-color: #FFB6B6\">uk</span> <span style=\"background-color: #EAEAFF\">/</span> <span style=\"background-color: #FFFAFA\">jobseeking</span> <span style=\"background-color: #FCFCFF\">/</span> <span style=\"background-color: #FFFEFE\">UNK</span> <span style=\"background-color: #FFFAFA\">****</span></p>"
      ]
     },
     "metadata": {},
     "output_type": "display_data"
    }
   ],
   "source": [
    "i = 36605\n",
    "\n",
    "model = model.eval().to('cpu')\n",
    "\n",
    "tokens_and_weights = explain(model, data.loc[i], \"Title\")\n",
    "\n",
    "print(tokens_and_weights)\n",
    "draw_html([(tok, weight * 5) for tok, weight in tokens_and_weights], font_style='font-size:20px;');\n",
    "\n",
    "tokens_and_weights = explain(model, data.loc[i], \"FullDescription\")\n",
    "draw_html([(tok, weight * 10) for tok, weight in tokens_and_weights]);"
   ]
  },
  {
   "cell_type": "code",
   "execution_count": 91,
   "metadata": {},
   "outputs": [
    {
     "data": {
      "text/html": [
       "<p style=\"font-size:20px;\"><span style=\"background-color: #F3F3FF\">cleaning</span> <span style=\"background-color: #E2E2FF\">operative</span></p>"
      ]
     },
     "metadata": {},
     "output_type": "display_data"
    },
    {
     "data": {
      "text/html": [
       "<p style=\"font-size:14px;\"><span style=\"background-color: #FEFEFF\">12</span> <span style=\"background-color: #FFF8F8\">.</span> <span style=\"background-color: #FFF6F6\">5</span> <span style=\"background-color: #FFEAEA\">hours</span> <span style=\"background-color: #FFDCDC\">per</span> <span style=\"background-color: #FFE6E6\">week</span> <span style=\"background-color: #FFACAC\">monday</span> <span style=\"background-color: #FFFEFE\">friday</span> <span style=\"background-color: #FFF0F0\">9am</span> <span style=\"background-color: #FFFAFA\">11</span> <span style=\"background-color: #F6F6FF\">.</span> <span style=\"background-color: #FFEEEE\">30am</span> <span style=\"background-color: #B3B3FF\">duties</span> <span style=\"background-color: #C8C8FF\">to</span> <span style=\"background-color: #FFDCDC\">include</span> <span style=\"background-color: #9E9EFF\">sweeping</span> <span style=\"background-color: #F0F0FF\">,</span> <span style=\"background-color: #C3C3FF\">mopping</span> <span style=\"background-color: #FCFCFF\">,</span> <span style=\"background-color: #FFD8D8\">vacuuming</span> <span style=\"background-color: #FFDCDC\">,</span> <span style=\"background-color: #FFF4F4\">buffing</span> <span style=\"background-color: #FFFEFE\">,</span> <span style=\"background-color: #FFF8F8\">cleaning</span> <span style=\"background-color: #FFF0F0\">staff</span> <span style=\"background-color: #FCFCFF\">toilets</span> <span style=\"background-color: #FFF0F0\">and</span> <span style=\"background-color: #FFE0E0\">rest</span> <span style=\"background-color: #FFFEFE\">room</span> <span style=\"background-color: #FFFCFC\">.</span> <span style=\"background-color: #F6F6FF\">must</span> <span style=\"background-color: #FFECEC\">be</span> <span style=\"background-color: #FFDADA\">able</span> <span style=\"background-color: #FFC6C6\">to</span> <span style=\"background-color: #FFFEFE\">read</span> <span style=\"background-color: #FFF4F4\">as</span> <span style=\"background-color: #FAFAFF\">they</span> <span style=\"background-color: #FFCACA\">will</span> <span style=\"background-color: #FFF2F2\">be</span> <span style=\"background-color: #FFFCFC\">using</span> <span style=\"background-color: #FFFEFE\">UNK</span> <span style=\"background-color: #FFE0E0\">which</span> <span style=\"background-color: #DCDCFF\">need</span> <span style=\"background-color: #FFFEFE\">UNK</span> <span style=\"background-color: #FFF6F6\">as</span> <span style=\"background-color: #CACAFF\">per</span> <span style=\"background-color: #FFE8E8\">instructions</span> <span style=\"background-color: #FFFAFA\">on</span> <span style=\"background-color: #D0D0FF\">the</span> <span style=\"background-color: #E8E8FF\">containers</span> <span style=\"background-color: #FFF0F0\">.</span> <span style=\"background-color: #F2F2FF\">sucessfull</span> <span style=\"background-color: #F2F2FF\">applicants</span> <span style=\"background-color: #E3E3FF\">will</span> <span style=\"background-color: #FFFCFC\">be</span> <span style=\"background-color: #FAFAFF\">trained</span> <span style=\"background-color: #FFE0E0\">on</span> <span style=\"background-color: #FFC8C8\">all</span> <span style=\"background-color: #FFDCDC\">electrical</span> <span style=\"background-color: #FFCACA\">appliances</span> <span style=\"background-color: #FFF8F8\">and</span> <span style=\"background-color: #FFFEFE\">UNK</span> <span style=\"background-color: #FFFAFA\">of</span> <span style=\"background-color: #FFEEEE\">cleaning</span> <span style=\"background-color: #F6F6FF\">materials</span> <span style=\"background-color: #FFFEFE\">.</span></p>"
      ]
     },
     "metadata": {},
     "output_type": "display_data"
    }
   ],
   "source": [
    "i = 12077\n",
    "tokens_and_weights = explain(model, data.loc[i], \"Title\")\n",
    "draw_html([(tok, weight * 5) for tok, weight in tokens_and_weights], font_style='font-size:20px;');\n",
    "\n",
    "tokens_and_weights = explain(model, data.loc[i], \"FullDescription\")\n",
    "draw_html([(tok, weight * 10) for tok, weight in tokens_and_weights]);"
   ]
  },
  {
   "cell_type": "code",
   "execution_count": 107,
   "metadata": {},
   "outputs": [
    {
     "name": "stdout",
     "output_type": "stream",
     "text": [
      "Index: 158333\n",
      "Salary (gbp): 75017.18289213566\n"
     ]
    },
    {
     "data": {
      "text/html": [
       "<p style=\"font-size:20px;\"><span style=\"background-color: #4040FF\">director</span> <span style=\"background-color: #6666FF\">of</span> <span style=\"background-color: #FFC0C0\">business</span> <span style=\"background-color: #FFDCDC\">development</span></p>"
      ]
     },
     "metadata": {},
     "output_type": "display_data"
    },
    {
     "data": {
      "text/html": [
       "<p style=\"font-size:14px;\"><span style=\"background-color: #FFFAFA\">director</span> <span style=\"background-color: #FEFEFF\">of</span> <span style=\"background-color: #FFE6E6\">business</span> <span style=\"background-color: #E8E8FF\">development</span> <span style=\"background-color: #FAFAFF\">home</span> <span style=\"background-color: #FAFAFF\">healthcare</span> <span style=\"background-color: #F0F0FF\">solutions</span> <span style=\"background-color: #FCFCFF\">(****</span> <span style=\"background-color: #FFFEFE\">reports</span> <span style=\"background-color: #F8F8FF\">)</span> <span style=\"background-color: #F8F8FF\">basic</span> <span style=\"background-color: #FCFCFF\">salary</span> <span style=\"background-color: #FFF4F4\">****</span> <span style=\"background-color: #FFFEFE\">to</span> <span style=\"background-color: #FFFEFE\">****</span> <span style=\"background-color: #F0F0FF\">niche</span> <span style=\"background-color: #FFF8F8\">service</span> <span style=\"background-color: #FFFEFE\">provider</span> <span style=\"background-color: #FFFEFE\">:</span> <span style=\"background-color: #FFE8E8\">this</span> <span style=\"background-color: #FFFAFA\">large</span> <span style=\"background-color: #FFFEFE\">organisation</span> <span style=\"background-color: #B3B3FF\">continues</span> <span style=\"background-color: #FFEAEA\">to</span> <span style=\"background-color: #E6E6FF\">grow</span> <span style=\"background-color: #FEFEFF\">at</span> <span style=\"background-color: #FFF0F0\">an</span> <span style=\"background-color: #FFF8F8\">exciting</span> <span style=\"background-color: #FFECEC\">rate</span> <span style=\"background-color: #E3E3FF\">across</span> <span style=\"background-color: #E3E3FF\">a</span> <span style=\"background-color: #E8E8FF\">number</span> <span style=\"background-color: #F3F3FF\">of</span> <span style=\"background-color: #FFF8F8\">healthcare</span> <span style=\"background-color: #FFD8D8\">disciplines</span> <span style=\"background-color: #F3F3FF\">.</span> <span style=\"background-color: #FCFCFF\">this</span> <span style=\"background-color: #FCFCFF\">division</span> <span style=\"background-color: #E0E0FF\">provide</span> <span style=\"background-color: #F6F6FF\">niche</span> <span style=\"background-color: #F8F8FF\">home</span> <span style=\"background-color: #E6E6FF\">healthcare</span> <span style=\"background-color: #FFD0D0\">services</span> <span style=\"background-color: #FEFEFF\">and</span> <span style=\"background-color: #FFF8F8\">they</span> <span style=\"background-color: #FFF6F6\">are</span> <span style=\"background-color: #D2D2FF\">currently</span> <span style=\"background-color: #CCCCFF\">seeking</span> <span style=\"background-color: #FFD6D6\">to</span> <span style=\"background-color: #D3D3FF\">recruit</span> <span style=\"background-color: #FFDCDC\">a</span> <span style=\"background-color: #FFAAAA\">high</span> <span style=\"background-color: #FFDCDC\">calibre</span> <span style=\"background-color: #FFDEDE\">,</span> <span style=\"background-color: #FFFEFE\">hands</span> <span style=\"background-color: #F8F8FF\">on</span> <span style=\"background-color: #FFE6E6\">leader</span> <span style=\"background-color: #FFFCFC\">for</span> <span style=\"background-color: #F8F8FF\">their</span> <span style=\"background-color: #F0F0FF\">uk</span> <span style=\"background-color: #FFDCDC\">business</span> <span style=\"background-color: #FFCACA\">development</span> <span style=\"background-color: #E8E8FF\">team</span> <span style=\"background-color: #FFE8E8\">of</span> <span style=\"background-color: #FFFEFE\">****</span> <span style=\"background-color: #FFFEFE\">the</span> <span style=\"background-color: #D6D6FF\">role</span> <span style=\"background-color: #FFF6F6\">:</span> <span style=\"background-color: #FFEAEA\">your</span> <span style=\"background-color: #FFF4F4\">team</span> <span style=\"background-color: #EEEEFF\">will</span> <span style=\"background-color: #FEFEFF\">be</span> <span style=\"background-color: #FCFCFF\">winning</span> <span style=\"background-color: #FEFEFF\">,</span> <span style=\"background-color: #FEFEFF\">growing</span> <span style=\"background-color: #FEFEFF\">and</span> <span style=\"background-color: #FAFAFF\">managing</span> <span style=\"background-color: #F8F8FF\">relationships</span> <span style=\"background-color: #FEFEFF\">at</span> <span style=\"background-color: #FFFCFC\">a</span> <span style=\"background-color: #E6E6FF\">senior</span> <span style=\"background-color: #E2E2FF\">level</span> <span style=\"background-color: #FFEEEE\">within</span> <span style=\"background-color: #E6E6FF\">nhs</span> <span style=\"background-color: #EAEAFF\">trusts</span> <span style=\"background-color: #EAEAFF\">and</span> <span style=\"background-color: #FFFEFE\">commissioning</span> <span style=\"background-color: #FFFEFE\">groups</span> <span style=\"background-color: #FFFEFE\">/</span> <span style=\"background-color: #F2F2FF\">hubs</span> <span style=\"background-color: #FFFAFA\">,</span> <span style=\"background-color: #FFA8A8\">liaising</span> <span style=\"background-color: #E2E2FF\">typically</span> <span style=\"background-color: #EAEAFF\">with</span> <span style=\"background-color: #FFFEFE\">senior</span> <span style=\"background-color: #FFD3D3\">contacts</span> <span style=\"background-color: #F3F3FF\">within</span> <span style=\"background-color: #FFF6F6\">those</span> <span style=\"background-color: #FFF2F2\">bodies</span> <span style=\"background-color: #5959FF\">.</span> <span style=\"background-color: #BABAFF\">yours</span> <span style=\"background-color: #FFAAAA\">is</span> <span style=\"background-color: #FAFAFF\">a</span> <span style=\"background-color: #FFB0B0\">vital</span> <span style=\"background-color: #FFF2F2\">,</span> <span style=\"background-color: #FFFEFE\">strategic</span> <span style=\"background-color: #F8F8FF\">role</span> <span style=\"background-color: #FEFEFF\">within</span> <span style=\"background-color: #FFE2E2\">the</span> <span style=\"background-color: #FAFAFF\">business</span> <span style=\"background-color: #FFF0F0\">and</span> <span style=\"background-color: #EEEEFF\">you</span> <span style=\"background-color: #DEDEFF\">will</span> <span style=\"background-color: #FFE2E2\">have</span> <span style=\"background-color: #FFE2E2\">full</span> <span style=\"background-color: #FFE6E6\">autonomy</span> <span style=\"background-color: #D0D0FF\">and</span> <span style=\"background-color: #EAEAFF\">profit</span> <span style=\"background-color: #FCFCFF\">and</span> <span style=\"background-color: #FEFEFF\">loss</span> <span style=\"background-color: #FEFEFF\">responsibility</span> <span style=\"background-color: #FFF4F4\">.</span> <span style=\"background-color: #FFFCFC\">candidates</span> <span style=\"background-color: #FEFEFF\">must</span> <span style=\"background-color: #FFFCFC\">possess</span> <span style=\"background-color: #ECECFF\">a</span> <span style=\"background-color: #F6F6FF\">proven</span> <span style=\"background-color: #FFFEFE\">and</span> <span style=\"background-color: #FFFEFE\">successful</span> <span style=\"background-color: #FFFEFE\">track</span> <span style=\"background-color: #FFFEFE\">record</span> <span style=\"background-color: #FFFAFA\">in</span> <span style=\"background-color: #FFFEFE\">managing</span> <span style=\"background-color: #FFFEFE\">similar</span> <span style=\"background-color: #FFF2F2\">sized</span> <span style=\"background-color: #FFFEFE\">teams</span> <span style=\"background-color: #E0E0FF\">within</span> <span style=\"background-color: #FFFEFE\">the</span> <span style=\"background-color: #FFFEFE\">healthcare</span> <span style=\"background-color: #CECEFF\">sector</span> <span style=\"background-color: #FFFEFE\">,</span> <span style=\"background-color: #FFFEFE\">as</span> <span style=\"background-color: #FFFEFE\">well</span> <span style=\"background-color: #FFFEFE\">as</span> <span style=\"background-color: #FCFCFF\">a</span> <span style=\"background-color: #FEFEFF\">full</span> <span style=\"background-color: #FEFEFF\">grasp</span> <span style=\"background-color: #F0F0FF\">of</span> <span style=\"background-color: #FEFEFF\">nhs</span> <span style=\"background-color: #FEFEFF\">decision</span> <span style=\"background-color: #FFDCDC\">making</span> <span style=\"background-color: #FEFEFF\">and</span> <span style=\"background-color: #FFFEFE\">bids</span> <span style=\"background-color: #FFFEFE\">/</span> <span style=\"background-color: #FFFEFE\">tender</span> <span style=\"background-color: #FFFEFE\">processes</span> <span style=\"background-color: #FFFEFE\">.</span> <span style=\"background-color: #FFFEFE\">full</span> <span style=\"background-color: #FFFEFE\">service</span> <span style=\"background-color: #FFFEFE\">and</span> <span style=\"background-color: #FFFEFE\">company</span> <span style=\"background-color: #FCFCFF\">training</span> <span style=\"background-color: #FAFAFF\">will</span> <span style=\"background-color: #FEFEFF\">be</span> <span style=\"background-color: #FAFAFF\">given</span> <span style=\"background-color: #FAFAFF\">and</span> <span style=\"background-color: #FFFEFE\">career</span> <span style=\"background-color: #FFFEFE\">/</span> <span style=\"background-color: #FFF8F8\">earning</span> <span style=\"background-color: #FFF8F8\">prospects</span> <span style=\"background-color: #DEDEFF\">for</span> <span style=\"background-color: #F2F2FF\">high</span> <span style=\"background-color: #E6E6FF\">achievers</span> <span style=\"background-color: #F2F2FF\">are</span> <span style=\"background-color: #ECECFF\">exciting</span> <span style=\"background-color: #FFFCFC\">and</span> <span style=\"background-color: #F8F8FF\">realistic</span> <span style=\"background-color: #FFFEFE\">.</span> <span style=\"background-color: #FFFEFE\">the</span> <span style=\"background-color: #FFF2F2\">package</span> <span style=\"background-color: #FFFEFE\">:</span> <span style=\"background-color: #F8F8FF\">basic</span> <span style=\"background-color: #FFE4E4\">salary</span> <span style=\"background-color: #FFF8F8\">****</span> <span style=\"background-color: #FFFEFE\">to</span> <span style=\"background-color: #FFFEFE\">****</span> <span style=\"background-color: #EAEAFF\">benefits</span> <span style=\"background-color: #FFEEEE\">healthcare</span> <span style=\"background-color: #FFACAC\">,</span> <span style=\"background-color: #DADAFF\">pension</span> <span style=\"background-color: #FFC3C3\">,</span> <span style=\"background-color: #DEDEFF\">laptop</span> <span style=\"background-color: #FFDCDC\">,</span> <span style=\"background-color: #FFF6F6\">25</span> <span style=\"background-color: #F3F3FF\">days</span> <span style=\"background-color: #E3E3FF\">holiday</span> <span style=\"background-color: #FFE0E0\">stats</span> <span style=\"background-color: #FFFEFE\">northern</span> <span style=\"background-color: #FFFEFE\">territories</span> <span style=\"background-color: #FFFEFE\">/</span> <span style=\"background-color: #FFF4F4\">bolton</span> <span style=\"background-color: #FFFEFE\">,</span> <span style=\"background-color: #FFFEFE\">bradford</span> <span style=\"background-color: #F3F3FF\">,</span> <span style=\"background-color: #FCFCFF\">bury</span> <span style=\"background-color: #FFFEFE\">,</span> <span style=\"background-color: #FFFCFC\">cheshire</span> <span style=\"background-color: #BCBCFF\">,</span> <span style=\"background-color: #FFFEFE\">chorley</span> <span style=\"background-color: #FFFEFE\">,</span> <span style=\"background-color: #E2E2FF\">cumbria</span> <span style=\"background-color: #F3F3FF\">,</span> <span style=\"background-color: #EEEEFF\">doncaster</span> <span style=\"background-color: #F8F8FF\">,</span> <span style=\"background-color: #F8F8FF\">harrogate</span> <span style=\"background-color: #FEFEFF\">,</span> <span style=\"background-color: #E2E2FF\">hull</span> <span style=\"background-color: #FFFEFE\">,</span> <span style=\"background-color: #FFFEFE\">humberside</span> <span style=\"background-color: #FFFEFE\">,</span> <span style=\"background-color: #FEFEFF\">lancashire</span> <span style=\"background-color: #FFFCFC\">,</span> <span style=\"background-color: #FFF4F4\">leeds</span> <span style=\"background-color: #FFFCFC\">,</span> <span style=\"background-color: #FFFEFE\">liverpool</span> <span style=\"background-color: #FFFCFC\">,</span> <span style=\"background-color: #FFFCFC\">manchester</span> <span style=\"background-color: #FFFCFC\">,</span> <span style=\"background-color: #F6F6FF\">north</span> <span style=\"background-color: #FFFEFE\">lincolnshire</span> <span style=\"background-color: #FFFEFE\">,</span> <span style=\"background-color: #E6E6FF\">north</span> <span style=\"background-color: #FFF8F8\">wales</span> <span style=\"background-color: #F8F8FF\">,</span> <span style=\"background-color: #FFF4F4\">preston</span> <span style=\"background-color: #FFF4F4\">,</span> <span style=\"background-color: #EAEAFF\">sheffield</span> <span style=\"background-color: #FFF2F2\">,</span> <span style=\"background-color: #F3F3FF\">wigan</span> <span style=\"background-color: #FFFEFE\">,</span> <span style=\"background-color: #FFFEFE\">wakefield</span> <span style=\"background-color: #FFFAFA\">,</span> <span style=\"background-color: #FFF2F2\">warrington</span> <span style=\"background-color: #FFFCFC\">,</span> <span style=\"background-color: #F2F2FF\">york</span> <span style=\"background-color: #F8F8FF\">bms</span> <span style=\"background-color: #F2F2FF\">is</span> <span style=\"background-color: #F3F3FF\">a</span> <span style=\"background-color: #F0F0FF\">leading</span> <span style=\"background-color: #F8F8FF\">consultancy</span> <span style=\"background-color: #F2F2FF\">specialising</span> <span style=\"background-color: #F8F8FF\">in</span> <span style=\"background-color: #FFF8F8\">sales</span> <span style=\"background-color: #FFFEFE\">recruitment</span> <span style=\"background-color: #FFFEFE\">.</span> <span style=\"background-color: #FEFEFF\">established</span> <span style=\"background-color: #FFFEFE\">in</span> <span style=\"background-color: #F8F8FF\">1990</span> <span style=\"background-color: #FFFEFE\">,</span> <span style=\"background-color: #FCFCFF\">bms</span> <span style=\"background-color: #F6F6FF\">has</span> <span style=\"background-color: #F6F6FF\">achieved</span> <span style=\"background-color: #FFE0E0\">a</span> <span style=\"background-color: #FAFAFF\">truly</span> <span style=\"background-color: #FFF4F4\">nationwide</span> <span style=\"background-color: #FAFAFF\">presence</span> <span style=\"background-color: #D0D0FF\">through</span> <span style=\"background-color: #E8E8FF\">a</span> <span style=\"background-color: #FFF8F8\">number</span> <span style=\"background-color: #FFD0D0\">of</span> <span style=\"background-color: #E3E3FF\">regional</span> <span style=\"background-color: #FFECEC\">centres</span> <span style=\"background-color: #E3E3FF\">.</span> <span style=\"background-color: #E3E3FF\">the</span> <span style=\"background-color: #ACACFF\">northern</span> <span style=\"background-color: #FFFEFE\">office</span> <span style=\"background-color: #9C9CFF\">,</span> <span style=\"background-color: #FFF8F8\">opened</span> <span style=\"background-color: #FFFCFC\">in</span> <span style=\"background-color: #FAFAFF\">1994</span> <span style=\"background-color: #FAFAFF\">offering</span> <span style=\"background-color: #FF9A9A\">sales</span> <span style=\"background-color: #FAFAFF\">jobs</span> <span style=\"background-color: #F8F8FF\">for</span> <span style=\"background-color: #FAFAFF\">trainees</span> <span style=\"background-color: #FFFEFE\">,</span> <span style=\"background-color: #FFEEEE\">sales</span> <span style=\"background-color: #FFFEFE\">representatives</span> <span style=\"background-color: #FFF4F4\">,</span> <span style=\"background-color: #E2E2FF\">sales</span> <span style=\"background-color: #FFFEFE\">executives</span> <span style=\"background-color: #FFFAFA\">,</span> <span style=\"background-color: #FFE6E6\">sales</span> <span style=\"background-color: #F8F8FF\">engineers</span> <span style=\"background-color: #ECECFF\">,</span> <span style=\"background-color: #DEDEFF\">area</span> <span style=\"background-color: #F0F0FF\">sales</span> <span style=\"background-color: #DEDEFF\">managers</span> <span style=\"background-color: #FFEEEE\">and</span> <span style=\"background-color: #D8D8FF\">account</span> <span style=\"background-color: #F0F0FF\">managers</span> <span style=\"background-color: #FFEEEE\">,</span> <span style=\"background-color: #FFFCFC\">opportunities</span> <span style=\"background-color: #FFEAEA\">are</span> <span style=\"background-color: #D8D8FF\">available</span> <span style=\"background-color: #FFE6E6\">in</span> <span style=\"background-color: #FEFEFF\">every</span> <span style=\"background-color: #FEFEFF\">corner</span> <span style=\"background-color: #FEFEFF\">of</span> <span style=\"background-color: #FFFEFE\">the</span> <span style=\"background-color: #FFFEFE\">uk</span> <span style=\"background-color: #FFFCFC\">and</span> <span style=\"background-color: #FFE2E2\">ireland</span> <span style=\"background-color: #FFFAFA\">.</span> <span style=\"background-color: #FFFAFA\">.</span></p>"
      ]
     },
     "metadata": {},
     "output_type": "display_data"
    }
   ],
   "source": [
    "i = np.random.randint(len(data))\n",
    "print(\"Index:\", i)\n",
    "print(\"Salary (gbp):\", np.expm1(model(make_batch(data.iloc[i: i+1]))[0].detach().numpy().item()))\n",
    "\n",
    "tokens_and_weights = explain(model, data.loc[i], \"Title\")\n",
    "draw_html([(tok, weight * 5) for tok, weight in tokens_and_weights], font_style='font-size:20px;');\n",
    "\n",
    "tokens_and_weights = explain(model, data.loc[i], \"FullDescription\")\n",
    "draw_html([(tok, weight * 10) for tok, weight in tokens_and_weights]);"
   ]
  },
  {
   "cell_type": "markdown",
   "metadata": {},
   "source": [
    "__Terrible start-up idea #1962:__ make a tool that automaticaly rephrases your job description (or CV) to meet salary expectations :)"
   ]
  }
 ],
 "metadata": {
  "kernelspec": {
   "display_name": "nlp-venv-37",
   "language": "python",
   "name": "nlp-venv-37"
  },
  "language_info": {
   "codemirror_mode": {
    "name": "ipython",
    "version": 3
   },
   "file_extension": ".py",
   "mimetype": "text/x-python",
   "name": "python",
   "nbconvert_exporter": "python",
   "pygments_lexer": "ipython3",
   "version": "3.7.3"
  }
 },
 "nbformat": 4,
 "nbformat_minor": 2
}
