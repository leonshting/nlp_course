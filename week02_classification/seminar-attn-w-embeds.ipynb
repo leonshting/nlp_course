{
 "cells": [
  {
   "cell_type": "markdown",
   "metadata": {},
   "source": [
    "# Large scale text analysis with deep learning (3 points)\n",
    "\n",
    "Today we're gonna apply the newly learned tools for the task of predicting job salary.\n",
    "\n",
    "<img src=\"https://storage.googleapis.com/kaggle-competitions/kaggle/3342/media/salary%20prediction%20engine%20v2.png\" width=400px>\n",
    "\n",
    "_Special thanks to [Oleg Vasilev](https://github.com/Omrigan/) for the core assignment idea._"
   ]
  },
  {
   "cell_type": "code",
   "execution_count": 2,
   "metadata": {},
   "outputs": [],
   "source": [
    "import numpy as np\n",
    "import pandas as pd\n",
    "import matplotlib.pyplot as plt\n",
    "%matplotlib inline"
   ]
  },
  {
   "cell_type": "markdown",
   "metadata": {},
   "source": [
    "### About the challenge\n",
    "For starters, let's download and unpack the data from [here]. \n",
    "\n",
    "You can also get it from [yadisk url](https://yadi.sk/d/vVEOWPFY3NruT7) the competition [page](https://www.kaggle.com/c/job-salary-prediction/data) (pick `Train_rev1.*`)."
   ]
  },
  {
   "cell_type": "code",
   "execution_count": 3,
   "metadata": {},
   "outputs": [
    {
     "data": {
      "text/plain": [
       "(244768, 12)"
      ]
     },
     "execution_count": 3,
     "metadata": {},
     "output_type": "execute_result"
    }
   ],
   "source": [
    "#!wget https://ysda-seminars.s3.eu-central-1.amazonaws.com/Train_rev1.zip\n",
    "#!unzip Train_rev1.zip\n",
    "data = pd.read_csv(\"./Train_rev1.csv\", index_col=None)\n",
    "data.shape"
   ]
  },
  {
   "cell_type": "code",
   "execution_count": 4,
   "metadata": {},
   "outputs": [
    {
     "data": {
      "text/html": [
       "<div>\n",
       "<style scoped>\n",
       "    .dataframe tbody tr th:only-of-type {\n",
       "        vertical-align: middle;\n",
       "    }\n",
       "\n",
       "    .dataframe tbody tr th {\n",
       "        vertical-align: top;\n",
       "    }\n",
       "\n",
       "    .dataframe thead th {\n",
       "        text-align: right;\n",
       "    }\n",
       "</style>\n",
       "<table border=\"1\" class=\"dataframe\">\n",
       "  <thead>\n",
       "    <tr style=\"text-align: right;\">\n",
       "      <th></th>\n",
       "      <th>Id</th>\n",
       "      <th>Title</th>\n",
       "      <th>FullDescription</th>\n",
       "      <th>LocationRaw</th>\n",
       "      <th>LocationNormalized</th>\n",
       "      <th>ContractType</th>\n",
       "      <th>ContractTime</th>\n",
       "      <th>Company</th>\n",
       "      <th>Category</th>\n",
       "      <th>SalaryRaw</th>\n",
       "      <th>SalaryNormalized</th>\n",
       "      <th>SourceName</th>\n",
       "    </tr>\n",
       "  </thead>\n",
       "  <tbody>\n",
       "    <tr>\n",
       "      <th>0</th>\n",
       "      <td>12612628</td>\n",
       "      <td>Engineering Systems Analyst</td>\n",
       "      <td>Engineering Systems Analyst Dorking Surrey Sal...</td>\n",
       "      <td>Dorking, Surrey, Surrey</td>\n",
       "      <td>Dorking</td>\n",
       "      <td>NaN</td>\n",
       "      <td>permanent</td>\n",
       "      <td>Gregory Martin International</td>\n",
       "      <td>Engineering Jobs</td>\n",
       "      <td>20000 - 30000/annum 20-30K</td>\n",
       "      <td>25000</td>\n",
       "      <td>cv-library.co.uk</td>\n",
       "    </tr>\n",
       "    <tr>\n",
       "      <th>1</th>\n",
       "      <td>12612830</td>\n",
       "      <td>Stress Engineer Glasgow</td>\n",
       "      <td>Stress Engineer Glasgow Salary **** to **** We...</td>\n",
       "      <td>Glasgow, Scotland, Scotland</td>\n",
       "      <td>Glasgow</td>\n",
       "      <td>NaN</td>\n",
       "      <td>permanent</td>\n",
       "      <td>Gregory Martin International</td>\n",
       "      <td>Engineering Jobs</td>\n",
       "      <td>25000 - 35000/annum 25-35K</td>\n",
       "      <td>30000</td>\n",
       "      <td>cv-library.co.uk</td>\n",
       "    </tr>\n",
       "    <tr>\n",
       "      <th>2</th>\n",
       "      <td>12612844</td>\n",
       "      <td>Modelling and simulation analyst</td>\n",
       "      <td>Mathematical Modeller / Simulation Analyst / O...</td>\n",
       "      <td>Hampshire, South East, South East</td>\n",
       "      <td>Hampshire</td>\n",
       "      <td>NaN</td>\n",
       "      <td>permanent</td>\n",
       "      <td>Gregory Martin International</td>\n",
       "      <td>Engineering Jobs</td>\n",
       "      <td>20000 - 40000/annum 20-40K</td>\n",
       "      <td>30000</td>\n",
       "      <td>cv-library.co.uk</td>\n",
       "    </tr>\n",
       "    <tr>\n",
       "      <th>3</th>\n",
       "      <td>12613049</td>\n",
       "      <td>Engineering Systems Analyst / Mathematical Mod...</td>\n",
       "      <td>Engineering Systems Analyst / Mathematical Mod...</td>\n",
       "      <td>Surrey, South East, South East</td>\n",
       "      <td>Surrey</td>\n",
       "      <td>NaN</td>\n",
       "      <td>permanent</td>\n",
       "      <td>Gregory Martin International</td>\n",
       "      <td>Engineering Jobs</td>\n",
       "      <td>25000 - 30000/annum 25K-30K negotiable</td>\n",
       "      <td>27500</td>\n",
       "      <td>cv-library.co.uk</td>\n",
       "    </tr>\n",
       "    <tr>\n",
       "      <th>4</th>\n",
       "      <td>12613647</td>\n",
       "      <td>Pioneer, Miser Engineering Systems Analyst</td>\n",
       "      <td>Pioneer, Miser  Engineering Systems Analyst Do...</td>\n",
       "      <td>Surrey, South East, South East</td>\n",
       "      <td>Surrey</td>\n",
       "      <td>NaN</td>\n",
       "      <td>permanent</td>\n",
       "      <td>Gregory Martin International</td>\n",
       "      <td>Engineering Jobs</td>\n",
       "      <td>20000 - 30000/annum 20-30K</td>\n",
       "      <td>25000</td>\n",
       "      <td>cv-library.co.uk</td>\n",
       "    </tr>\n",
       "  </tbody>\n",
       "</table>\n",
       "</div>"
      ],
      "text/plain": [
       "         Id                                              Title  \\\n",
       "0  12612628                        Engineering Systems Analyst   \n",
       "1  12612830                            Stress Engineer Glasgow   \n",
       "2  12612844                   Modelling and simulation analyst   \n",
       "3  12613049  Engineering Systems Analyst / Mathematical Mod...   \n",
       "4  12613647         Pioneer, Miser Engineering Systems Analyst   \n",
       "\n",
       "                                     FullDescription  \\\n",
       "0  Engineering Systems Analyst Dorking Surrey Sal...   \n",
       "1  Stress Engineer Glasgow Salary **** to **** We...   \n",
       "2  Mathematical Modeller / Simulation Analyst / O...   \n",
       "3  Engineering Systems Analyst / Mathematical Mod...   \n",
       "4  Pioneer, Miser  Engineering Systems Analyst Do...   \n",
       "\n",
       "                         LocationRaw LocationNormalized ContractType  \\\n",
       "0            Dorking, Surrey, Surrey            Dorking          NaN   \n",
       "1        Glasgow, Scotland, Scotland            Glasgow          NaN   \n",
       "2  Hampshire, South East, South East          Hampshire          NaN   \n",
       "3     Surrey, South East, South East             Surrey          NaN   \n",
       "4     Surrey, South East, South East             Surrey          NaN   \n",
       "\n",
       "  ContractTime                       Company          Category  \\\n",
       "0    permanent  Gregory Martin International  Engineering Jobs   \n",
       "1    permanent  Gregory Martin International  Engineering Jobs   \n",
       "2    permanent  Gregory Martin International  Engineering Jobs   \n",
       "3    permanent  Gregory Martin International  Engineering Jobs   \n",
       "4    permanent  Gregory Martin International  Engineering Jobs   \n",
       "\n",
       "                                SalaryRaw  SalaryNormalized        SourceName  \n",
       "0              20000 - 30000/annum 20-30K             25000  cv-library.co.uk  \n",
       "1              25000 - 35000/annum 25-35K             30000  cv-library.co.uk  \n",
       "2              20000 - 40000/annum 20-40K             30000  cv-library.co.uk  \n",
       "3  25000 - 30000/annum 25K-30K negotiable             27500  cv-library.co.uk  \n",
       "4              20000 - 30000/annum 20-30K             25000  cv-library.co.uk  "
      ]
     },
     "execution_count": 4,
     "metadata": {},
     "output_type": "execute_result"
    }
   ],
   "source": [
    "data.head()"
   ]
  },
  {
   "cell_type": "markdown",
   "metadata": {},
   "source": [
    "One problem with salary prediction is that it's oddly distributed: there are many people who are paid standard salaries and a few that get tons o money. The distribution is fat-tailed on the right side, which is inconvenient for MSE minimization.\n",
    "\n",
    "There are several techniques to combat this: using a different loss function, predicting log-target instead of raw target or even replacing targets with their percentiles among all salaries in the training set. We gonna use logarithm for now.\n",
    "\n",
    "_You can read more [in the official description](https://www.kaggle.com/c/job-salary-prediction#description)._"
   ]
  },
  {
   "cell_type": "code",
   "execution_count": 5,
   "metadata": {},
   "outputs": [
    {
     "data": {
      "image/png": "[encoded data removed]",
      "text/plain": [
       "<Figure size 576x288 with 2 Axes>"
      ]
     },
     "metadata": {
      "needs_background": "light"
     },
     "output_type": "display_data"
    }
   ],
   "source": [
    "data['Log1pSalary'] = np.log1p(data['SalaryNormalized']).astype('float32')\n",
    "\n",
    "plt.figure(figsize=[8, 4])\n",
    "plt.subplot(1, 2, 1)\n",
    "plt.hist(data[\"SalaryNormalized\"], bins=20);\n",
    "\n",
    "plt.subplot(1, 2, 2)\n",
    "plt.hist(data['Log1pSalary'], bins=20);"
   ]
  },
  {
   "cell_type": "markdown",
   "metadata": {},
   "source": [
    "Our task is to predict one number, __Log1pSalary__.\n",
    "\n",
    "To do so, our model can access a number of features:\n",
    "* Free text: __`Title`__ and  __`FullDescription`__\n",
    "* Categorical: __`Category`__, __`Company`__, __`LocationNormalized`__, __`ContractType`__, and __`ContractTime`__."
   ]
  },
  {
   "cell_type": "code",
   "execution_count": 6,
   "metadata": {},
   "outputs": [
    {
     "data": {
      "text/html": [
       "<div>\n",
       "<style scoped>\n",
       "    .dataframe tbody tr th:only-of-type {\n",
       "        vertical-align: middle;\n",
       "    }\n",
       "\n",
       "    .dataframe tbody tr th {\n",
       "        vertical-align: top;\n",
       "    }\n",
       "\n",
       "    .dataframe thead th {\n",
       "        text-align: right;\n",
       "    }\n",
       "</style>\n",
       "<table border=\"1\" class=\"dataframe\">\n",
       "  <thead>\n",
       "    <tr style=\"text-align: right;\">\n",
       "      <th></th>\n",
       "      <th>Id</th>\n",
       "      <th>Title</th>\n",
       "      <th>FullDescription</th>\n",
       "      <th>LocationRaw</th>\n",
       "      <th>LocationNormalized</th>\n",
       "      <th>ContractType</th>\n",
       "      <th>ContractTime</th>\n",
       "      <th>Company</th>\n",
       "      <th>Category</th>\n",
       "      <th>SalaryRaw</th>\n",
       "      <th>SalaryNormalized</th>\n",
       "      <th>SourceName</th>\n",
       "      <th>Log1pSalary</th>\n",
       "    </tr>\n",
       "  </thead>\n",
       "  <tbody>\n",
       "    <tr>\n",
       "      <th>189152</th>\n",
       "      <td>71708074</td>\n",
       "      <td>NET DEVELOPER</td>\n",
       "      <td>Our Events industry client is currently lookin...</td>\n",
       "      <td>SWINDON, WILTSHIRE</td>\n",
       "      <td>Swindon</td>\n",
       "      <td>full_time</td>\n",
       "      <td>permanent</td>\n",
       "      <td>PROGRESSIVE PERSONNEL</td>\n",
       "      <td>IT Jobs</td>\n",
       "      <td>30000 per annum + RANGE OF BENEFITS</td>\n",
       "      <td>30000</td>\n",
       "      <td>fish4.co.uk</td>\n",
       "      <td>10.308986</td>\n",
       "    </tr>\n",
       "    <tr>\n",
       "      <th>43231</th>\n",
       "      <td>68495994</td>\n",
       "      <td>Infrastructure Engineer (Windows, linux, VmWar...</td>\n",
       "      <td>Global hightech manufacturer and distributor r...</td>\n",
       "      <td>Cheshire Warrington WA4 6</td>\n",
       "      <td>Warrington</td>\n",
       "      <td>NaN</td>\n",
       "      <td>permanent</td>\n",
       "      <td>Applause IT Ltd</td>\n",
       "      <td>IT Jobs</td>\n",
       "      <td>28000.00 - 32000.00 GBP Annual</td>\n",
       "      <td>30000</td>\n",
       "      <td>jobserve.com</td>\n",
       "      <td>10.308986</td>\n",
       "    </tr>\n",
       "    <tr>\n",
       "      <th>144599</th>\n",
       "      <td>70656318</td>\n",
       "      <td>Junior Campaign Manager</td>\n",
       "      <td>A superb opportunity has arisen for a Junior C...</td>\n",
       "      <td>West Midlands</td>\n",
       "      <td>West Midlands</td>\n",
       "      <td>full_time</td>\n",
       "      <td>permanent</td>\n",
       "      <td>AF SELECTION</td>\n",
       "      <td>PR, Advertising &amp; Marketing Jobs</td>\n",
       "      <td>18,000-22,000</td>\n",
       "      <td>20000</td>\n",
       "      <td>jobs.guardian.co.uk</td>\n",
       "      <td>9.903538</td>\n",
       "    </tr>\n",
       "  </tbody>\n",
       "</table>\n",
       "</div>"
      ],
      "text/plain": [
       "              Id                                              Title  \\\n",
       "189152  71708074                                      NET DEVELOPER   \n",
       "43231   68495994  Infrastructure Engineer (Windows, linux, VmWar...   \n",
       "144599  70656318                            Junior Campaign Manager   \n",
       "\n",
       "                                          FullDescription  \\\n",
       "189152  Our Events industry client is currently lookin...   \n",
       "43231   Global hightech manufacturer and distributor r...   \n",
       "144599  A superb opportunity has arisen for a Junior C...   \n",
       "\n",
       "                      LocationRaw LocationNormalized ContractType  \\\n",
       "189152         SWINDON, WILTSHIRE            Swindon    full_time   \n",
       "43231   Cheshire Warrington WA4 6         Warrington          NaN   \n",
       "144599              West Midlands      West Midlands    full_time   \n",
       "\n",
       "       ContractTime                Company                          Category  \\\n",
       "189152    permanent  PROGRESSIVE PERSONNEL                           IT Jobs   \n",
       "43231     permanent        Applause IT Ltd                           IT Jobs   \n",
       "144599    permanent           AF SELECTION  PR, Advertising & Marketing Jobs   \n",
       "\n",
       "                                  SalaryRaw  SalaryNormalized  \\\n",
       "189152  30000 per annum + RANGE OF BENEFITS             30000   \n",
       "43231        28000.00 - 32000.00 GBP Annual             30000   \n",
       "144599                        18,000-22,000             20000   \n",
       "\n",
       "                 SourceName  Log1pSalary  \n",
       "189152          fish4.co.uk    10.308986  \n",
       "43231          jobserve.com    10.308986  \n",
       "144599  jobs.guardian.co.uk     9.903538  "
      ]
     },
     "execution_count": 6,
     "metadata": {},
     "output_type": "execute_result"
    }
   ],
   "source": [
    "text_columns = [\"Title\", \"FullDescription\"]\n",
    "categorical_columns = [\"Category\", \"Company\", \"LocationNormalized\", \"ContractType\", \"ContractTime\"]\n",
    "TARGET_COLUMN = \"Log1pSalary\"\n",
    "\n",
    "data[categorical_columns] = data[categorical_columns].fillna('NaN') # cast missing values to string \"NaN\"\n",
    "\n",
    "data.sample(3)"
   ]
  },
  {
   "cell_type": "markdown",
   "metadata": {},
   "source": [
    "### Preprocessing text data\n",
    "\n",
    "Just like last week, applying NLP to a problem begins from tokenization: splitting raw text into sequences of tokens (words, punctuation, etc).\n",
    "\n",
    "__Your task__ is to lowercase and tokenize all texts under `Title` and `FullDescription` columns. Store the tokenized data as a __space-separated__ string of tokens for performance reasons.\n",
    "\n",
    "It's okay to use nltk tokenizers. Assertions were designed for WordPunctTokenizer, slight deviations are okay."
   ]
  },
  {
   "cell_type": "code",
   "execution_count": 7,
   "metadata": {
    "scrolled": true
   },
   "outputs": [
    {
     "name": "stdout",
     "output_type": "stream",
     "text": [
      "Raw text:\n",
      "2         Mathematical Modeller / Simulation Analyst / O...\n",
      "100002    A successful and high achieving specialist sch...\n",
      "200002    Web Designer  HTML, CSS, JavaScript, Photoshop...\n",
      "Name: FullDescription, dtype: object\n"
     ]
    }
   ],
   "source": [
    "print(\"Raw text:\")\n",
    "print(data[\"FullDescription\"][2::100000])"
   ]
  },
  {
   "cell_type": "code",
   "execution_count": 8,
   "metadata": {},
   "outputs": [],
   "source": [
    "def make_tokenize(tokenireturnurn):\n",
    "    def tokenize(text):\n",
    "        try:\n",
    "            return ' '.join(tokenizer.tokenize(text.lower()))\n",
    "        except:\n",
    "            return 'PAD'\n",
    "    return tokenize"
   ]
  },
  {
   "cell_type": "code",
   "execution_count": 9,
   "metadata": {},
   "outputs": [],
   "source": [
    "import nltk\n",
    "\n",
    "tokenizer = nltk.tokenize.WordPunctTokenizer()\n",
    "tokenize_func = make_tokenize(tokenizer)\n",
    "\n",
    "data[[\"FullDescription\", \"Title\"]] = data[[\"FullDescription\", \"Title\"]].applymap(\n",
    "    tokenize_func\n",
    ")"
   ]
  },
  {
   "cell_type": "markdown",
   "metadata": {},
   "source": [
    "Now we can assume that our text is a space-separated list of tokens:"
   ]
  },
  {
   "cell_type": "code",
   "execution_count": 10,
   "metadata": {},
   "outputs": [
    {
     "name": "stdout",
     "output_type": "stream",
     "text": [
      "Tokenized:\n",
      "2         mathematical modeller / simulation analyst / o...\n",
      "100002    a successful and high achieving specialist sch...\n",
      "200002    web designer html , css , javascript , photosh...\n",
      "Name: FullDescription, dtype: object\n"
     ]
    }
   ],
   "source": [
    "print(\"Tokenized:\")\n",
    "print(data[\"FullDescription\"][2::100000])\n",
    "assert data[\"FullDescription\"][2][:50] == 'mathematical modeller / simulation analyst / opera'\n",
    "assert data[\"Title\"][54321] == 'international digital account manager ( german )'"
   ]
  },
  {
   "cell_type": "markdown",
   "metadata": {},
   "source": [
    "Not all words are equally useful. Some of them are typos or rare words that are only present a few times. \n",
    "\n",
    "Let's count how many times is each word present in the data so that we can build a \"white list\" of known words."
   ]
  },
  {
   "cell_type": "code",
   "execution_count": 11,
   "metadata": {},
   "outputs": [],
   "source": [
    "from collections import Counter\n",
    "token_counts = Counter()\n",
    "\n",
    "def inc_token_counts(token):\n",
    "    token_counts[token] += 1\n",
    "\n",
    "# Count how many times does each token occur in both \"Title\" and \"FullDescription\" in total\n",
    "_ = data[[\"FullDescription\", \"Title\"]].applymap(\n",
    "    lambda x: [inc_token_counts(t) for t in x.split(' ')], \n",
    "    na_action='ignore'\n",
    ")"
   ]
  },
  {
   "cell_type": "code",
   "execution_count": 12,
   "metadata": {},
   "outputs": [
    {
     "name": "stdout",
     "output_type": "stream",
     "text": [
      "Total unique tokens : 202705\n",
      "('and', 2657388)\n",
      "('.', 2523216)\n",
      "(',', 2318606)\n",
      "('the', 2080994)\n",
      "('to', 2019884)\n",
      "...\n",
      "('improvemen', 1)\n",
      "('techniciancivil', 1)\n",
      "('mlnlycke', 1)\n",
      "Correct!\n"
     ]
    }
   ],
   "source": [
    "print(\"Total unique tokens :\", len(token_counts))\n",
    "print('\\n'.join(map(str, token_counts.most_common(n=5))))\n",
    "print('...')\n",
    "print('\\n'.join(map(str, token_counts.most_common()[-3:])))\n",
    "\n",
    "assert token_counts.most_common(1)[0][1] in  range(2600000, 2700000)\n",
    "assert len(token_counts) in range(200000, 210000)\n",
    "print('Correct!')"
   ]
  },
  {
   "cell_type": "code",
   "execution_count": 13,
   "metadata": {},
   "outputs": [
    {
     "data": {
      "image/png": "[encoded data removed]",
      "text/plain": [
       "<Figure size 432x288 with 1 Axes>"
      ]
     },
     "metadata": {
      "needs_background": "light"
     },
     "output_type": "display_data"
    }
   ],
   "source": [
    "# Let's see how many words are there for each count\n",
    "plt.hist(list(token_counts.values()), range=[0, 10**4], bins=50, log=True)\n",
    "plt.xlabel(\"Word counts\");"
   ]
  },
  {
   "cell_type": "markdown",
   "metadata": {},
   "source": [
    "__Task 1.1__ Get a list of all tokens that occur at least 10 times."
   ]
  },
  {
   "cell_type": "code",
   "execution_count": 14,
   "metadata": {},
   "outputs": [],
   "source": [
    "min_count = 10\n",
    "\n",
    "# tokens from token_counts keys that had at least min_count occurrences throughout the dataset\n",
    "tokens = sorted(t for t, c in token_counts.items() if c >= min_count)\n",
    "\n",
    "# Add a special tokens for unknown and empty words\n",
    "UNK, PAD = \"UNK\", \"PAD\"\n",
    "tokens = [UNK, PAD] + tokens"
   ]
  },
  {
   "cell_type": "code",
   "execution_count": 15,
   "metadata": {},
   "outputs": [
    {
     "name": "stdout",
     "output_type": "stream",
     "text": [
      "Vocabulary size: 34158\n",
      "Correct!\n"
     ]
    }
   ],
   "source": [
    "print(\"Vocabulary size:\", len(tokens))\n",
    "assert type(tokens) == list\n",
    "assert len(tokens) in range(32000, 35000)\n",
    "assert 'me' in tokens\n",
    "assert UNK in tokens\n",
    "print(\"Correct!\")"
   ]
  },
  {
   "cell_type": "markdown",
   "metadata": {},
   "source": [
    "__Task 1.2__ Build an inverse token index: a dictionary from token(string) to it's index in `tokens` (int)"
   ]
  },
  {
   "cell_type": "code",
   "execution_count": 16,
   "metadata": {},
   "outputs": [],
   "source": [
    "token_to_id = {t: num for num, t in enumerate(tokens)}"
   ]
  },
  {
   "cell_type": "code",
   "execution_count": 17,
   "metadata": {},
   "outputs": [
    {
     "name": "stdout",
     "output_type": "stream",
     "text": [
      "Correct!\n"
     ]
    }
   ],
   "source": [
    "assert isinstance(token_to_id, dict)\n",
    "assert len(token_to_id) == len(tokens)\n",
    "for tok in tokens:\n",
    "    assert tokens[token_to_id[tok]] == tok\n",
    "\n",
    "print(\"Correct!\")"
   ]
  },
  {
   "cell_type": "markdown",
   "metadata": {},
   "source": [
    "And finally, let's use the vocabulary you've built to map text lines into neural network-digestible matrices."
   ]
  },
  {
   "cell_type": "code",
   "execution_count": 18,
   "metadata": {},
   "outputs": [],
   "source": [
    "UNK_IX, PAD_IX = map(token_to_id.get, [UNK, PAD])\n",
    "\n",
    "def as_matrix(sequences, max_len=None):\n",
    "    \"\"\" Convert a list of tokens into a matrix with padding \"\"\"\n",
    "    if isinstance(sequences[0], str):\n",
    "        sequences = list(map(str.split, sequences))\n",
    "        \n",
    "    max_len = min(max(map(len, sequences)), max_len or float('inf'))\n",
    "    \n",
    "    matrix = np.full((len(sequences), max_len), np.int32(PAD_IX))\n",
    "    for i,seq in enumerate(sequences):\n",
    "        row_ix = [token_to_id.get(word, UNK_IX) for word in seq[:max_len]]\n",
    "        matrix[i, :len(row_ix)] = row_ix\n",
    "    \n",
    "    return matrix"
   ]
  },
  {
   "cell_type": "code",
   "execution_count": 19,
   "metadata": {},
   "outputs": [
    {
     "name": "stdout",
     "output_type": "stream",
     "text": [
      "Lines:\n",
      "engineering systems analyst\n",
      "hr assistant\n",
      "senior ec & i engineer\n",
      "\n",
      "Matrix:\n",
      "[[10807 30161  2166     1     1]\n",
      " [15020  2844     1     1     1]\n",
      " [27645 10201    16 15215 10804]]\n"
     ]
    }
   ],
   "source": [
    "print(\"Lines:\")\n",
    "print('\\n'.join(data[\"Title\"][::100000].values), end='\\n\\n')\n",
    "print(\"Matrix:\")\n",
    "print(as_matrix(data[\"Title\"][::100000]))"
   ]
  },
  {
   "cell_type": "markdown",
   "metadata": {},
   "source": [
    "Now let's  encode the categirical data we have.\n",
    "\n",
    "As usual, we shall use one-hot encoding for simplicity. Kudos if you implement more advanced encodings: tf-idf, pseudo-time-series, etc."
   ]
  },
  {
   "cell_type": "code",
   "execution_count": 20,
   "metadata": {},
   "outputs": [
    {
     "data": {
      "text/html": [
       "<div>\n",
       "<style scoped>\n",
       "    .dataframe tbody tr th:only-of-type {\n",
       "        vertical-align: middle;\n",
       "    }\n",
       "\n",
       "    .dataframe tbody tr th {\n",
       "        vertical-align: top;\n",
       "    }\n",
       "\n",
       "    .dataframe thead th {\n",
       "        text-align: right;\n",
       "    }\n",
       "</style>\n",
       "<table border=\"1\" class=\"dataframe\">\n",
       "  <thead>\n",
       "    <tr style=\"text-align: right;\">\n",
       "      <th></th>\n",
       "      <th>Id</th>\n",
       "      <th>Title</th>\n",
       "      <th>FullDescription</th>\n",
       "      <th>LocationRaw</th>\n",
       "      <th>LocationNormalized</th>\n",
       "      <th>ContractType</th>\n",
       "      <th>ContractTime</th>\n",
       "      <th>Company</th>\n",
       "      <th>Category</th>\n",
       "      <th>SalaryRaw</th>\n",
       "      <th>SalaryNormalized</th>\n",
       "      <th>SourceName</th>\n",
       "      <th>Log1pSalary</th>\n",
       "    </tr>\n",
       "  </thead>\n",
       "  <tbody>\n",
       "    <tr>\n",
       "      <th>0</th>\n",
       "      <td>12612628</td>\n",
       "      <td>engineering systems analyst</td>\n",
       "      <td>engineering systems analyst dorking surrey sal...</td>\n",
       "      <td>Dorking, Surrey, Surrey</td>\n",
       "      <td>Dorking</td>\n",
       "      <td>NaN</td>\n",
       "      <td>permanent</td>\n",
       "      <td>Gregory Martin International</td>\n",
       "      <td>Engineering Jobs</td>\n",
       "      <td>20000 - 30000/annum 20-30K</td>\n",
       "      <td>25000</td>\n",
       "      <td>cv-library.co.uk</td>\n",
       "      <td>10.126671</td>\n",
       "    </tr>\n",
       "    <tr>\n",
       "      <th>1</th>\n",
       "      <td>12612830</td>\n",
       "      <td>stress engineer glasgow</td>\n",
       "      <td>stress engineer glasgow salary **** to **** we...</td>\n",
       "      <td>Glasgow, Scotland, Scotland</td>\n",
       "      <td>Glasgow</td>\n",
       "      <td>NaN</td>\n",
       "      <td>permanent</td>\n",
       "      <td>Gregory Martin International</td>\n",
       "      <td>Engineering Jobs</td>\n",
       "      <td>25000 - 35000/annum 25-35K</td>\n",
       "      <td>30000</td>\n",
       "      <td>cv-library.co.uk</td>\n",
       "      <td>10.308986</td>\n",
       "    </tr>\n",
       "    <tr>\n",
       "      <th>2</th>\n",
       "      <td>12612844</td>\n",
       "      <td>modelling and simulation analyst</td>\n",
       "      <td>mathematical modeller / simulation analyst / o...</td>\n",
       "      <td>Hampshire, South East, South East</td>\n",
       "      <td>Hampshire</td>\n",
       "      <td>NaN</td>\n",
       "      <td>permanent</td>\n",
       "      <td>Gregory Martin International</td>\n",
       "      <td>Engineering Jobs</td>\n",
       "      <td>20000 - 40000/annum 20-40K</td>\n",
       "      <td>30000</td>\n",
       "      <td>cv-library.co.uk</td>\n",
       "      <td>10.308986</td>\n",
       "    </tr>\n",
       "  </tbody>\n",
       "</table>\n",
       "</div>"
      ],
      "text/plain": [
       "         Id                             Title  \\\n",
       "0  12612628       engineering systems analyst   \n",
       "1  12612830           stress engineer glasgow   \n",
       "2  12612844  modelling and simulation analyst   \n",
       "\n",
       "                                     FullDescription  \\\n",
       "0  engineering systems analyst dorking surrey sal...   \n",
       "1  stress engineer glasgow salary **** to **** we...   \n",
       "2  mathematical modeller / simulation analyst / o...   \n",
       "\n",
       "                         LocationRaw LocationNormalized ContractType  \\\n",
       "0            Dorking, Surrey, Surrey            Dorking          NaN   \n",
       "1        Glasgow, Scotland, Scotland            Glasgow          NaN   \n",
       "2  Hampshire, South East, South East          Hampshire          NaN   \n",
       "\n",
       "  ContractTime                       Company          Category  \\\n",
       "0    permanent  Gregory Martin International  Engineering Jobs   \n",
       "1    permanent  Gregory Martin International  Engineering Jobs   \n",
       "2    permanent  Gregory Martin International  Engineering Jobs   \n",
       "\n",
       "                    SalaryRaw  SalaryNormalized        SourceName  Log1pSalary  \n",
       "0  20000 - 30000/annum 20-30K             25000  cv-library.co.uk    10.126671  \n",
       "1  25000 - 35000/annum 25-35K             30000  cv-library.co.uk    10.308986  \n",
       "2  20000 - 40000/annum 20-40K             30000  cv-library.co.uk    10.308986  "
      ]
     },
     "execution_count": 20,
     "metadata": {},
     "output_type": "execute_result"
    }
   ],
   "source": [
    "data.iloc[:3]"
   ]
  },
  {
   "cell_type": "code",
   "execution_count": 21,
   "metadata": {},
   "outputs": [
    {
     "data": {
      "text/plain": [
       "DictVectorizer(dtype=<class 'numpy.float32'>, sparse=False)"
      ]
     },
     "execution_count": 21,
     "metadata": {},
     "output_type": "execute_result"
    }
   ],
   "source": [
    "from sklearn.feature_extraction import DictVectorizer\n",
    "\n",
    "# we only consider top-1k most frequent companies to minimize memory usage\n",
    "top_companies, top_counts = zip(*Counter(data['Company']).most_common(1000))\n",
    "recognized_companies = set(top_companies)\n",
    "data[\"Company\"] = data[\"Company\"].apply(lambda comp: comp if comp in recognized_companies else \"Other\")\n",
    "\n",
    "categorical_vectorizer = DictVectorizer(dtype=np.float32, sparse=False)\n",
    "categorical_vectorizer.fit(data[categorical_columns].apply(dict, axis=1))"
   ]
  },
  {
   "cell_type": "markdown",
   "metadata": {},
   "source": [
    "### The deep learning part\n",
    "\n",
    "Once we've learned to tokenize the data, let's design a machine learning experiment.\n",
    "\n",
    "As before, we won't focus too much on validation, opting for a simple train-test split.\n",
    "\n",
    "__To be completely rigorous,__ we've comitted a small crime here: we used the whole data for tokenization and vocabulary building. A more strict way would be to do that part on training set only. You may want to do that and measure the magnitude of changes."
   ]
  },
  {
   "cell_type": "code",
   "execution_count": 22,
   "metadata": {},
   "outputs": [
    {
     "name": "stdout",
     "output_type": "stream",
     "text": [
      "Train size =  195814\n",
      "Validation size =  48954\n"
     ]
    }
   ],
   "source": [
    "from sklearn.model_selection import train_test_split\n",
    "\n",
    "data_train, data_val = train_test_split(data, test_size=0.2, random_state=42)\n",
    "data_train.index = range(len(data_train))\n",
    "data_val.index = range(len(data_val))\n",
    "\n",
    "print(\"Train size = \", len(data_train))\n",
    "print(\"Validation size = \", len(data_val))"
   ]
  },
  {
   "cell_type": "code",
   "execution_count": 23,
   "metadata": {},
   "outputs": [],
   "source": [
    "import torch\n",
    "\n",
    "def to_tensors(batch, device):\n",
    "    batch_tensors = dict()\n",
    "    for key, arr in batch.items():\n",
    "        if key in [\"FullDescription\", \"Title\"]:\n",
    "            batch_tensors[key] = torch.tensor(arr, device=device, dtype=torch.int64)\n",
    "        else:\n",
    "            batch_tensors[key] = torch.tensor(arr, device=device)\n",
    "    return batch_tensors\n",
    "\n",
    "def make_batch(data, max_len=None, word_dropout=0, device=torch.device('cpu')):\n",
    "    \"\"\"\n",
    "    Creates a keras-friendly dict from the batch data.\n",
    "    :param word_dropout: replaces token index with UNK_IX with this probability\n",
    "    :returns: a dict with {'title' : int64[batch, title_max_len]\n",
    "    \"\"\"\n",
    "    batch = {}\n",
    "    batch[\"Title\"] = as_matrix(data[\"Title\"].values, max_len)\n",
    "    batch[\"FullDescription\"] = as_matrix(data[\"FullDescription\"].values, max_len)\n",
    "    batch['Categorical'] = categorical_vectorizer.transform(data[categorical_columns].apply(dict, axis=1))\n",
    "    \n",
    "    if word_dropout != 0:\n",
    "        batch[\"FullDescription\"] = apply_word_dropout(batch[\"FullDescription\"], 1. - word_dropout)\n",
    "    \n",
    "    if TARGET_COLUMN in data.columns:\n",
    "        batch[TARGET_COLUMN] = data[TARGET_COLUMN].values\n",
    "    \n",
    "    return to_tensors(batch, device)\n",
    "\n",
    "def apply_word_dropout(matrix, keep_prop, replace_with=UNK_IX, pad_ix=PAD_IX,):\n",
    "    dropout_mask = np.random.choice(2, np.shape(matrix), p=[keep_prop, 1 - keep_prop])\n",
    "    dropout_mask &= matrix != pad_ix\n",
    "    return np.choose(dropout_mask, [matrix, np.full_like(matrix, replace_with)])"
   ]
  },
  {
   "cell_type": "code",
   "execution_count": 24,
   "metadata": {
    "scrolled": true
   },
   "outputs": [
    {
     "data": {
      "text/plain": [
       "{'Title': tensor([[27645, 29893, 33674,     1,     1,     1,     1],\n",
       "         [29239,   197, 19175, 20042, 15554, 23162,  4051],\n",
       "         [10609, 30412, 17746,    33,  8705, 29157,    65]]),\n",
       " 'FullDescription': tensor([[27645, 29893, 33674, 32939,   982, 27645, 29893, 33674, 16451, 32939],\n",
       "         [29239,   197, 19175, 20042, 15554, 23162,  4051, 25511,   907,    82],\n",
       "         [30746, 21956, 20601,  6409, 16451,  8165, 27493,   982, 30412, 17746]]),\n",
       " 'Categorical': tensor([[0., 0., 0.,  ..., 0., 0., 0.],\n",
       "         [0., 0., 0.,  ..., 0., 0., 0.],\n",
       "         [0., 0., 0.,  ..., 0., 0., 0.]]),\n",
       " 'Log1pSalary': tensor([ 9.7115, 10.4631, 10.7144])}"
      ]
     },
     "execution_count": 24,
     "metadata": {},
     "output_type": "execute_result"
    }
   ],
   "source": [
    "make_batch(data_train[:3], max_len=10)"
   ]
  },
  {
   "cell_type": "markdown",
   "metadata": {},
   "source": [
    "#### Architecture\n",
    "\n",
    "Our basic model consists of three branches:\n",
    "* Title encoder\n",
    "* Description encoder\n",
    "* Categorical features encoder\n",
    "\n",
    "We will then feed all 3 branches into one common network that predicts salary.\n",
    "\n",
    "![scheme](https://github.com/yandexdataschool/nlp_course/raw/master/resources/w2_conv_arch.png)"
   ]
  },
  {
   "cell_type": "markdown",
   "metadata": {},
   "source": [
    "This clearly doesn't fit into keras' __Sequential__ interface. To build such a network, one will have to use PyTorch."
   ]
  },
  {
   "cell_type": "code",
   "execution_count": 25,
   "metadata": {},
   "outputs": [],
   "source": [
    "import torch\n",
    "import torch.nn as nn\n",
    "import torch.functional as F"
   ]
  },
  {
   "cell_type": "code",
   "execution_count": 26,
   "metadata": {},
   "outputs": [
    {
     "data": {
      "text/plain": [
       "{'Title': tensor([[27645, 29893, 33674,     1,     1,     1,     1],\n",
       "         [29239,   197, 19175, 20042, 15554, 23162,  4051],\n",
       "         [10609, 30412, 17746,    33,  8705, 29157,    65]]),\n",
       " 'FullDescription': tensor([[27645, 29893, 33674, 32939,   982, 27645, 29893, 33674, 16451, 32939,\n",
       "          12587,   982, 26081, 27746, 15554,     0,   158, 28681,   158, 12587],\n",
       "         [29239,   197, 19175, 20042, 15554, 23162,  4051, 25511,   907,    82,\n",
       "           3547,  6061, 11400, 25843,  2189,  3807, 22209,  6409, 16451, 27493],\n",
       "         [30746, 21956, 20601,  6409, 16451,  8165, 27493,   982, 30412, 17746,\n",
       "          10481,  6927, 19815, 30695, 31100, 18411,  1668, 30746, 30678,  2189]]),\n",
       " 'Categorical': tensor([[0., 0., 0.,  ..., 0., 0., 0.],\n",
       "         [0., 0., 0.,  ..., 0., 0., 0.],\n",
       "         [0., 0., 0.,  ..., 0., 0., 0.]]),\n",
       " 'Log1pSalary': tensor([ 9.7115, 10.4631, 10.7144])}"
      ]
     },
     "execution_count": 26,
     "metadata": {},
     "output_type": "execute_result"
    }
   ],
   "source": [
    "make_batch(data_train[:3], max_len=20)"
   ]
  },
  {
   "cell_type": "code",
   "execution_count": 1,
   "metadata": {},
   "outputs": [],
   "source": [
    "import tqdm\n",
    "import gensim.downloader as api\n",
    "model = api.load('glove-twitter-100')"
   ]
  },
  {
   "cell_type": "code",
   "execution_count": 27,
   "metadata": {},
   "outputs": [
    {
     "name": "stderr",
     "output_type": "stream",
     "text": [
      "0it [00:00, ?it/s]/home/leonsht/Programming/study/nlp_course/venv/lib/python3.7/site-packages/ipykernel_launcher.py:4: DeprecationWarning: Call to deprecated `wv` (Attribute will be removed in 4.0.0, use self instead).\n",
      "  after removing the cwd from sys.path.\n",
      "34158it [00:00, 104657.76it/s]\n"
     ]
    }
   ],
   "source": [
    "emb_matrix = np.random.randn(len(tokens), 100)\n",
    "for num, token in tqdm.tqdm(enumerate(tokens)):\n",
    "    try:\n",
    "        emb_matrix[num, :] = (model.wv[token])\n",
    "    except KeyError:\n",
    "        pass"
   ]
  },
  {
   "cell_type": "code",
   "execution_count": 28,
   "metadata": {},
   "outputs": [],
   "source": [
    "emb_matrix_mean = np.mean(emb_matrix, axis=1, keepdims=True)\n",
    "emb_matrix_std = np.std(emb_matrix, axis=1, keepdims=True) + 1e-6\n",
    "\n",
    "emb_matrix = (emb_matrix - emb_matrix_mean) / emb_matrix_std"
   ]
  },
  {
   "cell_type": "code",
   "execution_count": 29,
   "metadata": {},
   "outputs": [],
   "source": [
    "def conv1d_block(in_size, out_size, kernel=3):\n",
    "    return nn.Sequential(\n",
    "        nn.Conv1d(in_channels=in_size, out_channels=out_size, kernel_size=kernel, padding=1),\n",
    "        nn.BatchNorm1d(out_size),\n",
    "        nn.ReLU(),\n",
    "    )\n",
    "\n",
    "def conv1d_seq(emb_size, hid_size, kernel=3, n=5):\n",
    "    return nn.Sequential(\n",
    "        conv1d_block(emb_size, hid_size),\n",
    "        *[conv1d_block(hid_size, hid_size) for _ in range(n)]\n",
    "    )\n",
    "\n",
    "def linear_v1(inp, out):\n",
    "    return nn.Sequential(\n",
    "        nn.Linear(inp, out),\n",
    "        nn.BatchNorm1d(out),\n",
    "        nn.ReLU(),\n",
    "    )\n",
    "\n",
    "def mlp(inp_size, out_size, n=3, factory=linear_v1):\n",
    "    sizes = np.linspace(inp_size, out_size, num=n).astype(int)\n",
    "    \n",
    "    return nn.Sequential(\n",
    "        *[factory(inp, out)\n",
    "        for inp, out in zip(sizes[:-1], sizes[1:])]\n",
    "    )\n",
    "\n",
    "def pooling(kind='avg'):\n",
    "    if kind == 'avg':\n",
    "        return nn.AdaptiveAvgPool1d(1)\n",
    "    elif kind == 'max':\n",
    "        return nn.AdaptiveMaxPool1d(1)\n",
    "    \n",
    "    raise"
   ]
  },
  {
   "cell_type": "code",
   "execution_count": 33,
   "metadata": {},
   "outputs": [],
   "source": [
    "class SalaryPredictor(nn.Module):\n",
    "    def __init__(\n",
    "        self, \n",
    "        n_tokens=len(tokens),\n",
    "        n_cat_features=len(categorical_vectorizer.vocabulary_),\n",
    "        hid_size=64,\n",
    "        emb_size=100\n",
    "    ):\n",
    "        super().__init__()\n",
    "        \n",
    "        self.emb = nn.Embedding.from_pretrained(torch.from_numpy(emb_matrix).float(), freeze=False)\n",
    "        self.title_fe = conv1d_seq(emb_size, hid_size, n=2)\n",
    "        self.text_fe = conv1d_seq(emb_size, hid_size, n=2)\n",
    "        \n",
    "        self.attn_conv_title = nn.Conv1d(hid_size, 1, 1)\n",
    "        self.attn_conv_text = nn.Conv1d(hid_size, 1, 1)\n",
    "        \n",
    "        self.cat_fc = linear_v1(n_cat_features, hid_size)\n",
    "        \n",
    "        self.agg_mlp = mlp(3 * hid_size, hid_size)\n",
    "        self.reg_linear = nn.Linear(hid_size, 1)\n",
    "        \n",
    "        \n",
    "    def forward(self, batch):\n",
    "        emb_title = torch.transpose(self.emb(batch['Title']), 1, 2)\n",
    "        emb_text = torch.transpose(self.emb(batch['FullDescription']), 1, 2)\n",
    "        \n",
    "        title_feature = self.title_fe(emb_title) # BS, num_features, seq_len\n",
    "        text_feature = self.text_fe(emb_text)\n",
    "        \n",
    "        title_attn = nn.functional.softmax(self.attn_conv_title(title_feature).squeeze(1), dim=-1) # BS, seq_len\n",
    "        text_attn = nn.functional.softmax(self.attn_conv_text(text_feature).squeeze(1), dim=-1) # BS, seq_len\n",
    "        \n",
    "        title_attn = title_attn.unsqueeze(1)\n",
    "        text_attn = text_attn.unsqueeze(1)\n",
    "        \n",
    "        title_feature = torch.sum(title_feature * title_attn, dim=-1)\n",
    "        text_feature = torch.sum(text_feature * text_attn, dim=-1)\n",
    "        \n",
    "        cat_feature = nn.functional.relu(self.cat_fc(batch['Categorical']))\n",
    "        \n",
    "        feature = torch.cat((title_feature, text_feature, cat_feature),  dim=1)\n",
    "        return self.reg_linear(self.agg_mlp(feature)).squeeze(-1)"
   ]
  },
  {
   "cell_type": "code",
   "execution_count": 34,
   "metadata": {},
   "outputs": [],
   "source": [
    "model = SalaryPredictor()"
   ]
  },
  {
   "cell_type": "code",
   "execution_count": 35,
   "metadata": {},
   "outputs": [],
   "source": [
    "model = SalaryPredictor()\n",
    "batch = make_batch(data_train[:100])\n",
    "criterion = nn.MSELoss()\n",
    "\n",
    "dummy_pred = model(batch)\n",
    "dummy_loss = criterion(dummy_pred, batch[TARGET_COLUMN])\n",
    "assert dummy_pred.shape == torch.Size([100])\n",
    "assert len(torch.unique(dummy_pred.detach())) > 20, \"model returns suspiciously few unique outputs. Check your initialization\"\n",
    "assert dummy_loss.ndim == 0 and 0. <= dummy_loss <= 250., \"make sure you minimize MSE\""
   ]
  },
  {
   "cell_type": "markdown",
   "metadata": {},
   "source": [
    "#### Training and evaluation\n",
    "\n",
    "As usual, we gonna feed our monster with random minibatches of data. \n",
    "\n",
    "As we train, we want to monitor not only loss function, which is computed in log-space, but also the actual error measured in dollars."
   ]
  },
  {
   "cell_type": "code",
   "execution_count": 36,
   "metadata": {},
   "outputs": [],
   "source": [
    "def iterate_minibatches(data, batch_size=256, shuffle=True, cycle=False, device=torch.device('cuda'), **kwargs):\n",
    "    \"\"\" iterates minibatches of data in random order \"\"\"\n",
    "    while True:\n",
    "        indices = np.arange(len(data))\n",
    "        if shuffle:\n",
    "            indices = np.random.permutation(indices)\n",
    "\n",
    "        for start in range(0, len(indices), batch_size):\n",
    "            batch = make_batch(data.iloc[indices[start : start + batch_size]], **kwargs)\n",
    "            yield {k: v.to(device) for k,v in batch.items()}\n",
    "        \n",
    "        if not cycle: break"
   ]
  },
  {
   "cell_type": "markdown",
   "metadata": {},
   "source": [
    "### Model training\n",
    "\n",
    "We can now fit our model the usual minibatch way. The interesting part is that we train on an infinite stream of minibatches, produced by `iterate_minibatches` function."
   ]
  },
  {
   "cell_type": "code",
   "execution_count": 37,
   "metadata": {},
   "outputs": [],
   "source": [
    "import tqdm\n",
    "\n",
    "BATCH_SIZE = 128\n",
    "EPOCHS = 25\n",
    "DEVICE = torch.device('cuda')"
   ]
  },
  {
   "cell_type": "code",
   "execution_count": 38,
   "metadata": {},
   "outputs": [],
   "source": [
    "def print_metrics(model, data, mem, batch_size=BATCH_SIZE, name=\"\", **kw):\n",
    "    squared_error = abs_error = num_samples = 0.0\n",
    "    model.eval()\n",
    "    with torch.no_grad():\n",
    "        for batch in iterate_minibatches(data, batch_size=batch_size, shuffle=False, **kw):\n",
    "            batch_pred = model(batch)\n",
    "            squared_error += torch.sum(torch.square(batch_pred - batch[TARGET_COLUMN]))\n",
    "            abs_error += torch.sum(torch.abs(batch_pred - batch[TARGET_COLUMN]))\n",
    "            num_samples += len(batch_pred)\n",
    "    mse = squared_error.detach().cpu().numpy() / num_samples\n",
    "    mae = abs_error.detach().cpu().numpy() / num_samples\n",
    "    print(\"%s results:\" % (name or \"\"))\n",
    "    print(\"Mean square error: %.5f\" % mse)\n",
    "    print(\"Mean absolute error: %.5f\" % mae)\n",
    "    \n",
    "    mem.append({'mse': mse, 'mae': mae})\n",
    "    \n",
    "    return mse, mae\n"
   ]
  },
  {
   "cell_type": "code",
   "execution_count": 39,
   "metadata": {
    "scrolled": false
   },
   "outputs": [
    {
     "name": "stdout",
     "output_type": "stream",
     "text": [
      "epoch: 0\n"
     ]
    },
    {
     "name": "stderr",
     "output_type": "stream",
     "text": [
      "/home/leonsht/Programming/study/nlp_course/venv/lib/python3.7/site-packages/ipykernel_launcher.py:15: TqdmDeprecationWarning: This function will be removed in tqdm==5.0.0\n",
      "Please use `tqdm.notebook.tqdm` instead of `tqdm.tqdm_notebook`\n",
      "  from ipykernel import kernelapp as app\n"
     ]
    },
    {
     "data": {
      "application/vnd.jupyter.widget-view+json": {
       "model_id": "38b74b6367f8453fa0f5a26adfe0a9b1",
       "version_major": 2,
       "version_minor": 0
      },
      "text/plain": [
       "  0%|          | 0/1529 [00:00<?, ?it/s]"
      ]
     },
     "metadata": {},
     "output_type": "display_data"
    },
    {
     "name": "stdout",
     "output_type": "stream",
     "text": [
      " results:\n",
      "Mean square error: 0.10283\n",
      "Mean absolute error: 0.24301\n",
      "epoch: 1\n"
     ]
    },
    {
     "data": {
      "application/vnd.jupyter.widget-view+json": {
       "model_id": "b7a7fe6f8fc342c0baa0049d27e3077b",
       "version_major": 2,
       "version_minor": 0
      },
      "text/plain": [
       "  0%|          | 0/1529 [00:00<?, ?it/s]"
      ]
     },
     "metadata": {},
     "output_type": "display_data"
    },
    {
     "name": "stdout",
     "output_type": "stream",
     "text": [
      " results:\n",
      "Mean square error: 0.10422\n",
      "Mean absolute error: 0.24598\n",
      "epoch: 2\n"
     ]
    },
    {
     "data": {
      "application/vnd.jupyter.widget-view+json": {
       "model_id": "f6f07b981c33474ebf9c9cf46bc2f03e",
       "version_major": 2,
       "version_minor": 0
      },
      "text/plain": [
       "  0%|          | 0/1529 [00:00<?, ?it/s]"
      ]
     },
     "metadata": {},
     "output_type": "display_data"
    },
    {
     "name": "stdout",
     "output_type": "stream",
     "text": [
      " results:\n",
      "Mean square error: 0.08748\n",
      "Mean absolute error: 0.22337\n",
      "epoch: 3\n"
     ]
    },
    {
     "data": {
      "application/vnd.jupyter.widget-view+json": {
       "model_id": "07b7ef045e104d669599ecfa904d9273",
       "version_major": 2,
       "version_minor": 0
      },
      "text/plain": [
       "  0%|          | 0/1529 [00:00<?, ?it/s]"
      ]
     },
     "metadata": {},
     "output_type": "display_data"
    },
    {
     "name": "stdout",
     "output_type": "stream",
     "text": [
      " results:\n",
      "Mean square error: 0.08012\n",
      "Mean absolute error: 0.21235\n",
      "epoch: 4\n"
     ]
    },
    {
     "data": {
      "application/vnd.jupyter.widget-view+json": {
       "model_id": "4a5f721c10c442b0ba7b000d9fdffeac",
       "version_major": 2,
       "version_minor": 0
      },
      "text/plain": [
       "  0%|          | 0/1529 [00:00<?, ?it/s]"
      ]
     },
     "metadata": {},
     "output_type": "display_data"
    },
    {
     "name": "stdout",
     "output_type": "stream",
     "text": [
      " results:\n",
      "Mean square error: 0.09122\n",
      "Mean absolute error: 0.22825\n",
      "epoch: 5\n"
     ]
    },
    {
     "data": {
      "application/vnd.jupyter.widget-view+json": {
       "model_id": "27d45af856114cea8a50859da7a0a642",
       "version_major": 2,
       "version_minor": 0
      },
      "text/plain": [
       "  0%|          | 0/1529 [00:00<?, ?it/s]"
      ]
     },
     "metadata": {},
     "output_type": "display_data"
    },
    {
     "name": "stdout",
     "output_type": "stream",
     "text": [
      " results:\n",
      "Mean square error: 0.08501\n",
      "Mean absolute error: 0.21947\n",
      "epoch: 6\n"
     ]
    },
    {
     "data": {
      "application/vnd.jupyter.widget-view+json": {
       "model_id": "dfc989b0880c4339a7522b3e061718a2",
       "version_major": 2,
       "version_minor": 0
      },
      "text/plain": [
       "  0%|          | 0/1529 [00:00<?, ?it/s]"
      ]
     },
     "metadata": {},
     "output_type": "display_data"
    },
    {
     "name": "stdout",
     "output_type": "stream",
     "text": [
      " results:\n",
      "Mean square error: 0.07463\n",
      "Mean absolute error: 0.20409\n",
      "epoch: 7\n"
     ]
    },
    {
     "data": {
      "application/vnd.jupyter.widget-view+json": {
       "model_id": "6234402fe98b4ab7aafec04dae0a8bdb",
       "version_major": 2,
       "version_minor": 0
      },
      "text/plain": [
       "  0%|          | 0/1529 [00:00<?, ?it/s]"
      ]
     },
     "metadata": {},
     "output_type": "display_data"
    },
    {
     "name": "stdout",
     "output_type": "stream",
     "text": [
      " results:\n",
      "Mean square error: 0.07408\n",
      "Mean absolute error: 0.20279\n",
      "epoch: 8\n"
     ]
    },
    {
     "data": {
      "application/vnd.jupyter.widget-view+json": {
       "model_id": "96637604461e409c8a1956506fa885d5",
       "version_major": 2,
       "version_minor": 0
      },
      "text/plain": [
       "  0%|          | 0/1529 [00:00<?, ?it/s]"
      ]
     },
     "metadata": {},
     "output_type": "display_data"
    },
    {
     "name": "stdout",
     "output_type": "stream",
     "text": [
      " results:\n",
      "Mean square error: 0.07322\n",
      "Mean absolute error: 0.20111\n",
      "epoch: 9\n"
     ]
    },
    {
     "data": {
      "application/vnd.jupyter.widget-view+json": {
       "model_id": "6eacb8844b6a451199a6e75b38c0c531",
       "version_major": 2,
       "version_minor": 0
      },
      "text/plain": [
       "  0%|          | 0/1529 [00:00<?, ?it/s]"
      ]
     },
     "metadata": {},
     "output_type": "display_data"
    },
    {
     "name": "stdout",
     "output_type": "stream",
     "text": [
      " results:\n",
      "Mean square error: 0.08237\n",
      "Mean absolute error: 0.21801\n",
      "epoch: 10\n"
     ]
    },
    {
     "data": {
      "application/vnd.jupyter.widget-view+json": {
       "model_id": "a25335d121b14ef7894b5cf6c8968a9b",
       "version_major": 2,
       "version_minor": 0
      },
      "text/plain": [
       "  0%|          | 0/1529 [00:00<?, ?it/s]"
      ]
     },
     "metadata": {},
     "output_type": "display_data"
    },
    {
     "name": "stdout",
     "output_type": "stream",
     "text": [
      " results:\n",
      "Mean square error: 0.07050\n",
      "Mean absolute error: 0.19839\n",
      "epoch: 11\n"
     ]
    },
    {
     "data": {
      "application/vnd.jupyter.widget-view+json": {
       "model_id": "3e23a139e9084c4aa35e62cb18c2395d",
       "version_major": 2,
       "version_minor": 0
      },
      "text/plain": [
       "  0%|          | 0/1529 [00:00<?, ?it/s]"
      ]
     },
     "metadata": {},
     "output_type": "display_data"
    },
    {
     "name": "stdout",
     "output_type": "stream",
     "text": [
      " results:\n",
      "Mean square error: 0.06852\n",
      "Mean absolute error: 0.19398\n",
      "epoch: 12\n"
     ]
    },
    {
     "data": {
      "application/vnd.jupyter.widget-view+json": {
       "model_id": "114b1a66ed3d4e009f17cf42b961baca",
       "version_major": 2,
       "version_minor": 0
      },
      "text/plain": [
       "  0%|          | 0/1529 [00:00<?, ?it/s]"
      ]
     },
     "metadata": {},
     "output_type": "display_data"
    },
    {
     "name": "stdout",
     "output_type": "stream",
     "text": [
      " results:\n",
      "Mean square error: 0.07325\n",
      "Mean absolute error: 0.20166\n",
      "epoch: 13\n"
     ]
    },
    {
     "data": {
      "application/vnd.jupyter.widget-view+json": {
       "model_id": "7f5147cbbeec43418d105d91f012f570",
       "version_major": 2,
       "version_minor": 0
      },
      "text/plain": [
       "  0%|          | 0/1529 [00:00<?, ?it/s]"
      ]
     },
     "metadata": {},
     "output_type": "display_data"
    },
    {
     "name": "stdout",
     "output_type": "stream",
     "text": [
      " results:\n",
      "Mean square error: 0.06932\n",
      "Mean absolute error: 0.19620\n",
      "epoch: 14\n"
     ]
    },
    {
     "data": {
      "application/vnd.jupyter.widget-view+json": {
       "model_id": "f5f4d067b6af4019ac7dc92bcea8ebd8",
       "version_major": 2,
       "version_minor": 0
      },
      "text/plain": [
       "  0%|          | 0/1529 [00:00<?, ?it/s]"
      ]
     },
     "metadata": {},
     "output_type": "display_data"
    },
    {
     "name": "stdout",
     "output_type": "stream",
     "text": [
      " results:\n",
      "Mean square error: 0.06668\n",
      "Mean absolute error: 0.19071\n",
      "epoch: 15\n"
     ]
    },
    {
     "data": {
      "application/vnd.jupyter.widget-view+json": {
       "model_id": "4d1a5a75cbbf41b69739a6f81aed921e",
       "version_major": 2,
       "version_minor": 0
      },
      "text/plain": [
       "  0%|          | 0/1529 [00:00<?, ?it/s]"
      ]
     },
     "metadata": {},
     "output_type": "display_data"
    },
    {
     "name": "stdout",
     "output_type": "stream",
     "text": [
      " results:\n",
      "Mean square error: 0.06532\n",
      "Mean absolute error: 0.18855\n",
      "epoch: 16\n"
     ]
    },
    {
     "data": {
      "application/vnd.jupyter.widget-view+json": {
       "model_id": "c9103c495d3e4373b8673dfa30d8e50c",
       "version_major": 2,
       "version_minor": 0
      },
      "text/plain": [
       "  0%|          | 0/1529 [00:00<?, ?it/s]"
      ]
     },
     "metadata": {},
     "output_type": "display_data"
    },
    {
     "name": "stdout",
     "output_type": "stream",
     "text": [
      " results:\n",
      "Mean square error: 0.06469\n",
      "Mean absolute error: 0.18792\n",
      "epoch: 17\n"
     ]
    },
    {
     "data": {
      "application/vnd.jupyter.widget-view+json": {
       "model_id": "a5f857aae0ea4664bd32dbe9491e581d",
       "version_major": 2,
       "version_minor": 0
      },
      "text/plain": [
       "  0%|          | 0/1529 [00:00<?, ?it/s]"
      ]
     },
     "metadata": {},
     "output_type": "display_data"
    },
    {
     "name": "stdout",
     "output_type": "stream",
     "text": [
      " results:\n",
      "Mean square error: 0.07353\n",
      "Mean absolute error: 0.20311\n",
      "epoch: 18\n"
     ]
    },
    {
     "data": {
      "application/vnd.jupyter.widget-view+json": {
       "model_id": "5e4d893d964c46f2bbd60e4cbd1e589d",
       "version_major": 2,
       "version_minor": 0
      },
      "text/plain": [
       "  0%|          | 0/1529 [00:00<?, ?it/s]"
      ]
     },
     "metadata": {},
     "output_type": "display_data"
    },
    {
     "name": "stdout",
     "output_type": "stream",
     "text": [
      " results:\n",
      "Mean square error: 0.06522\n",
      "Mean absolute error: 0.18862\n",
      "epoch: 19\n"
     ]
    },
    {
     "data": {
      "application/vnd.jupyter.widget-view+json": {
       "model_id": "6ad5b0a6ea7a4235acf128347c366490",
       "version_major": 2,
       "version_minor": 0
      },
      "text/plain": [
       "  0%|          | 0/1529 [00:00<?, ?it/s]"
      ]
     },
     "metadata": {},
     "output_type": "display_data"
    },
    {
     "name": "stdout",
     "output_type": "stream",
     "text": [
      " results:\n",
      "Mean square error: 0.06449\n",
      "Mean absolute error: 0.18786\n",
      "epoch: 20\n"
     ]
    },
    {
     "data": {
      "application/vnd.jupyter.widget-view+json": {
       "model_id": "4fcca8ba490e4bfb805bb25506270bd3",
       "version_major": 2,
       "version_minor": 0
      },
      "text/plain": [
       "  0%|          | 0/1529 [00:00<?, ?it/s]"
      ]
     },
     "metadata": {},
     "output_type": "display_data"
    },
    {
     "name": "stdout",
     "output_type": "stream",
     "text": [
      " results:\n",
      "Mean square error: 0.06532\n",
      "Mean absolute error: 0.18919\n",
      "epoch: 21\n"
     ]
    },
    {
     "data": {
      "application/vnd.jupyter.widget-view+json": {
       "model_id": "9c22878f232c48e4992dd9b5fce9f2d0",
       "version_major": 2,
       "version_minor": 0
      },
      "text/plain": [
       "  0%|          | 0/1529 [00:00<?, ?it/s]"
      ]
     },
     "metadata": {},
     "output_type": "display_data"
    },
    {
     "name": "stdout",
     "output_type": "stream",
     "text": [
      " results:\n",
      "Mean square error: 0.06394\n",
      "Mean absolute error: 0.18696\n",
      "epoch: 22\n"
     ]
    },
    {
     "data": {
      "application/vnd.jupyter.widget-view+json": {
       "model_id": "32750224725a4ba19a89025c179812f4",
       "version_major": 2,
       "version_minor": 0
      },
      "text/plain": [
       "  0%|          | 0/1529 [00:00<?, ?it/s]"
      ]
     },
     "metadata": {},
     "output_type": "display_data"
    },
    {
     "name": "stdout",
     "output_type": "stream",
     "text": [
      " results:\n",
      "Mean square error: 0.07848\n",
      "Mean absolute error: 0.21213\n",
      "epoch: 23\n"
     ]
    },
    {
     "data": {
      "application/vnd.jupyter.widget-view+json": {
       "model_id": "1b454b7f05a742859d1ea6f708711ad6",
       "version_major": 2,
       "version_minor": 0
      },
      "text/plain": [
       "  0%|          | 0/1529 [00:00<?, ?it/s]"
      ]
     },
     "metadata": {},
     "output_type": "display_data"
    },
    {
     "name": "stdout",
     "output_type": "stream",
     "text": [
      " results:\n",
      "Mean square error: 0.06421\n",
      "Mean absolute error: 0.18718\n",
      "epoch: 24\n"
     ]
    },
    {
     "data": {
      "application/vnd.jupyter.widget-view+json": {
       "model_id": "537411c878054625a26b13149e970635",
       "version_major": 2,
       "version_minor": 0
      },
      "text/plain": [
       "  0%|          | 0/1529 [00:00<?, ?it/s]"
      ]
     },
     "metadata": {},
     "output_type": "display_data"
    },
    {
     "name": "stdout",
     "output_type": "stream",
     "text": [
      " results:\n",
      "Mean square error: 0.06517\n",
      "Mean absolute error: 0.18882\n"
     ]
    },
    {
     "data": {
      "text/plain": [
       "<matplotlib.legend.Legend at 0x7f2b8ac27a20>"
      ]
     },
     "execution_count": 39,
     "metadata": {},
     "output_type": "execute_result"
    },
    {
     "data": {
      "image/png": "[encoded data removed]",
      "text/plain": [
       "<Figure size 720x360 with 2 Axes>"
      ]
     },
     "metadata": {
      "needs_background": "light"
     },
     "output_type": "display_data"
    }
   ],
   "source": [
    "model = SalaryPredictor().to(DEVICE)\n",
    "criterion = nn.MSELoss(reduction='sum')\n",
    "optimizer = torch.optim.SGD(model.parameters(), lr=1e-4)\n",
    "\n",
    "train_mse = []\n",
    "per_epoch_metrics = []\n",
    "\n",
    "f, (ax1, ax2) = plt.subplots(ncols=2, nrows=1, figsize=(10, 5))\n",
    "\n",
    "for epoch in range(EPOCHS):\n",
    "    print(f\"epoch: {epoch}\")\n",
    "    model.train()\n",
    "    for i, batch in tqdm.tqdm_notebook(enumerate(\n",
    "            iterate_minibatches(data_train, batch_size=BATCH_SIZE, device=DEVICE)),\n",
    "            total=len(data_train) // BATCH_SIZE\n",
    "        ):\n",
    "        pred = model(batch)\n",
    "        loss = criterion(pred, batch[TARGET_COLUMN])\n",
    "        optimizer.zero_grad()\n",
    "        loss.backward()\n",
    "        optimizer.step()\n",
    "        \n",
    "        train_mse.append(loss.cpu().detach().numpy())\n",
    "        \n",
    "    print_metrics(model, data_val, mem=per_epoch_metrics)\n",
    "    \n",
    "    \n",
    "ax1.set_ylim([0.0, 50.0])\n",
    "ax1.plot(train_mse, label='mse')\n",
    "ax2.plot([v['mse'] for v in per_epoch_metrics], label='mse')\n",
    "ax2.plot([v['mae'] for v in per_epoch_metrics], label='mae') \n",
    "plt.legend()\n"
   ]
  },
  {
   "cell_type": "code",
   "execution_count": 40,
   "metadata": {},
   "outputs": [
    {
     "data": {
      "text/plain": [
       "[{'mse': 0.10283257584607489, 'mae': 0.24300932141015036},\n",
       " {'mse': 0.10421545090480348, 'mae': 0.24598018276724068},\n",
       " {'mse': 0.08747502637999448, 'mae': 0.2233656412461188},\n",
       " {'mse': 0.08011511963080137, 'mae': 0.21234732558243452},\n",
       " {'mse': 0.09121989241494566, 'mae': 0.22825060819212933},\n",
       " {'mse': 0.08500686909203027, 'mae': 0.21946864738453445},\n",
       " {'mse': 0.07463310183411978, 'mae': 0.20408542410349512},\n",
       " {'mse': 0.07407801280921886, 'mae': 0.20278784914792458},\n",
       " {'mse': 0.07322081260277505, 'mae': 0.20111284716902603},\n",
       " {'mse': 0.08237003164801396, 'mae': 0.21800697545782777},\n",
       " {'mse': 0.07050366718628713, 'mae': 0.19838976705172204},\n",
       " {'mse': 0.06852223515953752, 'mae': 0.19397991529675818},\n",
       " {'mse': 0.0732541217344982, 'mae': 0.2016612135244311},\n",
       " {'mse': 0.0693230856310899, 'mae': 0.1961969399844752},\n",
       " {'mse': 0.06667821389882594, 'mae': 0.19071239869316092},\n",
       " {'mse': 0.06532429918265106, 'mae': 0.18855222744183314},\n",
       " {'mse': 0.06468590491200923, 'mae': 0.18792486473270825},\n",
       " {'mse': 0.0735338206929592, 'mae': 0.20310836288914083},\n",
       " {'mse': 0.0652193397596468, 'mae': 0.18862011243973933},\n",
       " {'mse': 0.06449131155810812, 'mae': 0.18785907433509008},\n",
       " {'mse': 0.065320109982075, 'mae': 0.18919467127303183},\n",
       " {'mse': 0.06393679605471463, 'mae': 0.18695853585125832},\n",
       " {'mse': 0.07847787531566623, 'mae': 0.21212731275789518},\n",
       " {'mse': 0.06421321845986794, 'mae': 0.18718489232238428},\n",
       " {'mse': 0.06516836616549465, 'mae': 0.18881666574105282}]"
      ]
     },
     "execution_count": 40,
     "metadata": {},
     "output_type": "execute_result"
    }
   ],
   "source": [
    "per_epoch_metrics"
   ]
  },
  {
   "cell_type": "markdown",
   "metadata": {},
   "source": [
    "### Bonus part: explaining model predictions\n",
    "\n",
    "It's usually a good idea to understand how your model works before you let it make actual decisions. It's simple for linear models: just see which words learned positive or negative weights. However, its much harder for neural networks that learn complex nonlinear dependencies.\n",
    "\n",
    "There are, however, some ways to look inside the black box:\n",
    "* Seeing how model responds to input perturbations\n",
    "* Finding inputs that maximize/minimize activation of some chosen neurons (_read more [on distill.pub](https://distill.pub/2018/building-blocks/)_)\n",
    "* Building local linear approximations to your neural network: [article](https://arxiv.org/abs/1602.04938), [eli5 library](https://github.com/TeamHG-Memex/eli5/tree/master/eli5/formatters)\n",
    "\n",
    "Today we gonna try the first method just because it's the simplest one."
   ]
  },
  {
   "cell_type": "code",
   "execution_count": 126,
   "metadata": {},
   "outputs": [],
   "source": [
    "def explain(model, sample, col_name='Title'):\n",
    "    \"\"\" Computes the effect each word had on model predictions \"\"\"\n",
    "    sample = dict(sample)\n",
    "    sample_col_tokens = [tokens[token_to_id.get(tok, 0)] for tok in sample[col_name].split()]\n",
    "    data_drop_one_token = pd.DataFrame([sample] * (len(sample_col_tokens) + 1))\n",
    "\n",
    "    for drop_i in range(len(sample_col_tokens)):\n",
    "        data_drop_one_token.loc[drop_i, col_name] = ' '.join(UNK if i == drop_i else tok\n",
    "                                                   for i, tok in enumerate(sample_col_tokens)) \n",
    "\n",
    "    *predictions_drop_one_token, baseline_pred = model(make_batch(data_drop_one_token))\n",
    "    \n",
    "    predictions_drop_one_token = torch.tensor(predictions_drop_one_token).detach()\n",
    "    baseline_pred = baseline_pred.detach()\n",
    "    \n",
    "    diffs = baseline_pred - predictions_drop_one_token\n",
    "\n",
    "    return list(zip(sample_col_tokens, diffs.numpy()))"
   ]
  },
  {
   "cell_type": "code",
   "execution_count": 127,
   "metadata": {},
   "outputs": [],
   "source": [
    "from IPython.display import HTML, display_html\n",
    "\n",
    "\n",
    "def draw_html(tokens_and_weights, cmap=plt.get_cmap(\"bwr\"), display=True,\n",
    "              token_template=\"\"\"<span style=\"background-color: {color_hex}\">{token}</span>\"\"\",\n",
    "              font_style=\"font-size:14px;\"\n",
    "             ):\n",
    "    \n",
    "    def get_color_hex(weight):\n",
    "        rgba = cmap(1. / (1 + np.exp(weight)), bytes=True)\n",
    "        return '#%02X%02X%02X' % rgba[:3]\n",
    "    \n",
    "    tokens_html = [\n",
    "        token_template.format(token=token, color_hex=get_color_hex(weight))\n",
    "        for token, weight in tokens_and_weights\n",
    "    ]\n",
    "    \n",
    "    \n",
    "    raw_html = \"\"\"<p style=\"{}\">{}</p>\"\"\".format(font_style, ' '.join(tokens_html))\n",
    "    if display:\n",
    "        display_html(HTML(raw_html))\n",
    "        \n",
    "    return raw_html\n",
    "    "
   ]
  },
  {
   "cell_type": "code",
   "execution_count": 128,
   "metadata": {},
   "outputs": [
    {
     "name": "stdout",
     "output_type": "stream",
     "text": [
      "[('sales', 0.14678383), ('specialist', 0.15177536), ('iv', -0.014135361), ('access', 0.06653786), ('and', 0.03472328), ('infusion', 0.15331268)]\n"
     ]
    },
    {
     "data": {
      "text/html": [
       "<p style=\"font-size:20px;\"><span style=\"background-color: #A6A6FF\">sales</span> <span style=\"background-color: #A2A2FF\">specialist</span> <span style=\"background-color: #FFF6F6\">iv</span> <span style=\"background-color: #D3D3FF\">access</span> <span style=\"background-color: #E8E8FF\">and</span> <span style=\"background-color: #A2A2FF\">infusion</span></p>"
      ]
     },
     "metadata": {},
     "output_type": "display_data"
    },
    {
     "data": {
      "text/html": [
       "<p style=\"font-size:14px;\"><span style=\"background-color: #FEFEFF\">sales</span> <span style=\"background-color: #FFFCFC\">representative</span> <span style=\"background-color: #FEFEFF\">medical</span> <span style=\"background-color: #FEFEFF\">sales</span> <span style=\"background-color: #F0F0FF\">iv</span> <span style=\"background-color: #FEFEFF\">access</span> <span style=\"background-color: #FEFEFF\">and</span> <span style=\"background-color: #FEFEFF\">infusion</span> <span style=\"background-color: #FEFEFF\">an</span> <span style=\"background-color: #FEFEFF\">opportunity</span> <span style=\"background-color: #FFFEFE\">to</span> <span style=\"background-color: #FEFEFF\">work</span> <span style=\"background-color: #FEFEFF\">for</span> <span style=\"background-color: #FFFEFE\">the</span> <span style=\"background-color: #FEFEFF\">industry</span> <span style=\"background-color: #FEFEFF\">leading</span> <span style=\"background-color: #FEFEFF\">manufacturer</span> <span style=\"background-color: #FFFEFE\">of</span> <span style=\"background-color: #FEFEFF\">iv</span> <span style=\"background-color: #FEFEFF\">access</span> <span style=\"background-color: #FEFEFF\">and</span> <span style=\"background-color: #FCFCFF\">infusion</span> <span style=\"background-color: #FEFEFF\">solutions</span> <span style=\"background-color: #FEFEFF\">.</span> <span style=\"background-color: #FEFEFF\">formally</span> <span style=\"background-color: #FFF4F4\">recognised</span> <span style=\"background-color: #FEFEFF\">as</span> <span style=\"background-color: #FFFCFC\">the</span> <span style=\"background-color: #FFFCFC\">number</span> <span style=\"background-color: #FEFEFF\">****</span> <span style=\"background-color: #FFFAFA\">company</span> <span style=\"background-color: #FFFAFA\">in</span> <span style=\"background-color: #FFFCFC\">this</span> <span style=\"background-color: #FFF6F6\">market</span> <span style=\"background-color: #FFFAFA\">space</span> <span style=\"background-color: #FFFAFA\">,</span> <span style=\"background-color: #FFFAFA\">our</span> <span style=\"background-color: #B8B8FF\">client</span> <span style=\"background-color: #FEFEFF\">are</span> <span style=\"background-color: #FEFEFF\">an</span> <span style=\"background-color: #FCFCFF\">ethical</span> <span style=\"background-color: #FFFAFA\">and</span> <span style=\"background-color: #FEFEFF\">dynamic</span> <span style=\"background-color: #FEFEFF\">organisation</span> <span style=\"background-color: #FEFEFF\">absolutely</span> <span style=\"background-color: #FEFEFF\">committed</span> <span style=\"background-color: #FEFEFF\">to</span> <span style=\"background-color: #FFFAFA\">the</span> <span style=\"background-color: #FEFEFF\">advancement</span> <span style=\"background-color: #FEFEFF\">of</span> <span style=\"background-color: #FEFEFF\">innovative</span> <span style=\"background-color: #FEFEFF\">technologies</span> <span style=\"background-color: #FAFAFF\">.</span> <span style=\"background-color: #FFFCFC\">job</span> <span style=\"background-color: #FEFEFF\">title</span> <span style=\"background-color: #FEFEFF\">:</span> <span style=\"background-color: #FFFEFE\">sales</span> <span style=\"background-color: #FCFCFF\">specialist</span> <span style=\"background-color: #FCFCFF\">iv</span> <span style=\"background-color: #FCFCFF\">access</span> <span style=\"background-color: #FEFEFF\">and</span> <span style=\"background-color: #FEFEFF\">infusion</span> <span style=\"background-color: #FFECEC\">selling</span> <span style=\"background-color: #FFF8F8\">:</span> <span style=\"background-color: #FFECEC\">medication</span> <span style=\"background-color: #FFF0F0\">delivery</span> <span style=\"background-color: #F8F8FF\">solutions</span> <span style=\"background-color: #F2F2FF\">selling</span> <span style=\"background-color: #FFEEEE\">to</span> <span style=\"background-color: #FEFEFF\">:</span> <span style=\"background-color: #FEFEFF\">iv</span> <span style=\"background-color: #FEFEFF\">teams</span> <span style=\"background-color: #FEFEFF\">,</span> <span style=\"background-color: #FEFEFF\">infection</span> <span style=\"background-color: #FEFEFF\">control</span> <span style=\"background-color: #FEFEFF\">,</span> <span style=\"background-color: #FEFEFF\">lead</span> <span style=\"background-color: #FAFAFF\">intensive</span> <span style=\"background-color: #FEFEFF\">care</span> <span style=\"background-color: #FCFCFF\">nurse</span> <span style=\"background-color: #FEFEFF\">specialists</span> <span style=\"background-color: #FEFEFF\">,</span> <span style=\"background-color: #FEFEFF\">ward</span> <span style=\"background-color: #ECECFF\">managers</span> <span style=\"background-color: #FCFCFF\">territory</span> <span style=\"background-color: #FEFEFF\">:</span> <span style=\"background-color: #FFFEFE\">east</span> <span style=\"background-color: #FFF8F8\">midlands</span> <span style=\"background-color: #FCFCFF\">location</span> <span style=\"background-color: #FFFAFA\">:</span> <span style=\"background-color: #FFF8F8\">east</span> <span style=\"background-color: #FFFCFC\">midlands</span> <span style=\"background-color: #FFF8F8\">package</span> <span style=\"background-color: #FFFEFE\">:</span> <span style=\"background-color: #FFFEFE\">basic</span> <span style=\"background-color: #FFFCFC\">:</span> <span style=\"background-color: #FFFCFC\">****</span> <span style=\"background-color: #FAFAFF\">k</span> <span style=\"background-color: #FFFCFC\">****</span> <span style=\"background-color: #FEFEFF\">k</span> <span style=\"background-color: #FFF8F8\">,</span> <span style=\"background-color: #FFFCFC\">uncapped</span> <span style=\"background-color: #FFF8F8\">bonus</span> <span style=\"background-color: #FFFAFA\">in</span> <span style=\"background-color: #FEFEFF\">addition</span> <span style=\"background-color: #D6D6FF\">,</span> <span style=\"background-color: #FEFEFF\">full</span> <span style=\"background-color: #FFFEFE\">corporate</span> <span style=\"background-color: #FAFAFF\">benefits</span> <span style=\"background-color: #FFFEFE\">company</span> <span style=\"background-color: #FEFEFF\">information</span> <span style=\"background-color: #FEFEFF\">hugely</span> <span style=\"background-color: #FEFEFF\">ethical</span> <span style=\"background-color: #FEFEFF\">and</span> <span style=\"background-color: #FEFEFF\">professional</span> <span style=\"background-color: #FEFEFF\">global</span> <span style=\"background-color: #FEFEFF\">organisation</span> <span style=\"background-color: #FEFEFF\">extremely</span> <span style=\"background-color: #FEFEFF\">well</span> <span style=\"background-color: #FFE8E8\">established</span> <span style=\"background-color: #F8F8FF\">in</span> <span style=\"background-color: #FCFCFF\">the</span> <span style=\"background-color: #FEFEFF\">uk</span> <span style=\"background-color: #FFF4F4\">the</span> <span style=\"background-color: #FEFEFF\">market</span> <span style=\"background-color: #FEFEFF\">leader</span> <span style=\"background-color: #FEFEFF\">across</span> <span style=\"background-color: #E8E8FF\">all</span> <span style=\"background-color: #FEFEFF\">of</span> <span style=\"background-color: #FFD6D6\">their</span> <span style=\"background-color: #FCFCFF\">core</span> <span style=\"background-color: #FFEEEE\">business</span> <span style=\"background-color: #FFF2F2\">areas</span> <span style=\"background-color: #FFECEC\">focus</span> <span style=\"background-color: #E2E2FF\">on</span> <span style=\"background-color: #F8F8FF\">providing</span> <span style=\"background-color: #FEFEFF\">cutting</span> <span style=\"background-color: #FFFCFC\">edge</span> <span style=\"background-color: #D2D2FF\">solutions</span> <span style=\"background-color: #ACACFF\">along</span> <span style=\"background-color: #BEBEFF\">with</span> <span style=\"background-color: #DEDEFF\">outstanding</span> <span style=\"background-color: #FEFEFF\">service</span> <span style=\"background-color: #FAFAFF\">and</span> <span style=\"background-color: #FEFEFF\">support</span> <span style=\"background-color: #F2F2FF\">a</span> <span style=\"background-color: #FFFCFC\">business</span> <span style=\"background-color: #FAFAFF\">that</span> <span style=\"background-color: #FCFCFF\">retain</span> <span style=\"background-color: #F8F8FF\">talented</span> <span style=\"background-color: #FFFCFC\">personnel</span> <span style=\"background-color: #FEFEFF\">by</span> <span style=\"background-color: #FEFEFF\">offering</span> <span style=\"background-color: #FEFEFF\">a</span> <span style=\"background-color: #FEFEFF\">strong</span> <span style=\"background-color: #FFECEC\">platform</span> <span style=\"background-color: #FFF2F2\">for</span> <span style=\"background-color: #FFD3D3\">career</span> <span style=\"background-color: #F6F6FF\">development</span> <span style=\"background-color: #FFF4F4\">sales</span> <span style=\"background-color: #FFF6F6\">specialist</span> <span style=\"background-color: #FFECEC\">iv</span> <span style=\"background-color: #F6F6FF\">access</span> <span style=\"background-color: #F6F6FF\">and</span> <span style=\"background-color: #BCBCFF\">infusion</span> <span style=\"background-color: #C8C8FF\">you</span> <span style=\"background-color: #BCBCFF\">must</span> <span style=\"background-color: #C0C0FF\">have</span> <span style=\"background-color: #D2D2FF\">/</span> <span style=\"background-color: #C2C2FF\">be</span> <span style=\"background-color: #E2E2FF\">the</span> <span style=\"background-color: #FEFEFF\">following</span> <span style=\"background-color: #FEFEFF\">at</span> <span style=\"background-color: #FEFEFF\">least</span> <span style=\"background-color: #F2F2FF\">2</span> <span style=\"background-color: #FFFCFC\">years</span> <span style=\"background-color: #DEDEFF\">medical</span> <span style=\"background-color: #DEDEFF\">device</span> <span style=\"background-color: #B2B2FF\">sales</span> <span style=\"background-color: #FF5151\">experience</span> <span style=\"background-color: #9292FF\">.</span> <span style=\"background-color: #FFEAEA\">candidates</span> <span style=\"background-color: #FCFCFF\">who</span> <span style=\"background-color: #FFFEFE\">have</span> <span style=\"background-color: #F8F8FF\">sold</span> <span style=\"background-color: #FFFCFC\">disposables</span> <span style=\"background-color: #FFF4F4\">/</span> <span style=\"background-color: #FFF0F0\">consumables</span> <span style=\"background-color: #FFF4F4\">or</span> <span style=\"background-color: #FFE6E6\">similar</span> <span style=\"background-color: #FFECEC\">into</span> <span style=\"background-color: #FFFEFE\">hospitals</span> <span style=\"background-color: #CACAFF\">would</span> <span style=\"background-color: #F3F3FF\">be</span> <span style=\"background-color: #FFFCFC\">of</span> <span style=\"background-color: #FEFEFF\">particular</span> <span style=\"background-color: #F6F6FF\">interest</span> <span style=\"background-color: #F6F6FF\">.</span> <span style=\"background-color: #F6F6FF\">candidates</span> <span style=\"background-color: #F0F0FF\">must</span> <span style=\"background-color: #E6E6FF\">have</span> <span style=\"background-color: #FFFCFC\">sold</span> <span style=\"background-color: #FFFCFC\">into</span> <span style=\"background-color: #DADAFF\">hospitals</span> <span style=\"background-color: #C6C6FF\">demonstrable</span> <span style=\"background-color: #FAFAFF\">performance</span> <span style=\"background-color: #FFF8F8\">and</span> <span style=\"background-color: #F8F8FF\">achievements</span> <span style=\"background-color: #F8F8FF\">so</span> <span style=\"background-color: #FFD6D6\">far</span> <span style=\"background-color: #EEEEFF\">personable</span> <span style=\"background-color: #FFF8F8\">,</span> <span style=\"background-color: #FFECEC\">adaptable</span> <span style=\"background-color: #FFDEDE\">and</span> <span style=\"background-color: #FFFAFA\">willing</span> <span style=\"background-color: #FFECEC\">to</span> <span style=\"background-color: #F6F6FF\">learn</span> <span style=\"background-color: #CACAFF\">keen</span> <span style=\"background-color: #F2F2FF\">and</span> <span style=\"background-color: #FFFCFC\">eager</span> <span style=\"background-color: #FFFCFC\">to</span> <span style=\"background-color: #FFF6F6\">be</span> <span style=\"background-color: #FFF6F6\">a</span> <span style=\"background-color: #FFFAFA\">success</span> <span style=\"background-color: #ECECFF\">candidates</span> <span style=\"background-color: #FEFEFF\">must</span> <span style=\"background-color: #FEFEFF\">have</span> <span style=\"background-color: #ECECFF\">a</span> <span style=\"background-color: #FFF0F0\">degree</span> <span style=\"background-color: #FEFEFF\">or</span> <span style=\"background-color: #AAAAFF\">at</span> <span style=\"background-color: #F8F8FF\">least</span> <span style=\"background-color: #EEEEFF\">be</span> <span style=\"background-color: #FFFEFE\">able</span> <span style=\"background-color: #FEFEFF\">to</span> <span style=\"background-color: #FEFEFF\">show</span> <span style=\"background-color: #FEFEFF\">a</span> <span style=\"background-color: #ACACFF\">strong</span> <span style=\"background-color: #FEFEFF\">ability</span> <span style=\"background-color: #FEFEFF\">to</span> <span style=\"background-color: #FEFEFF\">learn</span> <span style=\"background-color: #D6D6FF\">role</span> <span style=\"background-color: #FFF2F2\">information</span> <span style=\"background-color: #FEFEFF\">managing</span> <span style=\"background-color: #FEFEFF\">the</span> <span style=\"background-color: #FFF8F8\">east</span> <span style=\"background-color: #DADAFF\">midlands</span> <span style=\"background-color: #F6F6FF\">region</span> <span style=\"background-color: #FFF0F0\">selling</span> <span style=\"background-color: #A6A6FF\">across</span> <span style=\"background-color: #8E8EFF\">the</span> <span style=\"background-color: #A0A0FF\">company</span> <span style=\"background-color: #F6F6FF\">'</span> <span style=\"background-color: #FFF6F6\">s</span> <span style=\"background-color: #FEFEFF\">range</span> <span style=\"background-color: #F3F3FF\">of</span> <span style=\"background-color: #FFFCFC\">iv</span> <span style=\"background-color: #F8F8FF\">and</span> <span style=\"background-color: #FEFEFF\">infusion</span> <span style=\"background-color: #FEFEFF\">solutions</span> <span style=\"background-color: #FFFCFC\">portfolio</span> <span style=\"background-color: #FEFEFF\">selling</span> <span style=\"background-color: #FEFEFF\">into</span> <span style=\"background-color: #F8F8FF\">lead</span> <span style=\"background-color: #FEFEFF\">intensive</span> <span style=\"background-color: #FEFEFF\">care</span> <span style=\"background-color: #FCFCFF\">nurse</span> <span style=\"background-color: #F6F6FF\">specialists</span> <span style=\"background-color: #FFFEFE\">,</span> <span style=\"background-color: #F2F2FF\">ward</span> <span style=\"background-color: #D3D3FF\">managers</span> <span style=\"background-color: #FEFEFF\">,</span> <span style=\"background-color: #ECECFF\">iv</span> <span style=\"background-color: #FEFEFF\">teams</span> <span style=\"background-color: #FEFEFF\">,</span> <span style=\"background-color: #FFF4F4\">infection</span> <span style=\"background-color: #FFFEFE\">control</span> <span style=\"background-color: #FFFEFE\">teams</span> <span style=\"background-color: #F6F6FF\">,</span> <span style=\"background-color: #FEFEFF\">procurement</span> <span style=\"background-color: #FEFEFF\">sales</span> <span style=\"background-color: #FFFEFE\">specialist</span> <span style=\"background-color: #FEFEFF\">iv</span> <span style=\"background-color: #FEFEFF\">access</span> <span style=\"background-color: #FFFEFE\">and</span> <span style=\"background-color: #FEFEFF\">infusion</span> <span style=\"background-color: #FEFEFF\">candidates</span> <span style=\"background-color: #FEFEFF\">must</span> <span style=\"background-color: #FEFEFF\">be</span> <span style=\"background-color: #FEFEFF\">eligible</span> <span style=\"background-color: #F8F8FF\">to</span> <span style=\"background-color: #F6F6FF\">work</span> <span style=\"background-color: #CECEFF\">and</span> <span style=\"background-color: #E8E8FF\">live</span> <span style=\"background-color: #C3C3FF\">in</span> <span style=\"background-color: #D2D2FF\">the</span> <span style=\"background-color: #FAFAFF\">uk</span> <span style=\"background-color: #F8F8FF\">.</span> <span style=\"background-color: #FFFEFE\">please</span> <span style=\"background-color: #FFF6F6\">contact</span> <span style=\"background-color: #FFD0D0\">allan</span> <span style=\"background-color: #FFF0F0\">waller</span> <span style=\"background-color: #FFE8E8\">on</span> <span style=\"background-color: #FFFAFA\">****</span> <span style=\"background-color: #FFF2F2\">****</span> <span style=\"background-color: #FFD2D2\">****</span> <span style=\"background-color: #FFF6F6\">or</span> <span style=\"background-color: #FFECEC\">please</span> <span style=\"background-color: #FFE8E8\">hit</span> <span style=\"background-color: #D2D2FF\">the</span> <span style=\"background-color: #FFFCFC\">apply</span> <span style=\"background-color: #FCFCFF\">button</span> <span style=\"background-color: #FEFEFF\">.</span> <span style=\"background-color: #FFFEFE\">this</span> <span style=\"background-color: #F6F6FF\">job</span> <span style=\"background-color: #EEEEFF\">was</span> <span style=\"background-color: #F0F0FF\">originally</span> <span style=\"background-color: #F0F0FF\">posted</span> <span style=\"background-color: #FAFAFF\">as</span> <span style=\"background-color: #FAFAFF\">www</span> <span style=\"background-color: #EAEAFF\">.</span> <span style=\"background-color: #F8F8FF\">salestarget</span> <span style=\"background-color: #FEFEFF\">.</span> <span style=\"background-color: #FEFEFF\">co</span> <span style=\"background-color: #FEFEFF\">.</span> <span style=\"background-color: #FEFEFF\">uk</span> <span style=\"background-color: #FEFEFF\">/</span> <span style=\"background-color: #FEFEFF\">jobseeking</span> <span style=\"background-color: #FCFCFF\">/</span> <span style=\"background-color: #FFFEFE\">UNK</span> <span style=\"background-color: #FFFEFE\">****</span></p>"
      ]
     },
     "metadata": {},
     "output_type": "display_data"
    }
   ],
   "source": [
    "i = 36605\n",
    "\n",
    "model = model.eval().to('cpu')\n",
    "\n",
    "tokens_and_weights = explain(model, data.loc[i], \"Title\")\n",
    "\n",
    "print(tokens_and_weights)\n",
    "draw_html([(tok, weight * 5) for tok, weight in tokens_and_weights], font_style='font-size:20px;');\n",
    "\n",
    "tokens_and_weights = explain(model, data.loc[i], \"FullDescription\")\n",
    "draw_html([(tok, weight * 10) for tok, weight in tokens_and_weights]);"
   ]
  },
  {
   "cell_type": "code",
   "execution_count": 129,
   "metadata": {},
   "outputs": [
    {
     "data": {
      "text/html": [
       "<p style=\"font-size:20px;\"><span style=\"background-color: #C8C8FF\">cleaning</span> <span style=\"background-color: #FFA0A0\">operative</span></p>"
      ]
     },
     "metadata": {},
     "output_type": "display_data"
    },
    {
     "data": {
      "text/html": [
       "<p style=\"font-size:14px;\"><span style=\"background-color: #FFF8F8\">12</span> <span style=\"background-color: #FFF0F0\">.</span> <span style=\"background-color: #FCFCFF\">5</span> <span style=\"background-color: #FFE4E4\">hours</span> <span style=\"background-color: #DADAFF\">per</span> <span style=\"background-color: #FFDEDE\">week</span> <span style=\"background-color: #FFCECE\">monday</span> <span style=\"background-color: #FFB0B0\">friday</span> <span style=\"background-color: #EEEEFF\">9am</span> <span style=\"background-color: #FFC0C0\">11</span> <span style=\"background-color: #D2D2FF\">.</span> <span style=\"background-color: #FFD2D2\">30am</span> <span style=\"background-color: #F2F2FF\">duties</span> <span style=\"background-color: #D3D3FF\">to</span> <span style=\"background-color: #FFE8E8\">include</span> <span style=\"background-color: #F3F3FF\">sweeping</span> <span style=\"background-color: #FFFAFA\">,</span> <span style=\"background-color: #FFC8C8\">mopping</span> <span style=\"background-color: #FFDCDC\">,</span> <span style=\"background-color: #FFEAEA\">vacuuming</span> <span style=\"background-color: #FFFAFA\">,</span> <span style=\"background-color: #FAFAFF\">buffing</span> <span style=\"background-color: #FFFCFC\">,</span> <span style=\"background-color: #FFF2F2\">cleaning</span> <span style=\"background-color: #FFE4E4\">staff</span> <span style=\"background-color: #FFFEFE\">toilets</span> <span style=\"background-color: #FCFCFF\">and</span> <span style=\"background-color: #FFF8F8\">rest</span> <span style=\"background-color: #E8E8FF\">room</span> <span style=\"background-color: #F6F6FF\">.</span> <span style=\"background-color: #E2E2FF\">must</span> <span style=\"background-color: #E2E2FF\">be</span> <span style=\"background-color: #F8F8FF\">able</span> <span style=\"background-color: #F8F8FF\">to</span> <span style=\"background-color: #ECECFF\">read</span> <span style=\"background-color: #C0C0FF\">as</span> <span style=\"background-color: #FFEAEA\">they</span> <span style=\"background-color: #EEEEFF\">will</span> <span style=\"background-color: #C3C3FF\">be</span> <span style=\"background-color: #FFF4F4\">using</span> <span style=\"background-color: #FFFEFE\">UNK</span> <span style=\"background-color: #D3D3FF\">which</span> <span style=\"background-color: #FCFCFF\">need</span> <span style=\"background-color: #FFFEFE\">UNK</span> <span style=\"background-color: #FFA2A2\">as</span> <span style=\"background-color: #DEDEFF\">per</span> <span style=\"background-color: #A8A8FF\">instructions</span> <span style=\"background-color: #B6B6FF\">on</span> <span style=\"background-color: #DADAFF\">the</span> <span style=\"background-color: #FFE0E0\">containers</span> <span style=\"background-color: #FFDADA\">.</span> <span style=\"background-color: #FFF4F4\">sucessfull</span> <span style=\"background-color: #FFECEC\">applicants</span> <span style=\"background-color: #FFFEFE\">will</span> <span style=\"background-color: #CECEFF\">be</span> <span style=\"background-color: #FFE6E6\">trained</span> <span style=\"background-color: #FFFCFC\">on</span> <span style=\"background-color: #FFF8F8\">all</span> <span style=\"background-color: #CCCCFF\">electrical</span> <span style=\"background-color: #E8E8FF\">appliances</span> <span style=\"background-color: #B0B0FF\">and</span> <span style=\"background-color: #FFFEFE\">UNK</span> <span style=\"background-color: #F2F2FF\">of</span> <span style=\"background-color: #FFFCFC\">cleaning</span> <span style=\"background-color: #FAFAFF\">materials</span> <span style=\"background-color: #FEFEFF\">.</span></p>"
      ]
     },
     "metadata": {},
     "output_type": "display_data"
    }
   ],
   "source": [
    "i = 12077\n",
    "tokens_and_weights = explain(model, data.loc[i], \"Title\")\n",
    "draw_html([(tok, weight * 5) for tok, weight in tokens_and_weights], font_style='font-size:20px;');\n",
    "\n",
    "tokens_and_weights = explain(model, data.loc[i], \"FullDescription\")\n",
    "draw_html([(tok, weight * 10) for tok, weight in tokens_and_weights]);"
   ]
  },
  {
   "cell_type": "code",
   "execution_count": 130,
   "metadata": {},
   "outputs": [
    {
     "name": "stdout",
     "output_type": "stream",
     "text": [
      "Index: 116831\n",
      "Salary (gbp): 22756.889603877582\n"
     ]
    },
    {
     "data": {
      "text/html": [
       "<p style=\"font-size:20px;\"><span style=\"background-color: #ACACFF\">front</span> <span style=\"background-color: #FFBCBC\">end</span> <span style=\"background-color: #8C8CFF\">web</span> <span style=\"background-color: #D8D8FF\">designer</span> <span style=\"background-color: #F6F6FF\">/</span> <span style=\"background-color: #E0E0FF\">front</span> <span style=\"background-color: #E2E2FF\">end</span> <span style=\"background-color: #FFB6B6\">web</span> <span style=\"background-color: #FFE8E8\">developer</span></p>"
      ]
     },
     "metadata": {},
     "output_type": "display_data"
    },
    {
     "data": {
      "text/html": [
       "<p style=\"font-size:14px;\"><span style=\"background-color: #FAFAFF\">front</span> <span style=\"background-color: #8080FF\">end</span> <span style=\"background-color: #FEFEFF\">web</span> <span style=\"background-color: #FFF6F6\">designer</span> <span style=\"background-color: #FFFEFE\">/</span> <span style=\"background-color: #FFFEFE\">front</span> <span style=\"background-color: #FFE8E8\">end</span> <span style=\"background-color: #FFEEEE\">web</span> <span style=\"background-color: #FFFEFE\">UNK</span> <span style=\"background-color: #FFFEFE\">the</span> <span style=\"background-color: #FFFEFE\">UNK</span> <span style=\"background-color: #FFFEFE\">end</span> <span style=\"background-color: #FFE2E2\">web</span> <span style=\"background-color: #FFFEFE\">designer</span> <span style=\"background-color: #FFFAFA\">/</span> <span style=\"background-color: #7474FF\">developerlocation</span> <span style=\"background-color: #FFFEFE\">:</span> <span style=\"background-color: #FFFEFE\">preston</span> <span style=\"background-color: #FFFEFE\">UNK</span> <span style=\"background-color: #FFFEFE\">:</span> <span style=\"background-color: #8C8CFF\">up</span> <span style=\"background-color: #7E7EFF\">to</span> <span style=\"background-color: #FFFEFE\">****</span> <span style=\"background-color: #FAFAFF\">basic</span> <span style=\"background-color: #FEFEFF\">salary</span> <span style=\"background-color: #FFFEFE\">pension</span> <span style=\"background-color: #FEFEFF\">23</span> <span style=\"background-color: #FFF8F8\">days</span> <span style=\"background-color: #E3E3FF\">holiday</span> <span style=\"background-color: #FEFEFF\">statutory</span> <span style=\"background-color: #FFFEFE\">UNK</span> <span style=\"background-color: #FFFEFE\">end</span> <span style=\"background-color: #FFECEC\">web</span> <span style=\"background-color: #FCFCFF\">designer</span> <span style=\"background-color: #FFFAFA\">/</span> <span style=\"background-color: #FFE8E8\">front</span> <span style=\"background-color: #D2D2FF\">end</span> <span style=\"background-color: #A8A8FF\">web</span> <span style=\"background-color: #FFFEFE\">developer</span> <span style=\"background-color: #FFFEFE\">sought</span> <span style=\"background-color: #F8F8FF\">by</span> <span style=\"background-color: #F0F0FF\">my</span> <span style=\"background-color: #F2F2FF\">client</span> <span style=\"background-color: #F2F2FF\">who</span> <span style=\"background-color: #F2F2FF\">are</span> <span style=\"background-color: #FFC6C6\">market</span> <span style=\"background-color: #F3F3FF\">leaders</span> <span style=\"background-color: #FFE4E4\">within</span> <span style=\"background-color: #FFFEFE\">the</span> <span style=\"background-color: #FFF6F6\">design</span> <span style=\"background-color: #EEEEFF\">,</span> <span style=\"background-color: #EAEAFF\">build</span> <span style=\"background-color: #F0F0FF\">,</span> <span style=\"background-color: #F8F8FF\">development</span> <span style=\"background-color: #F0F0FF\">and</span> <span style=\"background-color: #FEFEFF\">maintenance</span> <span style=\"background-color: #A6A6FF\">of</span> <span style=\"background-color: #FFFEFE\">websites</span> <span style=\"background-color: #FFFEFE\">as</span> <span style=\"background-color: #FFFEFE\">well</span> <span style=\"background-color: #FCFCFF\">as</span> <span style=\"background-color: #FFF0F0\">web</span> <span style=\"background-color: #EEEEFF\">apps</span> <span style=\"background-color: #F0F0FF\">within</span> <span style=\"background-color: #F0F0FF\">the</span> <span style=\"background-color: #FFF2F2\">public</span> <span style=\"background-color: #FFFCFC\">and</span> <span style=\"background-color: #F2F2FF\">private</span> <span style=\"background-color: #FFFEFE\">sector</span> <span style=\"background-color: #FFE6E6\">.</span> <span style=\"background-color: #FEFEFF\">due</span> <span style=\"background-color: #C6C6FF\">to</span> <span style=\"background-color: #F0F0FF\">their</span> <span style=\"background-color: #FFFEFE\">continued</span> <span style=\"background-color: #FFF2F2\">success</span> <span style=\"background-color: #C8C8FF\">,</span> <span style=\"background-color: #ECECFF\">growth</span> <span style=\"background-color: #DCDCFF\">and</span> <span style=\"background-color: #FFECEC\">relocation</span> <span style=\"background-color: #FFE4E4\">to</span> <span style=\"background-color: #FFDCDC\">newly</span> <span style=\"background-color: #FFF0F0\">built</span> <span style=\"background-color: #F8F8FF\">premises</span> <span style=\"background-color: #F3F3FF\">they</span> <span style=\"background-color: #F3F3FF\">are</span> <span style=\"background-color: #FFF6F6\">now</span> <span style=\"background-color: #F3F3FF\">looking</span> <span style=\"background-color: #FEFEFF\">to</span> <span style=\"background-color: #FEFEFF\">add</span> <span style=\"background-color: #DADAFF\">a</span> <span style=\"background-color: #F3F3FF\">front</span> <span style=\"background-color: #AEAEFF\">end</span> <span style=\"background-color: #FFE2E2\">web</span> <span style=\"background-color: #F3F3FF\">designer</span> <span style=\"background-color: #FFFEFE\">/</span> <span style=\"background-color: #FFDEDE\">front</span> <span style=\"background-color: #CACAFF\">end</span> <span style=\"background-color: #FFEAEA\">web</span> <span style=\"background-color: #FFF8F8\">developer</span> <span style=\"background-color: #FEFEFF\">to</span> <span style=\"background-color: #FFDEDE\">their</span> <span style=\"background-color: #EEEEFF\">team</span> <span style=\"background-color: #FFA2A2\">.</span> <span style=\"background-color: #FF9E9E\">you</span> <span style=\"background-color: #FFFCFC\">will</span> <span style=\"background-color: #FFD3D3\">be</span> <span style=\"background-color: #FF9E9E\">working</span> <span style=\"background-color: #FFE2E2\">within</span> <span style=\"background-color: #FFFEFE\">a</span> <span style=\"background-color: #FFF6F6\">dynamic</span> <span style=\"background-color: #F0F0FF\">and</span> <span style=\"background-color: #E2E2FF\">supportive</span> <span style=\"background-color: #DEDEFF\">delivery</span> <span style=\"background-color: #E6E6FF\">team</span> <span style=\"background-color: #FFF8F8\">to</span> <span style=\"background-color: #DADAFF\">design</span> <span style=\"background-color: #E2E2FF\">and</span> <span style=\"background-color: #E2E2FF\">deliver</span> <span style=\"background-color: #F8F8FF\">effective</span> <span style=\"background-color: #F8F8FF\">,</span> <span style=\"background-color: #FAFAFF\">high</span> <span style=\"background-color: #FFF6F6\">quality</span> <span style=\"background-color: #FFFEFE\">,</span> <span style=\"background-color: #FFFAFA\">interfaces</span> <span style=\"background-color: #FFFEFE\">for</span> <span style=\"background-color: #FFFCFC\">the</span> <span style=\"background-color: #FFFCFC\">company</span> <span style=\"background-color: #FFE2E2\">s</span> <span style=\"background-color: #FAFAFF\">websites</span> <span style=\"background-color: #FFFEFE\">and</span> <span style=\"background-color: #FFFEFE\">mobile</span> <span style=\"background-color: #FFF2F2\">apps</span> <span style=\"background-color: #FFFEFE\">.</span> <span style=\"background-color: #FFFEFE\">if</span> <span style=\"background-color: #FAFAFF\">you</span> <span style=\"background-color: #EEEEFF\">are</span> <span style=\"background-color: #E8E8FF\">an</span> <span style=\"background-color: #FAFAFF\">experienced</span> <span style=\"background-color: #C2C2FF\">front</span> <span style=\"background-color: #8C8CFF\">end</span> <span style=\"background-color: #FFF0F0\">web</span> <span style=\"background-color: #FFFEFE\">designer</span> <span style=\"background-color: #FFFEFE\">/</span> <span style=\"background-color: #FFF2F2\">front</span> <span style=\"background-color: #F6F6FF\">end</span> <span style=\"background-color: #4848FF\">web</span> <span style=\"background-color: #FFFEFE\">developer</span> <span style=\"background-color: #FFFEFE\">within</span> <span style=\"background-color: #FFF6F6\">a</span> <span style=\"background-color: #FFFCFC\">commutable</span> <span style=\"background-color: #D6D6FF\">distance</span> <span style=\"background-color: #FFFEFE\">to</span> <span style=\"background-color: #FFFEFE\">the</span> <span style=\"background-color: #FFF4F4\">preston</span> <span style=\"background-color: #FFFEFE\">,</span> <span style=\"background-color: #DCDCFF\">lancashire</span> <span style=\"background-color: #DCDCFF\">office</span> <span style=\"background-color: #DCDCFF\">then</span> <span style=\"background-color: #EAEAFF\">this</span> <span style=\"background-color: #FFF4F4\">is</span> <span style=\"background-color: #AEAEFF\">the</span> <span style=\"background-color: #FFD3D3\">role</span> <span style=\"background-color: #4E4EFF\">for</span> <span style=\"background-color: #FFFEFE\">UNK</span> <span style=\"background-color: #9696FF\">experience</span> <span style=\"background-color: #FFF6F6\">ability</span> <span style=\"background-color: #A2A2FF\">to</span> <span style=\"background-color: #C2C2FF\">design</span> <span style=\"background-color: #FFFAFA\">clean</span> <span style=\"background-color: #FFE6E6\">,</span> <span style=\"background-color: #FFFAFA\">fresh</span> <span style=\"background-color: #FFFCFC\">,</span> <span style=\"background-color: #FCFCFF\">well</span> <span style=\"background-color: #FCFCFF\">organised</span> <span style=\"background-color: #FFFAFA\">website</span> <span style=\"background-color: #FFE4E4\">and</span> <span style=\"background-color: #FCFCFF\">app</span> <span style=\"background-color: #FFFEFE\">UNK</span> <span style=\"background-color: #FFC2C2\">of</span> <span style=\"background-color: #FFE2E2\">web</span> <span style=\"background-color: #FFC3C3\">usability</span> <span style=\"background-color: #FFC3C3\">and</span> <span style=\"background-color: #FFCECE\">conversion</span> <span style=\"background-color: #FFEAEA\">optimisation</span> <span style=\"background-color: #FFFEFE\">UNK</span> <span style=\"background-color: #ECECFF\">to</span> <span style=\"background-color: #F0F0FF\">convert</span> <span style=\"background-color: #E2E2FF\">your</span> <span style=\"background-color: #FAFAFF\">psd</span> <span style=\"background-color: #6C6CFF\">designs</span> <span style=\"background-color: #FFFEFE\">into</span> <span style=\"background-color: #3C3CFF\">validated</span> <span style=\"background-color: #FFFEFE\">xhtml</span> <span style=\"background-color: #FFFEFE\">/</span> <span style=\"background-color: #A2A2FF\">css</span> <span style=\"background-color: #FFFEFE\">UNK</span> <span style=\"background-color: #FFFAFA\">with</span> <span style=\"background-color: #FFFAFA\">front</span> <span style=\"background-color: #4646FF\">end</span> <span style=\"background-color: #EAEAFF\">coding</span> <span style=\"background-color: #E8E8FF\">frameworks</span> <span style=\"background-color: #FFFCFC\">libraries</span> <span style=\"background-color: #FFFEFE\">e</span> <span style=\"background-color: #FFFEFE\">.</span> <span style=\"background-color: #FFF0F0\">g</span> <span style=\"background-color: #FFFEFE\">.</span> <span style=\"background-color: #FFFEFE\">UNK</span> <span style=\"background-color: #FFFEFE\">approach</span> <span style=\"background-color: #F2F2FF\">incorporating</span> <span style=\"background-color: #FFFEFE\">accessibility</span> <span style=\"background-color: #FFFEFE\">,</span> <span style=\"background-color: #FFFEFE\">usability</span> <span style=\"background-color: #FFFEFE\">and</span> <span style=\"background-color: #FFFAFA\">browser</span> <span style=\"background-color: #FFFEFE\">UNK</span> <span style=\"background-color: #FFFEFE\">standard</span> <span style=\"background-color: #FFDEDE\">of</span> <span style=\"background-color: #FFFAFA\">written</span> <span style=\"background-color: #FFDEDE\">english</span> <span style=\"background-color: #FFDEDE\">spelling</span> <span style=\"background-color: #FFE4E4\">and</span> <span style=\"background-color: #FFFEFE\">UNK</span> <span style=\"background-color: #F2F2FF\">to</span> <span style=\"background-color: #FFFEFE\">work</span> <span style=\"background-color: #FFFEFE\">on</span> <span style=\"background-color: #FFFEFE\">own</span> <span style=\"background-color: #E0E0FF\">initiative</span> <span style=\"background-color: #EAEAFF\">and</span> <span style=\"background-color: #FFEAEA\">within</span> <span style=\"background-color: #FFE8E8\">a</span> <span style=\"background-color: #FFEAEA\">development</span> <span style=\"background-color: #FFFEFE\">UNK</span> <span style=\"background-color: #FFECEC\">to</span> <span style=\"background-color: #FFFEFE\">work</span> <span style=\"background-color: #FFFEFE\">to</span> <span style=\"background-color: #FFFEFE\">UNK</span> <span style=\"background-color: #FCFCFF\">within</span> <span style=\"background-color: #FFFCFC\">a</span> <span style=\"background-color: #FFFCFC\">commutable</span> <span style=\"background-color: #FAFAFF\">distance</span> <span style=\"background-color: #FFFEFE\">of</span> <span style=\"background-color: #FFFEFE\">the</span> <span style=\"background-color: #FFF0F0\">preston</span> <span style=\"background-color: #FFF4F4\">,</span> <span style=\"background-color: #FFF4F4\">lancashire</span> <span style=\"background-color: #FFEAEA\">office</span> <span style=\"background-color: #FFFEFE\">(****</span> <span style=\"background-color: #FFFEFE\">miles</span> <span style=\"background-color: #FEFEFF\">)</span> <span style=\"background-color: #FFFEFE\">desirable</span> <span style=\"background-color: #FFDEDE\">,</span> <span style=\"background-color: #B2B2FF\">but</span> <span style=\"background-color: #9393FF\">not</span> <span style=\"background-color: #3A3AFF\">essential</span> <span style=\"background-color: #9C9CFF\">experience</span> <span style=\"background-color: #5E5EFF\">of</span> <span style=\"background-color: #AAAAFF\">coding</span> <span style=\"background-color: #FFFAFA\">frameworks</span> <span style=\"background-color: #E6E6FF\">e</span> <span style=\"background-color: #FFF4F4\">.</span> <span style=\"background-color: #FFFAFA\">g</span> <span style=\"background-color: #FFFEFE\">.</span> <span style=\"background-color: #FFFEFE\">UNK</span> <span style=\"background-color: #FFF8F8\">of</span> <span style=\"background-color: #FFFEFE\">open</span> <span style=\"background-color: #FFFEFE\">source</span> <span style=\"background-color: #FFFEFE\">ecommerce</span> <span style=\"background-color: #FFFEFE\">UNK</span> <span style=\"background-color: #F8F8FF\">of</span> <span style=\"background-color: #FAFAFF\">secure</span> <span style=\"background-color: #FFFEFE\">payment</span> <span style=\"background-color: #FFFEFE\">handling</span> <span style=\"background-color: #FEFEFF\">,</span> <span style=\"background-color: #FCFCFF\">e</span> <span style=\"background-color: #FEFEFF\">.</span> <span style=\"background-color: #FEFEFF\">g</span> <span style=\"background-color: #FAFAFF\">.</span> <span style=\"background-color: #FEFEFF\">ssl</span> <span style=\"background-color: #FFECEC\">,</span> <span style=\"background-color: #FFFCFC\">paypal</span> <span style=\"background-color: #FFFAFA\">,</span> <span style=\"background-color: #FFFEFE\">UNK</span> <span style=\"background-color: #FFFEFE\">of</span> <span style=\"background-color: #FFFEFE\">current</span> <span style=\"background-color: #9393FF\">google</span> <span style=\"background-color: #FFFEFE\">seo</span> <span style=\"background-color: #FFF8F8\">optimisation</span> <span style=\"background-color: #FFFEFE\">UNK</span> <span style=\"background-color: #FFFCFC\">of</span> <span style=\"background-color: #FFFEFE\">mobile</span> <span style=\"background-color: #FFFEFE\">app</span> <span style=\"background-color: #F2F2FF\">development</span> <span style=\"background-color: #FFFEFE\">UNK</span> <span style=\"background-color: #FFFEFE\">gathering</span> <span style=\"background-color: #FFFEFE\">,</span> <span style=\"background-color: #FFFEFE\">documentation</span> <span style=\"background-color: #D3D3FF\">and</span> <span style=\"background-color: #FFFEFE\">change</span> <span style=\"background-color: #FFFEFE\">control</span> <span style=\"background-color: #FFFEFE\">skills</span> <span style=\"background-color: #FFFEFE\">if</span> <span style=\"background-color: #FFF6F6\">you</span> <span style=\"background-color: #E8E8FF\">tick</span> <span style=\"background-color: #E8E8FF\">the</span> <span style=\"background-color: #E8E8FF\">boxes</span> <span style=\"background-color: #FFF4F4\">above</span> <span style=\"background-color: #FFF2F2\">then</span> <span style=\"background-color: #F8F8FF\">please</span> <span style=\"background-color: #FFFEFE\">apply</span> <span style=\"background-color: #FFFEFE\">UNK</span> <span style=\"background-color: #FEFEFF\">us</span> <span style=\"background-color: #FFFEFE\">on</span> <span style=\"background-color: #E3E3FF\">twitter</span> <span style=\"background-color: #FFFEFE\">UNK</span> <span style=\"background-color: #FFFEFE\">respect</span> <span style=\"background-color: #FFFEFE\">to</span> <span style=\"background-color: #FFFEFE\">the</span> <span style=\"background-color: #FFFEFE\">above</span> <span style=\"background-color: #FFD3D3\">role</span> <span style=\"background-color: #FFE4E4\">(</span> <span style=\"background-color: #FFFEFE\">s</span> <span style=\"background-color: #FFFEFE\">),</span> <span style=\"background-color: #FFFEFE\">anderson</span> <span style=\"background-color: #FFFEFE\">wright</span> <span style=\"background-color: #FFFEFE\">consulting</span> <span style=\"background-color: #E6E6FF\">ltd</span> <span style=\"background-color: #FFFEFE\">operates</span> <span style=\"background-color: #FFFEFE\">as</span> <span style=\"background-color: #FFFEFE\">UNK</span> <span style=\"background-color: #FFFEFE\">UNK</span> <span style=\"background-color: #FFFEFE\">end</span> <span style=\"background-color: #FAFAFF\">web</span> <span style=\"background-color: #FFFEFE\">designer</span> <span style=\"background-color: #FFFEFE\">/</span> <span style=\"background-color: #FFE4E4\">front</span> <span style=\"background-color: #F0F0FF\">end</span> <span style=\"background-color: #A0A0FF\">web</span> <span style=\"background-color: #FFFEFE\">developer</span></p>"
      ]
     },
     "metadata": {},
     "output_type": "display_data"
    }
   ],
   "source": [
    "i = np.random.randint(len(data))\n",
    "print(\"Index:\", i)\n",
    "print(\"Salary (gbp):\", np.expm1(model(make_batch(data.iloc[i: i+1]))[0].detach().numpy().item()))\n",
    "\n",
    "tokens_and_weights = explain(model, data.loc[i], \"Title\")\n",
    "draw_html([(tok, weight * 5) for tok, weight in tokens_and_weights], font_style='font-size:20px;');\n",
    "\n",
    "tokens_and_weights = explain(model, data.loc[i], \"FullDescription\")\n",
    "draw_html([(tok, weight * 10) for tok, weight in tokens_and_weights]);"
   ]
  },
  {
   "cell_type": "markdown",
   "metadata": {},
   "source": [
    "__Terrible start-up idea #1962:__ make a tool that automaticaly rephrases your job description (or CV) to meet salary expectations :)"
   ]
  }
 ],
 "metadata": {
  "kernelspec": {
   "display_name": "nlp-venv-37",
   "language": "python",
   "name": "nlp-venv-37"
  },
  "language_info": {
   "codemirror_mode": {
    "name": "ipython",
    "version": 3
   },
   "file_extension": ".py",
   "mimetype": "text/x-python",
   "name": "python",
   "nbconvert_exporter": "python",
   "pygments_lexer": "ipython3",
   "version": "3.7.3"
  }
 },
 "nbformat": 4,
 "nbformat_minor": 2
}
